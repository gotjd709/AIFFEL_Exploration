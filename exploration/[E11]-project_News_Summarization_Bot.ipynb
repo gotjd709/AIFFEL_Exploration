{
 "cells": [
  {
   "cell_type": "markdown",
   "id": "confused-oracle",
   "metadata": {},
   "source": [
    "E11. News Summarization Bot\n",
    "===\n",
    "\n",
    "네이버의 뉴스요약과 같은 기능을 구현하기 위해 뉴스 기사를 정수인코딩으로 하여 요약해보자.\n",
    "\n",
    "![image](https://user-images.githubusercontent.com/70703320/109194015-55bea500-77dc-11eb-8911-b284cb2c9fc6.png)\n",
    "\n",
    "[출처](https://biz.chosun.com/site/data/html_dir/2017/12/05/2017120502576.html)\n",
    "\n",
    "\n",
    "## 1. 데이터 준비하기\n",
    "\n",
    "\n",
    "#### 라이브러리 실행"
   ]
  },
  {
   "cell_type": "code",
   "execution_count": 1,
   "id": "requested-flood",
   "metadata": {},
   "outputs": [
    {
     "name": "stderr",
     "output_type": "stream",
     "text": [
      "[nltk_data] Downloading package stopwords to /home/aiffel-\n",
      "[nltk_data]     dj63/nltk_data...\n",
      "[nltk_data]   Package stopwords is already up-to-date!\n"
     ]
    }
   ],
   "source": [
    "import nltk\n",
    "nltk.download('stopwords')\n",
    "\n",
    "import numpy as np\n",
    "import pandas as pd\n",
    "import os\n",
    "import re\n",
    "import matplotlib.pyplot as plt\n",
    "from nltk.corpus import stopwords\n",
    "from bs4 import BeautifulSoup \n",
    "from tensorflow.keras.preprocessing.text import Tokenizer \n",
    "from tensorflow.keras.preprocessing.sequence import pad_sequences\n",
    "import urllib.request"
   ]
  },
  {
   "cell_type": "markdown",
   "id": "brief-blackberry",
   "metadata": {},
   "source": [
    "#### 데이터 수집하기"
   ]
  },
  {
   "cell_type": "code",
   "execution_count": 2,
   "id": "african-chaos",
   "metadata": {},
   "outputs": [
    {
     "name": "stdout",
     "output_type": "stream",
     "text": [
      "전체 샘플수 : 98401\n"
     ]
    }
   ],
   "source": [
    "import urllib.request\n",
    "urllib.request.urlretrieve(\"https://raw.githubusercontent.com/sunnysai12345/News_Summary/master/news_summary_more.csv\", filename=\"news_summary_more.csv\")\n",
    "data = pd.read_csv('news_summary_more.csv', encoding='iso-8859-1')\n",
    "print('전체 샘플수 :',(len(data)))"
   ]
  },
  {
   "cell_type": "markdown",
   "id": "expected-jesus",
   "metadata": {},
   "source": [
    "#### 5개만 출력해보기"
   ]
  },
  {
   "cell_type": "code",
   "execution_count": 3,
   "id": "visible-england",
   "metadata": {},
   "outputs": [
    {
     "data": {
      "text/html": [
       "<div>\n",
       "<style scoped>\n",
       "    .dataframe tbody tr th:only-of-type {\n",
       "        vertical-align: middle;\n",
       "    }\n",
       "\n",
       "    .dataframe tbody tr th {\n",
       "        vertical-align: top;\n",
       "    }\n",
       "\n",
       "    .dataframe thead th {\n",
       "        text-align: right;\n",
       "    }\n",
       "</style>\n",
       "<table border=\"1\" class=\"dataframe\">\n",
       "  <thead>\n",
       "    <tr style=\"text-align: right;\">\n",
       "      <th></th>\n",
       "      <th>headlines</th>\n",
       "      <th>text</th>\n",
       "    </tr>\n",
       "  </thead>\n",
       "  <tbody>\n",
       "    <tr>\n",
       "      <th>0</th>\n",
       "      <td>upGrad learner switches to career in ML &amp; Al w...</td>\n",
       "      <td>Saurav Kant, an alumnus of upGrad and IIIT-B's...</td>\n",
       "    </tr>\n",
       "    <tr>\n",
       "      <th>1</th>\n",
       "      <td>Delhi techie wins free food from Swiggy for on...</td>\n",
       "      <td>Kunal Shah's credit card bill payment platform...</td>\n",
       "    </tr>\n",
       "    <tr>\n",
       "      <th>2</th>\n",
       "      <td>New Zealand end Rohit Sharma-led India's 12-ma...</td>\n",
       "      <td>New Zealand defeated India by 8 wickets in the...</td>\n",
       "    </tr>\n",
       "    <tr>\n",
       "      <th>3</th>\n",
       "      <td>Aegon life iTerm insurance plan helps customer...</td>\n",
       "      <td>With Aegon Life iTerm Insurance plan, customer...</td>\n",
       "    </tr>\n",
       "    <tr>\n",
       "      <th>4</th>\n",
       "      <td>Have known Hirani for yrs, what if MeToo claim...</td>\n",
       "      <td>Speaking about the sexual harassment allegatio...</td>\n",
       "    </tr>\n",
       "  </tbody>\n",
       "</table>\n",
       "</div>"
      ],
      "text/plain": [
       "                                           headlines  \\\n",
       "0  upGrad learner switches to career in ML & Al w...   \n",
       "1  Delhi techie wins free food from Swiggy for on...   \n",
       "2  New Zealand end Rohit Sharma-led India's 12-ma...   \n",
       "3  Aegon life iTerm insurance plan helps customer...   \n",
       "4  Have known Hirani for yrs, what if MeToo claim...   \n",
       "\n",
       "                                                text  \n",
       "0  Saurav Kant, an alumnus of upGrad and IIIT-B's...  \n",
       "1  Kunal Shah's credit card bill payment platform...  \n",
       "2  New Zealand defeated India by 8 wickets in the...  \n",
       "3  With Aegon Life iTerm Insurance plan, customer...  \n",
       "4  Speaking about the sexual harassment allegatio...  "
      ]
     },
     "execution_count": 3,
     "metadata": {},
     "output_type": "execute_result"
    }
   ],
   "source": [
    "data.head()"
   ]
  },
  {
   "cell_type": "markdown",
   "id": "adequate-following",
   "metadata": {},
   "source": [
    "## 2. 데이터 전처리하기\n",
    "\n",
    "#### 중복 샘플과 NULL 값이 존재하는 샘플 제거"
   ]
  },
  {
   "cell_type": "code",
   "execution_count": 4,
   "id": "external-graduation",
   "metadata": {},
   "outputs": [
    {
     "name": "stdout",
     "output_type": "stream",
     "text": [
      "text 열에서 중복을 배제한 유일한 샘플의 수 : 98360\n",
      "headlines 열에서 중복을 배제한 유일한 샘플의 수 : 98280\n"
     ]
    }
   ],
   "source": [
    "print('text 열에서 중복을 배제한 유일한 샘플의 수 :', data['text'].nunique())\n",
    "print('headlines 열에서 중복을 배제한 유일한 샘플의 수 :', data['headlines'].nunique())"
   ]
  },
  {
   "cell_type": "markdown",
   "id": "czech-tract",
   "metadata": {},
   "source": [
    "#### 데이터프레임의 drop_duplicates()를 사용하면, 손쉽게 중복 샘플을 제거"
   ]
  },
  {
   "cell_type": "code",
   "execution_count": 5,
   "id": "brave-emerald",
   "metadata": {},
   "outputs": [
    {
     "name": "stdout",
     "output_type": "stream",
     "text": [
      "전체 샘플수 : 98360\n"
     ]
    }
   ],
   "source": [
    "data.drop_duplicates(subset = ['text'], inplace = True)\n",
    "print('전체 샘플수 :',(len(data)))"
   ]
  },
  {
   "cell_type": "markdown",
   "id": "thirty-favorite",
   "metadata": {},
   "source": [
    "#### 데이터프레임에 Null 값이 있는지 확인"
   ]
  },
  {
   "cell_type": "code",
   "execution_count": 6,
   "id": "rough-investor",
   "metadata": {},
   "outputs": [
    {
     "name": "stdout",
     "output_type": "stream",
     "text": [
      "headlines    0\n",
      "text         0\n",
      "dtype: int64\n"
     ]
    }
   ],
   "source": [
    "print(data.isnull().sum())"
   ]
  },
  {
   "cell_type": "markdown",
   "id": "distributed-geography",
   "metadata": {},
   "source": [
    "#### 텍스트 정규화 사전 만들기"
   ]
  },
  {
   "cell_type": "code",
   "execution_count": 7,
   "id": "virtual-mediterranean",
   "metadata": {},
   "outputs": [
    {
     "name": "stdout",
     "output_type": "stream",
     "text": [
      "정규화 사전의 수:  120\n"
     ]
    }
   ],
   "source": [
    "contractions = {\"ain't\": \"is not\", \"aren't\": \"are not\",\"can't\": \"cannot\", \"'cause\": \"because\", \"could've\": \"could have\", \"couldn't\": \"could not\",\n",
    "                           \"didn't\": \"did not\",  \"doesn't\": \"does not\", \"don't\": \"do not\", \"hadn't\": \"had not\", \"hasn't\": \"has not\", \"haven't\": \"have not\",\n",
    "                           \"he'd\": \"he would\",\"he'll\": \"he will\", \"he's\": \"he is\", \"how'd\": \"how did\", \"how'd'y\": \"how do you\", \"how'll\": \"how will\", \"how's\": \"how is\",\n",
    "                           \"I'd\": \"I would\", \"I'd've\": \"I would have\", \"I'll\": \"I will\", \"I'll've\": \"I will have\",\"I'm\": \"I am\", \"I've\": \"I have\", \"i'd\": \"i would\",\n",
    "                           \"i'd've\": \"i would have\", \"i'll\": \"i will\",  \"i'll've\": \"i will have\",\"i'm\": \"i am\", \"i've\": \"i have\", \"isn't\": \"is not\", \"it'd\": \"it would\",\n",
    "                           \"it'd've\": \"it would have\", \"it'll\": \"it will\", \"it'll've\": \"it will have\",\"it's\": \"it is\", \"let's\": \"let us\", \"ma'am\": \"madam\",\n",
    "                           \"mayn't\": \"may not\", \"might've\": \"might have\",\"mightn't\": \"might not\",\"mightn't've\": \"might not have\", \"must've\": \"must have\",\n",
    "                           \"mustn't\": \"must not\", \"mustn't've\": \"must not have\", \"needn't\": \"need not\", \"needn't've\": \"need not have\",\"o'clock\": \"of the clock\",\n",
    "                           \"oughtn't\": \"ought not\", \"oughtn't've\": \"ought not have\", \"shan't\": \"shall not\", \"sha'n't\": \"shall not\", \"shan't've\": \"shall not have\",\n",
    "                           \"she'd\": \"she would\", \"she'd've\": \"she would have\", \"she'll\": \"she will\", \"she'll've\": \"she will have\", \"she's\": \"she is\",\n",
    "                           \"should've\": \"should have\", \"shouldn't\": \"should not\", \"shouldn't've\": \"should not have\", \"so've\": \"so have\",\"so's\": \"so as\",\n",
    "                           \"this's\": \"this is\",\"that'd\": \"that would\", \"that'd've\": \"that would have\", \"that's\": \"that is\", \"there'd\": \"there would\",\n",
    "                           \"there'd've\": \"there would have\", \"there's\": \"there is\", \"here's\": \"here is\",\"they'd\": \"they would\", \"they'd've\": \"they would have\",\n",
    "                           \"they'll\": \"they will\", \"they'll've\": \"they will have\", \"they're\": \"they are\", \"they've\": \"they have\", \"to've\": \"to have\",\n",
    "                           \"wasn't\": \"was not\", \"we'd\": \"we would\", \"we'd've\": \"we would have\", \"we'll\": \"we will\", \"we'll've\": \"we will have\", \"we're\": \"we are\",\n",
    "                           \"we've\": \"we have\", \"weren't\": \"were not\", \"what'll\": \"what will\", \"what'll've\": \"what will have\", \"what're\": \"what are\",\n",
    "                           \"what's\": \"what is\", \"what've\": \"what have\", \"when's\": \"when is\", \"when've\": \"when have\", \"where'd\": \"where did\", \"where's\": \"where is\",\n",
    "                           \"where've\": \"where have\", \"who'll\": \"who will\", \"who'll've\": \"who will have\", \"who's\": \"who is\", \"who've\": \"who have\",\n",
    "                           \"why's\": \"why is\", \"why've\": \"why have\", \"will've\": \"will have\", \"won't\": \"will not\", \"won't've\": \"will not have\",\n",
    "                           \"would've\": \"would have\", \"wouldn't\": \"would not\", \"wouldn't've\": \"would not have\", \"y'all\": \"you all\",\n",
    "                           \"y'all'd\": \"you all would\",\"y'all'd've\": \"you all would have\",\"y'all're\": \"you all are\",\"y'all've\": \"you all have\",\n",
    "                           \"you'd\": \"you would\", \"you'd've\": \"you would have\", \"you'll\": \"you will\", \"you'll've\": \"you will have\",\n",
    "                           \"you're\": \"you are\", \"you've\": \"you have\"}\n",
    "\n",
    "print(\"정규화 사전의 수: \",len(contractions))"
   ]
  },
  {
   "cell_type": "markdown",
   "id": "published-administration",
   "metadata": {},
   "source": [
    "#### 불용어 제거해보기"
   ]
  },
  {
   "cell_type": "code",
   "execution_count": 8,
   "id": "norman-geneva",
   "metadata": {},
   "outputs": [
    {
     "name": "stdout",
     "output_type": "stream",
     "text": [
      "불용어 개수 : 179\n",
      "['i', 'me', 'my', 'myself', 'we', 'our', 'ours', 'ourselves', 'you', \"you're\", \"you've\", \"you'll\", \"you'd\", 'your', 'yours', 'yourself', 'yourselves', 'he', 'him', 'his', 'himself', 'she', \"she's\", 'her', 'hers', 'herself', 'it', \"it's\", 'its', 'itself', 'they', 'them', 'their', 'theirs', 'themselves', 'what', 'which', 'who', 'whom', 'this', 'that', \"that'll\", 'these', 'those', 'am', 'is', 'are', 'was', 'were', 'be', 'been', 'being', 'have', 'has', 'had', 'having', 'do', 'does', 'did', 'doing', 'a', 'an', 'the', 'and', 'but', 'if', 'or', 'because', 'as', 'until', 'while', 'of', 'at', 'by', 'for', 'with', 'about', 'against', 'between', 'into', 'through', 'during', 'before', 'after', 'above', 'below', 'to', 'from', 'up', 'down', 'in', 'out', 'on', 'off', 'over', 'under', 'again', 'further', 'then', 'once', 'here', 'there', 'when', 'where', 'why', 'how', 'all', 'any', 'both', 'each', 'few', 'more', 'most', 'other', 'some', 'such', 'no', 'nor', 'not', 'only', 'own', 'same', 'so', 'than', 'too', 'very', 's', 't', 'can', 'will', 'just', 'don', \"don't\", 'should', \"should've\", 'now', 'd', 'll', 'm', 'o', 're', 've', 'y', 'ain', 'aren', \"aren't\", 'couldn', \"couldn't\", 'didn', \"didn't\", 'doesn', \"doesn't\", 'hadn', \"hadn't\", 'hasn', \"hasn't\", 'haven', \"haven't\", 'isn', \"isn't\", 'ma', 'mightn', \"mightn't\", 'mustn', \"mustn't\", 'needn', \"needn't\", 'shan', \"shan't\", 'shouldn', \"shouldn't\", 'wasn', \"wasn't\", 'weren', \"weren't\", 'won', \"won't\", 'wouldn', \"wouldn't\"]\n"
     ]
    }
   ],
   "source": [
    "print('불용어 개수 :', len(stopwords.words('english') ))\n",
    "print(stopwords.words('english'))"
   ]
  },
  {
   "cell_type": "markdown",
   "id": "accomplished-luther",
   "metadata": {},
   "source": [
    "#### 데이터 전처리하기"
   ]
  },
  {
   "cell_type": "code",
   "execution_count": 9,
   "id": "flush-jackson",
   "metadata": {},
   "outputs": [],
   "source": [
    "#데이터 전처리 함수\n",
    "def preprocess_sentence(sentence, remove_stopwords=True):\n",
    "    sentence = sentence.lower() # 텍스트 소문자화\n",
    "    sentence = BeautifulSoup(sentence, \"lxml\").text # <br />, <a href = ...> 등의 html 태그 제거\n",
    "    sentence = re.sub(r'\\([^)]*\\)', '', sentence) # 괄호로 닫힌 문자열 (...) 제거 Ex) my husband (and myself!) for => my husband for\n",
    "    sentence = re.sub('\"','', sentence) # 쌍따옴표 \" 제거\n",
    "    sentence = ' '.join([contractions[t] if t in contractions else t for t in sentence.split(\" \")]) # 약어 정규화\n",
    "    sentence = re.sub(r\"'s\\b\",\"\",sentence) # 소유격 제거. Ex) roland's -> roland\n",
    "    sentence = re.sub(\"[^a-zA-Z]\", \" \", sentence) # 영어 외 문자(숫자, 특수문자 등) 공백으로 변환\n",
    "    sentence = re.sub('[m]{2,}', 'mm', sentence) # m이 3개 이상이면 2개로 변경. Ex) ummmmmmm yeah -> umm yeah\n",
    "    \n",
    "    # 불용어 제거 (Text)\n",
    "    if remove_stopwords:\n",
    "        tokens = ' '.join(word for word in sentence.split() if not word in stopwords.words('english') if len(word) > 1)\n",
    "    # 불용어 미제거 (Summary)\n",
    "    else:\n",
    "        tokens = ' '.join(word for word in sentence.split() if len(word) > 1)\n",
    "    return tokens"
   ]
  },
  {
   "cell_type": "markdown",
   "id": "composed-haven",
   "metadata": {},
   "source": [
    "#### 전체 text 데이터 전처리하기"
   ]
  },
  {
   "cell_type": "code",
   "execution_count": 10,
   "id": "collect-bacteria",
   "metadata": {},
   "outputs": [
    {
     "data": {
      "text/plain": [
       "['saurav kant alumnus upgrad iiit pg program machine learning artificial intelligence sr systems engineer infosys almost years work experience program upgrad degree career support helped transition data scientist tech mahindra salary hike upgrad online power learning powered lakh careers',\n",
       " 'kunal shah credit card bill payment platform cred gave users chance win free food swiggy one year pranav kaushik delhi techie bagged reward spending cred coins users get one cred coin per rupee bill paid used avail rewards brands like ixigo bookmyshow ubereats cult fit',\n",
       " 'new zealand defeated india wickets fourth odi hamilton thursday win first match five match odi series india lost international match rohit sharma captaincy consecutive victories dating back march match witnessed india getting seventh lowest total odi cricket history',\n",
       " 'aegon life iterm insurance plan customers enjoy tax benefits premiums paid save taxes plan provides life cover age years also customers options insure critical illnesses disability accidental death benefit rider life cover age years',\n",
       " 'speaking sexual harassment allegations rajkumar hirani sonam kapoor said known hirani many years true metoo movement get derailed metoo movement always believe woman case need reserve judgment added hirani accused assistant worked sanju']"
      ]
     },
     "execution_count": 10,
     "metadata": {},
     "output_type": "execute_result"
    }
   ],
   "source": [
    "clean_text = []\n",
    "\n",
    "# 전체 text 데이터에 대한 전처리 : 10분 이상 시간이 걸릴 수 있습니다. \n",
    "for s in data['text']:\n",
    "    clean_text.append(preprocess_sentence(s))\n",
    "\n",
    "# 전처리 후 출력\n",
    "clean_text[:5]"
   ]
  },
  {
   "cell_type": "markdown",
   "id": "curious-haven",
   "metadata": {},
   "source": [
    "#### 전체 headlines 데이터 전처리하기"
   ]
  },
  {
   "cell_type": "code",
   "execution_count": 11,
   "id": "charming-humor",
   "metadata": {},
   "outputs": [
    {
     "data": {
      "text/plain": [
       "['upgrad learner switches to career in ml al with salary hike',\n",
       " 'delhi techie wins free food from swiggy for one year on cred',\n",
       " 'new zealand end rohit sharma led india match winning streak',\n",
       " 'aegon life iterm insurance plan helps customers save tax',\n",
       " 'have known hirani for yrs what if metoo claims are not true sonam']"
      ]
     },
     "execution_count": 11,
     "metadata": {},
     "output_type": "execute_result"
    }
   ],
   "source": [
    "clean_headlines = []\n",
    "\n",
    "# 전체 Summary 데이터에 대한 전처리 : 5분 이상 시간이 걸릴 수 있습니다. \n",
    "for s in data['headlines']:\n",
    "    clean_headlines.append(preprocess_sentence(s, False))\n",
    "\n",
    "clean_headlines[:5]"
   ]
  },
  {
   "cell_type": "markdown",
   "id": "exempt-strip",
   "metadata": {},
   "source": [
    "#### 데이터들을 데이터프레임에 재저장하기"
   ]
  },
  {
   "cell_type": "code",
   "execution_count": 12,
   "id": "african-texas",
   "metadata": {},
   "outputs": [],
   "source": [
    "data['text'] = clean_text\n",
    "data['headlines'] = clean_headlines\n",
    "\n",
    "# 빈 값을 Null 값으로 변환\n",
    "data.replace('', np.nan, inplace=True)"
   ]
  },
  {
   "cell_type": "markdown",
   "id": "terminal-bloom",
   "metadata": {},
   "source": [
    "#### Null값이 생겼는지 확인"
   ]
  },
  {
   "cell_type": "code",
   "execution_count": 13,
   "id": "general-belly",
   "metadata": {},
   "outputs": [
    {
     "data": {
      "text/plain": [
       "Unnamed: 0    0\n",
       "headlines     0\n",
       "text          0\n",
       "dtype: int64"
      ]
     },
     "execution_count": 13,
     "metadata": {},
     "output_type": "execute_result"
    }
   ],
   "source": [
    "# 전처리 후 csv 파일 저장\n",
    "#data.to_csv('news_summary_more_after_preprocessing.csv')\n",
    "\n",
    "# 전처리 끝난 csv파일 불러오기\n",
    "data = pd.read_csv('news_summary_more_after_preprocessing.csv', encoding='iso-8859-1')\n",
    "\n",
    "\n",
    "data.isnull().sum()"
   ]
  },
  {
   "cell_type": "markdown",
   "id": "compatible-region",
   "metadata": {},
   "source": [
    "## 3. 훈련데이터와 테스트데이터 나누기\n",
    "\n",
    "#### 샘플의 최대 최소 길이 정하기"
   ]
  },
  {
   "cell_type": "code",
   "execution_count": 14,
   "id": "experienced-apollo",
   "metadata": {},
   "outputs": [
    {
     "name": "stdout",
     "output_type": "stream",
     "text": [
      "텍스트의 최소 길이 : 1\n",
      "텍스트의 최대 길이 : 60\n",
      "텍스트의 평균 길이 : 35.09968483123221\n",
      "헤드라인의 최소 길이 : 1\n",
      "헤드라인의 최대 길이 : 16\n",
      "헤드라인의 평균 길이 : 9.299532330215534\n"
     ]
    },
    {
     "data": {
      "image/png": "[encoded data removed]",
      "text/plain": [
       "<Figure size 432x288 with 2 Axes>"
      ]
     },
     "metadata": {
      "needs_background": "light"
     },
     "output_type": "display_data"
    },
    {
     "data": {
      "image/png": "[encoded data removed]",
      "text/plain": [
       "<Figure size 432x288 with 1 Axes>"
      ]
     },
     "metadata": {
      "needs_background": "light"
     },
     "output_type": "display_data"
    },
    {
     "data": {
      "image/png": "[encoded data removed]",
      "text/plain": [
       "<Figure size 432x288 with 1 Axes>"
      ]
     },
     "metadata": {
      "needs_background": "light"
     },
     "output_type": "display_data"
    }
   ],
   "source": [
    "# 길이 분포 출력\n",
    "import matplotlib.pyplot as plt\n",
    "\n",
    "text_len = [len(s.split()) for s in data['text']]\n",
    "headlines_len = [len(s.split()) for s in data['headlines']]\n",
    "\n",
    "print('텍스트의 최소 길이 : {}'.format(np.min(text_len)))\n",
    "print('텍스트의 최대 길이 : {}'.format(np.max(text_len)))\n",
    "print('텍스트의 평균 길이 : {}'.format(np.mean(text_len)))\n",
    "print('헤드라인의 최소 길이 : {}'.format(np.min(headlines_len)))\n",
    "print('헤드라인의 최대 길이 : {}'.format(np.max(headlines_len)))\n",
    "print('헤드라인의 평균 길이 : {}'.format(np.mean(headlines_len)))\n",
    "\n",
    "plt.subplot(1,2,1)\n",
    "plt.boxplot(headlines_len)\n",
    "plt.title('headlines')\n",
    "plt.subplot(1,2,2)\n",
    "plt.boxplot(text_len)\n",
    "plt.title('text')\n",
    "plt.tight_layout()\n",
    "plt.show()\n",
    "\n",
    "plt.title('headlines')\n",
    "plt.hist(headlines_len, bins = 40)\n",
    "plt.xlabel('length of samples')\n",
    "plt.ylabel('number of samples')\n",
    "plt.show()\n",
    "\n",
    "plt.title('text')\n",
    "plt.hist(text_len, bins = 40)\n",
    "plt.xlabel('length of samples')\n",
    "plt.ylabel('number of samples')\n",
    "plt.show()"
   ]
  },
  {
   "cell_type": "markdown",
   "id": "victorian-promotion",
   "metadata": {},
   "source": [
    "#### Text의 적절한 최대 최소 길이와 Summary의 적절한 최대 최소 길이"
   ]
  },
  {
   "cell_type": "code",
   "execution_count": 15,
   "id": "spoken-craps",
   "metadata": {},
   "outputs": [],
   "source": [
    "text_max_len = 43\n",
    "text_min_len = 27\n",
    "headlines_max_len = 12\n",
    "headlines_min_len = 7"
   ]
  },
  {
   "cell_type": "markdown",
   "id": "baking-paint",
   "metadata": {},
   "source": [
    "mmary_max_len = 8\n",
    "훈련 데이터와 샘플의 길이를 입력하면, 데이터의 몇 %가 해당하는지 계산하는 함수를 만들어서 좀 더 정확하게 판단"
   ]
  },
  {
   "cell_type": "markdown",
   "id": "detailed-criterion",
   "metadata": {},
   "source": [
    "#### 훈련데이터와 샘플의 길이를 입력하면 데이터의 몇 %가 해당하는지 계산하는 함수만들기"
   ]
  },
  {
   "cell_type": "code",
   "execution_count": 16,
   "id": "rapid-peter",
   "metadata": {},
   "outputs": [],
   "source": [
    "def below_threshold_len(max_len, min_len, nested_list):\n",
    "    cnt = 0\n",
    "    for s in nested_list:\n",
    "        if(len(s.split()) <= max_len and len(s.split()) >= min_len):\n",
    "            cnt = cnt + 1\n",
    "    print('전체 샘플 중 길이가 %s이상이고 %s 이하인 샘플의 비율: %s'%(min_len, max_len, (cnt / len(nested_list))))"
   ]
  },
  {
   "cell_type": "markdown",
   "id": "banned-nightlife",
   "metadata": {},
   "source": [
    "#### text와 headlines의 함수적용해주기"
   ]
  },
  {
   "cell_type": "code",
   "execution_count": 17,
   "id": "interpreted-ozone",
   "metadata": {},
   "outputs": [
    {
     "name": "stdout",
     "output_type": "stream",
     "text": [
      "전체 샘플 중 길이가 27이상이고 43 이하인 샘플의 비율: 0.975091500610004\n",
      "전체 샘플 중 길이가 7이상이고 12 이하인 샘플의 비율: 0.9683712891419276\n"
     ]
    }
   ],
   "source": [
    "below_threshold_len(text_max_len, text_min_len, data['text'])\n",
    "below_threshold_len(headlines_max_len, headlines_min_len, data['headlines'])"
   ]
  },
  {
   "cell_type": "markdown",
   "id": "vulnerable-tragedy",
   "metadata": {},
   "source": [
    "#### 정해진 길이보다 길면 잘라주기"
   ]
  },
  {
   "cell_type": "code",
   "execution_count": 18,
   "id": "enormous-nebraska",
   "metadata": {},
   "outputs": [
    {
     "name": "stdout",
     "output_type": "stream",
     "text": [
      "전체 샘플수 : 92901\n"
     ]
    }
   ],
   "source": [
    "data = data[data['text'].apply(lambda x: len(x.split()) >= text_min_len)]\n",
    "data = data[data['text'].apply(lambda x: len(x.split()) <= text_max_len)]\n",
    "data = data[data['headlines'].apply(lambda x: len(x.split()) <= headlines_max_len)]\n",
    "data = data[data['headlines'].apply(lambda x: len(x.split()) >= headlines_min_len)]\n",
    "print('전체 샘플수 :',(len(data)))"
   ]
  },
  {
   "cell_type": "markdown",
   "id": "harmful-singapore",
   "metadata": {},
   "source": []
  },
  {
   "cell_type": "code",
   "execution_count": 19,
   "id": "straight-korean",
   "metadata": {},
   "outputs": [
    {
     "name": "stdout",
     "output_type": "stream",
     "text": [
      "       Unnamed: 0                                          headlines  \\\n",
      "0               0  upgrad learner switches to career in ml al wit...   \n",
      "2               2  new zealand end rohit sharma led india match w...   \n",
      "3               3  aegon life iterm insurance plan helps customer...   \n",
      "5               5  rahat fateh ali khan denies getting notice for...   \n",
      "6               6  india get all out for their lowest odi total i...   \n",
      "...           ...                                                ...   \n",
      "98355       98396  crpf jawan axed to death by maoists in chhatti...   \n",
      "98356       98397  first song from sonakshi sinha noor titled uff...   \n",
      "98357       98398              the matrix film to get reboot reports   \n",
      "98358       98399  snoop dogg aims gun at clown dressed as trump ...   \n",
      "98359       98400  madhesi morcha withdraws support to nepalese g...   \n",
      "\n",
      "                                                    text  \n",
      "0      saurav kant alumnus upgrad iiit pg program mac...  \n",
      "2      new zealand defeated india wickets fourth odi ...  \n",
      "3      aegon life iterm insurance plan customers enjo...  \n",
      "5      pakistani singer rahat fateh ali khan denied r...  \n",
      "6      india recorded lowest odi total new zealand ge...  \n",
      "...                                                  ...  \n",
      "98355  crpf jawan tuesday axed death sharp edged weap...  \n",
      "98356  uff yeh first song sonakshi sinha starrer upco...  \n",
      "98357  according reports new version science fiction ...  \n",
      "98358  new music video shows rapper snoop dogg aiming...  \n",
      "98359  madhesi morcha alliance seven political partie...  \n",
      "\n",
      "[92901 rows x 3 columns]\n"
     ]
    }
   ],
   "source": [
    "print(data)"
   ]
  },
  {
   "cell_type": "markdown",
   "id": "formal-console",
   "metadata": {},
   "source": [
    "#### 시작토큰과 종료토큰을 추가해주기"
   ]
  },
  {
   "cell_type": "code",
   "execution_count": 20,
   "id": "actual-bargain",
   "metadata": {},
   "outputs": [
    {
     "data": {
      "text/html": [
       "<div>\n",
       "<style scoped>\n",
       "    .dataframe tbody tr th:only-of-type {\n",
       "        vertical-align: middle;\n",
       "    }\n",
       "\n",
       "    .dataframe tbody tr th {\n",
       "        vertical-align: top;\n",
       "    }\n",
       "\n",
       "    .dataframe thead th {\n",
       "        text-align: right;\n",
       "    }\n",
       "</style>\n",
       "<table border=\"1\" class=\"dataframe\">\n",
       "  <thead>\n",
       "    <tr style=\"text-align: right;\">\n",
       "      <th></th>\n",
       "      <th>Unnamed: 0</th>\n",
       "      <th>headlines</th>\n",
       "      <th>text</th>\n",
       "      <th>decoder_input</th>\n",
       "      <th>decoder_target</th>\n",
       "    </tr>\n",
       "  </thead>\n",
       "  <tbody>\n",
       "    <tr>\n",
       "      <th>0</th>\n",
       "      <td>0</td>\n",
       "      <td>upgrad learner switches to career in ml al wit...</td>\n",
       "      <td>saurav kant alumnus upgrad iiit pg program mac...</td>\n",
       "      <td>sostoken upgrad learner switches to career in ...</td>\n",
       "      <td>upgrad learner switches to career in ml al wit...</td>\n",
       "    </tr>\n",
       "    <tr>\n",
       "      <th>2</th>\n",
       "      <td>2</td>\n",
       "      <td>new zealand end rohit sharma led india match w...</td>\n",
       "      <td>new zealand defeated india wickets fourth odi ...</td>\n",
       "      <td>sostoken new zealand end rohit sharma led indi...</td>\n",
       "      <td>new zealand end rohit sharma led india match w...</td>\n",
       "    </tr>\n",
       "    <tr>\n",
       "      <th>3</th>\n",
       "      <td>3</td>\n",
       "      <td>aegon life iterm insurance plan helps customer...</td>\n",
       "      <td>aegon life iterm insurance plan customers enjo...</td>\n",
       "      <td>sostoken aegon life iterm insurance plan helps...</td>\n",
       "      <td>aegon life iterm insurance plan helps customer...</td>\n",
       "    </tr>\n",
       "    <tr>\n",
       "      <th>5</th>\n",
       "      <td>5</td>\n",
       "      <td>rahat fateh ali khan denies getting notice for...</td>\n",
       "      <td>pakistani singer rahat fateh ali khan denied r...</td>\n",
       "      <td>sostoken rahat fateh ali khan denies getting n...</td>\n",
       "      <td>rahat fateh ali khan denies getting notice for...</td>\n",
       "    </tr>\n",
       "    <tr>\n",
       "      <th>6</th>\n",
       "      <td>6</td>\n",
       "      <td>india get all out for their lowest odi total i...</td>\n",
       "      <td>india recorded lowest odi total new zealand ge...</td>\n",
       "      <td>sostoken india get all out for their lowest od...</td>\n",
       "      <td>india get all out for their lowest odi total i...</td>\n",
       "    </tr>\n",
       "  </tbody>\n",
       "</table>\n",
       "</div>"
      ],
      "text/plain": [
       "   Unnamed: 0                                          headlines  \\\n",
       "0           0  upgrad learner switches to career in ml al wit...   \n",
       "2           2  new zealand end rohit sharma led india match w...   \n",
       "3           3  aegon life iterm insurance plan helps customer...   \n",
       "5           5  rahat fateh ali khan denies getting notice for...   \n",
       "6           6  india get all out for their lowest odi total i...   \n",
       "\n",
       "                                                text  \\\n",
       "0  saurav kant alumnus upgrad iiit pg program mac...   \n",
       "2  new zealand defeated india wickets fourth odi ...   \n",
       "3  aegon life iterm insurance plan customers enjo...   \n",
       "5  pakistani singer rahat fateh ali khan denied r...   \n",
       "6  india recorded lowest odi total new zealand ge...   \n",
       "\n",
       "                                       decoder_input  \\\n",
       "0  sostoken upgrad learner switches to career in ...   \n",
       "2  sostoken new zealand end rohit sharma led indi...   \n",
       "3  sostoken aegon life iterm insurance plan helps...   \n",
       "5  sostoken rahat fateh ali khan denies getting n...   \n",
       "6  sostoken india get all out for their lowest od...   \n",
       "\n",
       "                                      decoder_target  \n",
       "0  upgrad learner switches to career in ml al wit...  \n",
       "2  new zealand end rohit sharma led india match w...  \n",
       "3  aegon life iterm insurance plan helps customer...  \n",
       "5  rahat fateh ali khan denies getting notice for...  \n",
       "6  india get all out for their lowest odi total i...  "
      ]
     },
     "execution_count": 20,
     "metadata": {},
     "output_type": "execute_result"
    }
   ],
   "source": [
    "#요약 데이터에는 시작 토큰과 종료 토큰을 추가한다.\n",
    "data['decoder_input'] = data['headlines'].apply(lambda x : 'sostoken '+ x)\n",
    "data['decoder_target'] = data['headlines'].apply(lambda x : x + ' eostoken')\n",
    "data.head()"
   ]
  },
  {
   "cell_type": "markdown",
   "id": "robust-antarctica",
   "metadata": {},
   "source": [
    "#### 인코더의 입력, 디코더의 입력, 레이블을 Numpy 타입으로 저장"
   ]
  },
  {
   "cell_type": "code",
   "execution_count": 21,
   "id": "conventional-strategy",
   "metadata": {},
   "outputs": [],
   "source": [
    "encoder_input = np.array(data['text']) # 인코더의 입력\n",
    "decoder_input = np.array(data['decoder_input']) # 디코더의 입력\n",
    "decoder_target = np.array(data['decoder_target']) # 디코더의 레이블"
   ]
  },
  {
   "cell_type": "markdown",
   "id": "annual-library",
   "metadata": {},
   "source": [
    "#### 훈련데이터와 테스트데이트를 분리하기"
   ]
  },
  {
   "cell_type": "code",
   "execution_count": 22,
   "id": "published-glory",
   "metadata": {},
   "outputs": [
    {
     "name": "stdout",
     "output_type": "stream",
     "text": [
      "[58298 48717 49365 ... 71562 10363 18087]\n"
     ]
    }
   ],
   "source": [
    "indices = np.arange(encoder_input.shape[0])\n",
    "np.random.shuffle(indices)\n",
    "print(indices)"
   ]
  },
  {
   "cell_type": "markdown",
   "id": "viral-remedy",
   "metadata": {},
   "source": [
    "#### 정수 시퀀스를 이용해 다시 데이터의 샘플 순서를 정의해주어 섞인 샘플"
   ]
  },
  {
   "cell_type": "code",
   "execution_count": 23,
   "id": "directed-sleeve",
   "metadata": {},
   "outputs": [],
   "source": [
    "encoder_input = encoder_input[indices]\n",
    "decoder_input = decoder_input[indices]\n",
    "decoder_target = decoder_target[indices]"
   ]
  },
  {
   "cell_type": "markdown",
   "id": "angry-empty",
   "metadata": {},
   "source": [
    "####  섞인 데이터를 8:2의 비율로 훈련 데이터와 테스트 데이터로 분리"
   ]
  },
  {
   "cell_type": "code",
   "execution_count": 24,
   "id": "intimate-secondary",
   "metadata": {},
   "outputs": [
    {
     "name": "stdout",
     "output_type": "stream",
     "text": [
      "테스트 데이터의 수 : 18580\n"
     ]
    }
   ],
   "source": [
    "n_of_val = int(len(encoder_input)*0.2)\n",
    "print('테스트 데이터의 수 :',n_of_val)"
   ]
  },
  {
   "cell_type": "markdown",
   "id": "unknown-cooper",
   "metadata": {},
   "source": [
    "#### 테스트 데이터의 갯수를 이용해 전체 데이터를 양분"
   ]
  },
  {
   "cell_type": "code",
   "execution_count": 25,
   "id": "pacific-labor",
   "metadata": {},
   "outputs": [
    {
     "name": "stdout",
     "output_type": "stream",
     "text": [
      "훈련 데이터의 개수 : 74321\n",
      "훈련 레이블의 개수 : 74321\n",
      "테스트 데이터의 개수 : 18580\n",
      "테스트 레이블의 개수 : 18580\n"
     ]
    }
   ],
   "source": [
    "encoder_input_train = encoder_input[:-n_of_val]\n",
    "decoder_input_train = decoder_input[:-n_of_val]\n",
    "decoder_target_train = decoder_target[:-n_of_val]\n",
    "\n",
    "encoder_input_test = encoder_input[-n_of_val:]\n",
    "decoder_input_test = decoder_input[-n_of_val:]\n",
    "decoder_target_test = decoder_target[-n_of_val:]\n",
    "\n",
    "print('훈련 데이터의 개수 :', len(encoder_input_train))\n",
    "print('훈련 레이블의 개수 :',len(decoder_input_train))\n",
    "print('테스트 데이터의 개수 :',len(encoder_input_test))\n",
    "print('테스트 레이블의 개수 :',len(decoder_input_test))"
   ]
  },
  {
   "cell_type": "markdown",
   "id": "divine-player",
   "metadata": {},
   "source": [
    "## 4. 정수 인코딩\n",
    "\n",
    "\n",
    "###  Encoder\n",
    "\n",
    "#### Keras의 토크나이저를 사용하여, 입력된 훈련 데이터로부터 단어 집합을 만들기 "
   ]
  },
  {
   "cell_type": "code",
   "execution_count": 26,
   "id": "instrumental-feelings",
   "metadata": {},
   "outputs": [],
   "source": [
    "src_tokenizer = Tokenizer() # 토크나이저 정의\n",
    "src_tokenizer.fit_on_texts(encoder_input_train) # 입력된 데이터로부터 단어 집합 생성"
   ]
  },
  {
   "cell_type": "markdown",
   "id": "executive-rating",
   "metadata": {},
   "source": [
    "#### 등장 빈도수가 8회 미만인 단어들이 이 데이터에서 얼만큼의 비중을 차지하는지 확인"
   ]
  },
  {
   "cell_type": "code",
   "execution_count": 27,
   "id": "prescribed-registrar",
   "metadata": {},
   "outputs": [
    {
     "name": "stdout",
     "output_type": "stream",
     "text": [
      "단어 집합(vocabulary)의 크기 : 67458\n",
      "등장 빈도가 7번 이하인 희귀 단어의 수: 47360\n",
      "단어 집합에서 희귀 단어를 제외시킬 경우의 단어 집합의 크기 20098\n",
      "단어 집합에서 희귀 단어의 비율: 70.20664709893563\n",
      "전체 등장 빈도에서 희귀 단어 등장 빈도 비율: 3.9679561792856517\n"
     ]
    }
   ],
   "source": [
    "threshold = 8\n",
    "total_cnt = len(src_tokenizer.word_index) # 단어의 수\n",
    "rare_cnt = 0 # 등장 빈도수가 threshold보다 작은 단어의 개수를 카운트\n",
    "total_freq = 0 # 훈련 데이터의 전체 단어 빈도수 총 합\n",
    "rare_freq = 0 # 등장 빈도수가 threshold보다 작은 단어의 등장 빈도수의 총 합\n",
    "\n",
    "# 단어와 빈도수의 쌍(pair)을 key와 value로 받는다.\n",
    "for key, value in src_tokenizer.word_counts.items():\n",
    "    total_freq = total_freq + value\n",
    "\n",
    "    # 단어의 등장 빈도수가 threshold보다 작으면\n",
    "    if(value < threshold):\n",
    "        rare_cnt = rare_cnt + 1\n",
    "        rare_freq = rare_freq + value\n",
    "\n",
    "print('단어 집합(vocabulary)의 크기 :',total_cnt)\n",
    "print('등장 빈도가 %s번 이하인 희귀 단어의 수: %s'%(threshold - 1, rare_cnt))\n",
    "print('단어 집합에서 희귀 단어를 제외시킬 경우의 단어 집합의 크기 %s'%(total_cnt - rare_cnt))\n",
    "print(\"단어 집합에서 희귀 단어의 비율:\", (rare_cnt / total_cnt)*100)\n",
    "print(\"전체 등장 빈도에서 희귀 단어 등장 빈도 비율:\", (rare_freq / total_freq)*100)"
   ]
  },
  {
   "cell_type": "markdown",
   "id": "nuclear-frequency",
   "metadata": {},
   "source": [
    "등장 빈도수가 7회 미만인 단어들이 단어 집합에서 70% 이상을 차지하지만 등장 빈도로 차지하는 비중은 3.958 밖에 되지 않는다. 단어 집합에서 희귀 단어를 제외시킬 경우의 단어 집합의 크기 20112이다.\n",
    "\n",
    "#### 단어 집합의 크기를 20000으로 제한하기"
   ]
  },
  {
   "cell_type": "code",
   "execution_count": 28,
   "id": "sharp-meter",
   "metadata": {},
   "outputs": [],
   "source": [
    "src_vocab = 20000\n",
    "src_tokenizer = Tokenizer(num_words = src_vocab) # 단어 집합의 크기를 20,000으로 제한\n",
    "src_tokenizer.fit_on_texts(encoder_input_train) # 단어 집합 재생성."
   ]
  },
  {
   "cell_type": "markdown",
   "id": "wicked-interpretation",
   "metadata": {},
   "source": [
    "#### texts_to_sequences()을 통하여 정수 인코딩 수행 "
   ]
  },
  {
   "cell_type": "code",
   "execution_count": 29,
   "id": "harmful-mechanism",
   "metadata": {},
   "outputs": [
    {
     "name": "stdout",
     "output_type": "stream",
     "text": [
      "[[9358, 56, 595, 1769, 2192, 9935, 1169, 1444, 11, 13845, 11, 129, 474, 257, 8, 9935, 668, 576, 8845, 1142, 2950, 566, 5525, 4, 223, 194, 68, 5525, 7202, 530, 2460, 371, 56, 595, 1769, 3832, 288, 2, 56, 3832], [136, 596, 2706, 1026, 2743, 359, 1510, 313, 2004, 1345, 1435, 491, 401, 1026, 2743, 223, 1835, 118, 391, 388, 491, 1977, 1609, 3954, 1026, 2743, 4430, 25, 739, 14889, 4600, 2193, 388, 2584], [1205, 17, 12, 423, 182, 3461, 8544, 32, 103, 3307, 1, 4900, 32, 7994, 2426, 96, 6, 1, 96, 2848, 5971, 930, 228, 182, 149, 544, 2038, 4456, 324, 1, 2426, 182, 10, 262]]\n"
     ]
    }
   ],
   "source": [
    "# 텍스트 시퀀스를 정수 시퀀스로 변환\n",
    "encoder_input_train = src_tokenizer.texts_to_sequences(encoder_input_train) \n",
    "encoder_input_test = src_tokenizer.texts_to_sequences(encoder_input_test)\n",
    "\n",
    "#잘 진행되었는지 샘플 출력\n",
    "print(encoder_input_train[:3])"
   ]
  },
  {
   "cell_type": "markdown",
   "id": "sound-plain",
   "metadata": {},
   "source": [
    "생성된 단어 집합에 기반하여 입력으로 주어진 텍스트 데이터의 단어들을 모두 정수로 변환\n",
    "\n",
    "### Decoder\n",
    "\n",
    "#### 훈련 데이터로부터 단어 집합을 만들기"
   ]
  },
  {
   "cell_type": "code",
   "execution_count": 30,
   "id": "perfect-relations",
   "metadata": {},
   "outputs": [],
   "source": [
    "tar_tokenizer = Tokenizer()\n",
    "tar_tokenizer.fit_on_texts(decoder_input_train)"
   ]
  },
  {
   "cell_type": "markdown",
   "id": "cooperative-desert",
   "metadata": {},
   "source": [
    "#### 등장 빈도수가 5회 미만인 단어들이 이 데이터에서 얼만큼의 비중을 차지하는지 확인"
   ]
  },
  {
   "cell_type": "code",
   "execution_count": 31,
   "id": "yellow-birth",
   "metadata": {},
   "outputs": [
    {
     "name": "stdout",
     "output_type": "stream",
     "text": [
      "단어 집합(vocabulary)의 크기 : 29323\n",
      "등장 빈도가 4번 이하인 희귀 단어의 수: 18097\n",
      "단어 집합에서 희귀 단어를 제외시킬 경우의 단어 집합의 크기 11226\n",
      "단어 집합에서 희귀 단어의 비율: 61.71605906626198\n",
      "전체 등장 빈도에서 희귀 단어 등장 빈도 비율: 4.0667095295042825\n"
     ]
    }
   ],
   "source": [
    "threshold = 5\n",
    "total_cnt = len(tar_tokenizer.word_index) # 단어의 수\n",
    "rare_cnt = 0 # 등장 빈도수가 threshold보다 작은 단어의 개수를 카운트\n",
    "total_freq = 0 # 훈련 데이터의 전체 단어 빈도수 총 합\n",
    "rare_freq = 0 # 등장 빈도수가 threshold보다 작은 단어의 등장 빈도수의 총 합\n",
    "\n",
    "# 단어와 빈도수의 쌍(pair)을 key와 value로 받는다.\n",
    "for key, value in tar_tokenizer.word_counts.items():\n",
    "    total_freq = total_freq + value\n",
    "\n",
    "    # 단어의 등장 빈도수가 threshold보다 작으면\n",
    "    if(value < threshold):\n",
    "        rare_cnt = rare_cnt + 1\n",
    "        rare_freq = rare_freq + value\n",
    "\n",
    "print('단어 집합(vocabulary)의 크기 :',total_cnt)\n",
    "print('등장 빈도가 %s번 이하인 희귀 단어의 수: %s'%(threshold - 1, rare_cnt))\n",
    "print('단어 집합에서 희귀 단어를 제외시킬 경우의 단어 집합의 크기 %s'%(total_cnt - rare_cnt))\n",
    "print(\"단어 집합에서 희귀 단어의 비율:\", (rare_cnt / total_cnt)*100)\n",
    "print(\"전체 등장 빈도에서 희귀 단어 등장 빈도 비율:\", (rare_freq / total_freq)*100)"
   ]
  },
  {
   "cell_type": "markdown",
   "id": "freelance-vocabulary",
   "metadata": {},
   "source": [
    "등장 빈도수가 7회 미만인 단어들이 단어 집합에서 61% 이상을 차지하지만 등장 빈도로 차지하는 비중은 4.053 밖에 되지 않는다. 단어 집합에서 희귀 단어를 제외시킬 경우의 단어 집합의 크기 11287이다.\n",
    "\n",
    "\n",
    "#### 단어 집합의 크기를 11000으로 제한하기"
   ]
  },
  {
   "cell_type": "code",
   "execution_count": 32,
   "id": "indirect-performer",
   "metadata": {},
   "outputs": [
    {
     "name": "stdout",
     "output_type": "stream",
     "text": [
      "input\n",
      "input  [[1, 5691, 1238, 11, 1649, 3, 1628, 28, 1445], [1, 2250, 994, 2251, 165, 1319, 820, 3373, 4, 1239], [1, 12, 98, 17, 1505, 385, 50, 709], [1, 7002, 21, 4676, 37, 9, 7428, 7003, 2862], [1, 110, 3, 916, 7, 5692, 185, 10133]]\n",
      "target\n",
      "decoder  [[5691, 1238, 11, 1649, 3, 1628, 28, 1445, 2], [2250, 994, 2251, 165, 1319, 820, 3373, 4, 1239, 2], [12, 98, 17, 1505, 385, 50, 709, 2], [7002, 21, 4676, 37, 9, 7428, 7003, 2862, 2], [110, 3, 916, 7, 5692, 185, 10133, 2]]\n"
     ]
    }
   ],
   "source": [
    "tar_vocab = 11000\n",
    "tar_tokenizer = Tokenizer(num_words = tar_vocab) \n",
    "tar_tokenizer.fit_on_texts(decoder_input_train)\n",
    "tar_tokenizer.fit_on_texts(decoder_target_train)\n",
    "\n",
    "# 텍스트 시퀀스를 정수 시퀀스로 변환\n",
    "decoder_input_train = tar_tokenizer.texts_to_sequences(decoder_input_train) \n",
    "decoder_target_train = tar_tokenizer.texts_to_sequences(decoder_target_train)\n",
    "decoder_input_test = tar_tokenizer.texts_to_sequences(decoder_input_test)\n",
    "decoder_target_test = tar_tokenizer.texts_to_sequences(decoder_target_test)\n",
    "\n",
    "#잘 변환되었는지 확인\n",
    "print('input')\n",
    "print('input ',decoder_input_train[:5])\n",
    "print('target')\n",
    "print('decoder ',decoder_target_train[:5])"
   ]
  },
  {
   "cell_type": "markdown",
   "id": "stunning-participation",
   "metadata": {},
   "source": [
    "decoder_input에는 sostoken, decoder_target에는 eostoken만 남아 있기 때문에 길이가 0인 요약문은 실제 길이가 1로 나올 것이다. \n",
    "\n",
    "\n",
    "#### 훈련 데이터와 테스트 데이터에 대해서 요약문의 길이가 1인 경우의 인덱스를 각각 drop_train과 drop_test에 라는 변수에 저장"
   ]
  },
  {
   "cell_type": "code",
   "execution_count": 33,
   "id": "august-passage",
   "metadata": {},
   "outputs": [
    {
     "name": "stdout",
     "output_type": "stream",
     "text": [
      "삭제할 훈련 데이터의 개수 : 0\n",
      "삭제할 테스트 데이터의 개수 : 0\n",
      "훈련 데이터의 개수 : 74321\n",
      "훈련 레이블의 개수 : 74321\n",
      "테스트 데이터의 개수 : 18580\n",
      "테스트 레이블의 개수 : 18580\n"
     ]
    },
    {
     "name": "stderr",
     "output_type": "stream",
     "text": [
      "/home/aiffel-dj63/anaconda3/envs/aiffel/lib/python3.7/site-packages/numpy/core/_asarray.py:83: VisibleDeprecationWarning: Creating an ndarray from ragged nested sequences (which is a list-or-tuple of lists-or-tuples-or ndarrays with different lengths or shapes) is deprecated. If you meant to do this, you must specify 'dtype=object' when creating the ndarray\n",
      "  return array(a, dtype, copy=False, order=order)\n"
     ]
    }
   ],
   "source": [
    "drop_train = [index for index, sentence in enumerate(decoder_input_train) if len(sentence) == 1]\n",
    "drop_test = [index for index, sentence in enumerate(decoder_input_test) if len(sentence) == 1]\n",
    "\n",
    "print('삭제할 훈련 데이터의 개수 :',len(drop_train))\n",
    "print('삭제할 테스트 데이터의 개수 :',len(drop_test))\n",
    "\n",
    "encoder_input_train = np.delete(encoder_input_train, drop_train, axis=0)\n",
    "decoder_input_train = np.delete(decoder_input_train, drop_train, axis=0)\n",
    "decoder_target_train = np.delete(decoder_target_train, drop_train, axis=0)\n",
    "\n",
    "encoder_input_test = np.delete(encoder_input_test, drop_test, axis=0)\n",
    "decoder_input_test = np.delete(decoder_input_test, drop_test, axis=0)\n",
    "decoder_target_test = np.delete(decoder_target_test, drop_test, axis=0)\n",
    "\n",
    "print('훈련 데이터의 개수 :', len(encoder_input_train))\n",
    "print('훈련 레이블의 개수 :',len(decoder_input_train))\n",
    "print('테스트 데이터의 개수 :',len(encoder_input_test))\n",
    "print('테스트 레이블의 개수 :',len(decoder_input_test))"
   ]
  },
  {
   "cell_type": "markdown",
   "id": "negative-freeze",
   "metadata": {},
   "source": [
    "#### 패딩하기"
   ]
  },
  {
   "cell_type": "code",
   "execution_count": 34,
   "id": "norman-control",
   "metadata": {},
   "outputs": [],
   "source": [
    "encoder_input_train = pad_sequences(encoder_input_train, maxlen = text_max_len, padding='post')\n",
    "encoder_input_test = pad_sequences(encoder_input_test, maxlen = text_max_len, padding='post')\n",
    "decoder_input_train = pad_sequences(decoder_input_train, maxlen = headlines_max_len, padding='post')\n",
    "decoder_target_train = pad_sequences(decoder_target_train, maxlen = headlines_max_len, padding='post')\n",
    "decoder_input_test = pad_sequences(decoder_input_test, maxlen = headlines_max_len, padding='post')\n",
    "decoder_target_test = pad_sequences(decoder_target_test, maxlen = headlines_max_len, padding='post')"
   ]
  },
  {
   "cell_type": "markdown",
   "id": "undefined-bench",
   "metadata": {},
   "source": [
    "## 5. 모델 설계하기\n",
    "\n",
    "#### 함수형 API를 이용해서 인코더를 설계해보기"
   ]
  },
  {
   "cell_type": "code",
   "execution_count": 35,
   "id": "present-astrology",
   "metadata": {},
   "outputs": [
    {
     "name": "stdout",
     "output_type": "stream",
     "text": [
      "WARNING:tensorflow:Layer lstm will not use cuDNN kernel since it doesn't meet the cuDNN kernel criteria. It will use generic GPU kernel as fallback when running on GPU\n",
      "WARNING:tensorflow:Layer lstm_1 will not use cuDNN kernel since it doesn't meet the cuDNN kernel criteria. It will use generic GPU kernel as fallback when running on GPU\n",
      "WARNING:tensorflow:Layer lstm_2 will not use cuDNN kernel since it doesn't meet the cuDNN kernel criteria. It will use generic GPU kernel as fallback when running on GPU\n"
     ]
    }
   ],
   "source": [
    "from tensorflow.keras.layers import Input, LSTM, Embedding, Dense, Concatenate\n",
    "from tensorflow.keras.models import Model\n",
    "from tensorflow.keras.callbacks import EarlyStopping, ModelCheckpoint\n",
    "\n",
    "\n",
    "# 인코더 설계 시작\n",
    "embedding_dim = 128\n",
    "hidden_size = 256\n",
    "\n",
    "# 인코더\n",
    "encoder_inputs = Input(shape=(text_max_len,))\n",
    "\n",
    "# 인코더의 임베딩 층\n",
    "enc_emb = Embedding(src_vocab, embedding_dim)(encoder_inputs)\n",
    "\n",
    "# 인코더의 LSTM 1\n",
    "encoder_lstm1 = LSTM(hidden_size, return_sequences=True, return_state=True ,dropout = 0.4, recurrent_dropout = 0.4)\n",
    "encoder_output1, state_h1, state_c1 = encoder_lstm1(enc_emb)\n",
    "\n",
    "# 인코더의 LSTM 2\n",
    "encoder_lstm2 = LSTM(hidden_size, return_sequences=True, return_state=True, dropout=0.4, recurrent_dropout=0.4)\n",
    "encoder_output2, state_h2, state_c2 = encoder_lstm2(encoder_output1)\n",
    "\n",
    "# 인코더의 LSTM 3\n",
    "encoder_lstm3 = LSTM(hidden_size, return_state=True, return_sequences=True, dropout=0.4, recurrent_dropout=0.4)\n",
    "encoder_outputs, state_h, state_c= encoder_lstm3(encoder_output2)"
   ]
  },
  {
   "cell_type": "markdown",
   "id": "forbidden-craps",
   "metadata": {},
   "source": [
    "#### 디코더 설계"
   ]
  },
  {
   "cell_type": "code",
   "execution_count": 36,
   "id": "coupled-malpractice",
   "metadata": {},
   "outputs": [
    {
     "name": "stdout",
     "output_type": "stream",
     "text": [
      "WARNING:tensorflow:Layer lstm_3 will not use cuDNN kernel since it doesn't meet the cuDNN kernel criteria. It will use generic GPU kernel as fallback when running on GPU\n"
     ]
    }
   ],
   "source": [
    "# 디코더 설계\n",
    "decoder_inputs = Input(shape=(None,))\n",
    "\n",
    "# 디코더의 임베딩 층\n",
    "dec_emb_layer = Embedding(tar_vocab, embedding_dim)\n",
    "dec_emb = dec_emb_layer(decoder_inputs)\n",
    "\n",
    "# 디코더의 LSTM\n",
    "decoder_lstm = LSTM(hidden_size, return_sequences = True, return_state = True, dropout = 0.4, recurrent_dropout=0.2)\n",
    "decoder_outputs, _, _ = decoder_lstm(dec_emb, initial_state = [state_h, state_c])"
   ]
  },
  {
   "cell_type": "markdown",
   "id": "foster-patient",
   "metadata": {},
   "source": [
    "#### 디코더의 출력층을 설계하기"
   ]
  },
  {
   "cell_type": "code",
   "execution_count": 37,
   "id": "decreased-finance",
   "metadata": {},
   "outputs": [
    {
     "name": "stdout",
     "output_type": "stream",
     "text": [
      "Model: \"model\"\n",
      "__________________________________________________________________________________________________\n",
      "Layer (type)                    Output Shape         Param #     Connected to                     \n",
      "==================================================================================================\n",
      "input_1 (InputLayer)            [(None, 43)]         0                                            \n",
      "__________________________________________________________________________________________________\n",
      "embedding (Embedding)           (None, 43, 128)      2560000     input_1[0][0]                    \n",
      "__________________________________________________________________________________________________\n",
      "lstm (LSTM)                     [(None, 43, 256), (N 394240      embedding[0][0]                  \n",
      "__________________________________________________________________________________________________\n",
      "input_2 (InputLayer)            [(None, None)]       0                                            \n",
      "__________________________________________________________________________________________________\n",
      "lstm_1 (LSTM)                   [(None, 43, 256), (N 525312      lstm[0][0]                       \n",
      "__________________________________________________________________________________________________\n",
      "embedding_1 (Embedding)         (None, None, 128)    1408000     input_2[0][0]                    \n",
      "__________________________________________________________________________________________________\n",
      "lstm_2 (LSTM)                   [(None, 43, 256), (N 525312      lstm_1[0][0]                     \n",
      "__________________________________________________________________________________________________\n",
      "lstm_3 (LSTM)                   [(None, None, 256),  394240      embedding_1[0][0]                \n",
      "                                                                 lstm_2[0][1]                     \n",
      "                                                                 lstm_2[0][2]                     \n",
      "__________________________________________________________________________________________________\n",
      "dense (Dense)                   (None, None, 11000)  2827000     lstm_3[0][0]                     \n",
      "==================================================================================================\n",
      "Total params: 8,634,104\n",
      "Trainable params: 8,634,104\n",
      "Non-trainable params: 0\n",
      "__________________________________________________________________________________________________\n"
     ]
    }
   ],
   "source": [
    "# 디코더의 출력층\n",
    "decoder_softmax_layer = Dense(tar_vocab, activation = 'softmax')\n",
    "decoder_softmax_outputs = decoder_softmax_layer(decoder_outputs) \n",
    "\n",
    "# 모델 정의\n",
    "model = Model([encoder_inputs, decoder_inputs], decoder_softmax_outputs)\n",
    "model.summary()"
   ]
  },
  {
   "cell_type": "markdown",
   "id": "taken-backing",
   "metadata": {},
   "source": [
    "#### 어텐션 매커니즘 함수 다운"
   ]
  },
  {
   "cell_type": "code",
   "execution_count": 38,
   "id": "italic-companion",
   "metadata": {},
   "outputs": [],
   "source": [
    "urllib.request.urlretrieve(\"https://raw.githubusercontent.com/thushv89/attention_keras/master/src/layers/attention.py\", filename=\"attention.py\")\n",
    "from attention import AttentionLayer"
   ]
  },
  {
   "cell_type": "markdown",
   "id": "civic-compromise",
   "metadata": {},
   "source": [
    "#### 설계한 디코더의 출력층을 수정하기"
   ]
  },
  {
   "cell_type": "code",
   "execution_count": 39,
   "id": "postal-diary",
   "metadata": {},
   "outputs": [
    {
     "name": "stdout",
     "output_type": "stream",
     "text": [
      "Model: \"model_1\"\n",
      "__________________________________________________________________________________________________\n",
      "Layer (type)                    Output Shape         Param #     Connected to                     \n",
      "==================================================================================================\n",
      "input_1 (InputLayer)            [(None, 43)]         0                                            \n",
      "__________________________________________________________________________________________________\n",
      "embedding (Embedding)           (None, 43, 128)      2560000     input_1[0][0]                    \n",
      "__________________________________________________________________________________________________\n",
      "lstm (LSTM)                     [(None, 43, 256), (N 394240      embedding[0][0]                  \n",
      "__________________________________________________________________________________________________\n",
      "input_2 (InputLayer)            [(None, None)]       0                                            \n",
      "__________________________________________________________________________________________________\n",
      "lstm_1 (LSTM)                   [(None, 43, 256), (N 525312      lstm[0][0]                       \n",
      "__________________________________________________________________________________________________\n",
      "embedding_1 (Embedding)         (None, None, 128)    1408000     input_2[0][0]                    \n",
      "__________________________________________________________________________________________________\n",
      "lstm_2 (LSTM)                   [(None, 43, 256), (N 525312      lstm_1[0][0]                     \n",
      "__________________________________________________________________________________________________\n",
      "lstm_3 (LSTM)                   [(None, None, 256),  394240      embedding_1[0][0]                \n",
      "                                                                 lstm_2[0][1]                     \n",
      "                                                                 lstm_2[0][2]                     \n",
      "__________________________________________________________________________________________________\n",
      "attention_layer (AttentionLayer ((None, None, 256),  131328      lstm_2[0][0]                     \n",
      "                                                                 lstm_3[0][0]                     \n",
      "__________________________________________________________________________________________________\n",
      "concat_layer (Concatenate)      (None, None, 512)    0           lstm_3[0][0]                     \n",
      "                                                                 attention_layer[0][0]            \n",
      "__________________________________________________________________________________________________\n",
      "dense_1 (Dense)                 (None, None, 11000)  5643000     concat_layer[0][0]               \n",
      "==================================================================================================\n",
      "Total params: 11,581,432\n",
      "Trainable params: 11,581,432\n",
      "Non-trainable params: 0\n",
      "__________________________________________________________________________________________________\n"
     ]
    }
   ],
   "source": [
    "# 어텐션 층(어텐션 함수)\n",
    "attn_layer = AttentionLayer(name='attention_layer')\n",
    "# 인코더와 디코더의 모든 time step의 hidden state를 어텐션 층에 전달하고 결과를 리턴\n",
    "attn_out, attn_states = attn_layer([encoder_outputs, decoder_outputs])\n",
    "\n",
    "# 어텐션의 결과와 디코더의 hidden state들을 연결\n",
    "decoder_concat_input = Concatenate(axis = -1, name='concat_layer')([decoder_outputs, attn_out])\n",
    "\n",
    "# 디코더의 출력층\n",
    "decoder_softmax_layer = Dense(tar_vocab, activation='softmax')\n",
    "decoder_softmax_outputs = decoder_softmax_layer(decoder_concat_input)\n",
    "\n",
    "# 모델 정의\n",
    "model = Model([encoder_inputs, decoder_inputs], decoder_softmax_outputs)\n",
    "model.summary()"
   ]
  },
  {
   "cell_type": "markdown",
   "id": "electric-liechtenstein",
   "metadata": {},
   "source": [
    "## 6. 모델 훈련하기\n",
    "\n",
    "#### 설계한 모델을 가지고 훈련을 진행"
   ]
  },
  {
   "cell_type": "code",
   "execution_count": 40,
   "id": "advanced-issue",
   "metadata": {},
   "outputs": [
    {
     "name": "stdout",
     "output_type": "stream",
     "text": [
      "Epoch 1/50\n",
      "291/291 [==============================] - 102s 351ms/step - loss: 5.7410 - val_loss: 5.3583\n",
      "Epoch 2/50\n",
      "291/291 [==============================] - 101s 348ms/step - loss: 5.1896 - val_loss: 4.9540\n",
      "Epoch 3/50\n",
      "291/291 [==============================] - 101s 349ms/step - loss: 4.8180 - val_loss: 4.6437\n",
      "Epoch 4/50\n",
      "291/291 [==============================] - 102s 349ms/step - loss: 4.5382 - val_loss: 4.4541\n",
      "Epoch 5/50\n",
      "291/291 [==============================] - 102s 349ms/step - loss: 4.3248 - val_loss: 4.3182\n",
      "Epoch 6/50\n",
      "291/291 [==============================] - 101s 349ms/step - loss: 4.1548 - val_loss: 4.2079\n",
      "Epoch 7/50\n",
      "291/291 [==============================] - 102s 349ms/step - loss: 4.0110 - val_loss: 4.1117\n",
      "Epoch 8/50\n",
      "291/291 [==============================] - 101s 348ms/step - loss: 3.8845 - val_loss: 4.0388\n",
      "Epoch 9/50\n",
      "291/291 [==============================] - 101s 348ms/step - loss: 3.7714 - val_loss: 3.9778\n",
      "Epoch 10/50\n",
      "291/291 [==============================] - 102s 349ms/step - loss: 3.6692 - val_loss: 3.9275\n",
      "Epoch 11/50\n",
      "291/291 [==============================] - 102s 349ms/step - loss: 3.5799 - val_loss: 3.8825\n",
      "Epoch 12/50\n",
      "291/291 [==============================] - 101s 348ms/step - loss: 3.4991 - val_loss: 3.8364\n",
      "Epoch 13/50\n",
      "291/291 [==============================] - 101s 349ms/step - loss: 3.4254 - val_loss: 3.8080\n",
      "Epoch 14/50\n",
      "291/291 [==============================] - 102s 349ms/step - loss: 3.3558 - val_loss: 3.7834\n",
      "Epoch 15/50\n",
      "291/291 [==============================] - 102s 349ms/step - loss: 3.2937 - val_loss: 3.7677\n",
      "Epoch 16/50\n",
      "291/291 [==============================] - 101s 348ms/step - loss: 3.2362 - val_loss: 3.7381\n",
      "Epoch 17/50\n",
      "291/291 [==============================] - 102s 349ms/step - loss: 3.1808 - val_loss: 3.7234\n",
      "Epoch 18/50\n",
      "291/291 [==============================] - 101s 349ms/step - loss: 3.1275 - val_loss: 3.7024\n",
      "Epoch 19/50\n",
      "291/291 [==============================] - 102s 349ms/step - loss: 3.0784 - val_loss: 3.6870\n",
      "Epoch 20/50\n",
      "291/291 [==============================] - 102s 349ms/step - loss: 3.0336 - val_loss: 3.6919\n",
      "Epoch 21/50\n",
      "291/291 [==============================] - 102s 349ms/step - loss: 2.9893 - val_loss: 3.6690\n",
      "Epoch 22/50\n",
      "291/291 [==============================] - 102s 349ms/step - loss: 2.9465 - val_loss: 3.6647\n",
      "Epoch 23/50\n",
      "291/291 [==============================] - 102s 349ms/step - loss: 2.9085 - val_loss: 3.6555\n",
      "Epoch 24/50\n",
      "291/291 [==============================] - 102s 350ms/step - loss: 2.8740 - val_loss: 3.6471\n",
      "Epoch 25/50\n",
      "291/291 [==============================] - 102s 350ms/step - loss: 2.8413 - val_loss: 3.6459\n",
      "Epoch 26/50\n",
      "291/291 [==============================] - 102s 350ms/step - loss: 2.8110 - val_loss: 3.6370\n",
      "Epoch 27/50\n",
      "291/291 [==============================] - 102s 349ms/step - loss: 2.7776 - val_loss: 3.6437\n",
      "Epoch 28/50\n",
      "291/291 [==============================] - 102s 349ms/step - loss: 2.7449 - val_loss: 3.6341\n",
      "Epoch 29/50\n",
      "291/291 [==============================] - 102s 350ms/step - loss: 2.7180 - val_loss: 3.6273\n",
      "Epoch 30/50\n",
      "291/291 [==============================] - 101s 349ms/step - loss: 2.6953 - val_loss: 3.6222\n",
      "Epoch 31/50\n",
      "291/291 [==============================] - 102s 350ms/step - loss: 2.6721 - val_loss: 3.6257\n",
      "Epoch 32/50\n",
      "291/291 [==============================] - 102s 349ms/step - loss: 2.6474 - val_loss: 3.6289\n",
      "Epoch 00032: early stopping\n"
     ]
    }
   ],
   "source": [
    "model.compile(optimizer='rmsprop', loss='sparse_categorical_crossentropy')\n",
    "es = EarlyStopping(monitor='val_loss', mode='min', verbose=1, patience = 2)\n",
    "history = model.fit(x = [encoder_input_train, decoder_input_train], y = decoder_target_train, \\\n",
    "          validation_data = ([encoder_input_test, decoder_input_test], decoder_target_test),\n",
    "          batch_size = 256, callbacks=[es], epochs = 50)"
   ]
  },
  {
   "cell_type": "markdown",
   "id": "wound-marina",
   "metadata": {},
   "source": [
    "#### 훈련 데이터의 손실과 검증 데이터의 손실이 줄어드는 과정을 시각화"
   ]
  },
  {
   "cell_type": "code",
   "execution_count": 41,
   "id": "lyric-assistant",
   "metadata": {},
   "outputs": [
    {
     "data": {
      "image/png": "[encoded data removed]",
      "text/plain": [
       "<Figure size 432x288 with 1 Axes>"
      ]
     },
     "metadata": {
      "needs_background": "light"
     },
     "output_type": "display_data"
    }
   ],
   "source": [
    "plt.plot(history.history['loss'], label='train')\n",
    "plt.plot(history.history['val_loss'], label='test')\n",
    "plt.legend()\n",
    "plt.show()"
   ]
  },
  {
   "cell_type": "markdown",
   "id": "enabling-business",
   "metadata": {},
   "source": [
    "## 7. 인퍼런스 모델 구현하기\n",
    "\n",
    "#### 테스트 단계에서는 정수 인덱스 행렬로 존재하던 텍스트 데이터를 실제 데이터로 복원해야 하므로, 필요한 3개의 사전을 아래와 같이 미리 준비"
   ]
  },
  {
   "cell_type": "code",
   "execution_count": 42,
   "id": "sound-ukraine",
   "metadata": {},
   "outputs": [],
   "source": [
    "src_index_to_word = src_tokenizer.index_word # 원문 단어 집합에서 정수 -> 단어를 얻음\n",
    "tar_word_to_index = tar_tokenizer.word_index # 요약 단어 집합에서 단어 -> 정수를 얻음\n",
    "tar_index_to_word = tar_tokenizer.index_word # 요약 단어 집합에서 정수 -> 단어를 얻음"
   ]
  },
  {
   "cell_type": "markdown",
   "id": "numerical-parker",
   "metadata": {},
   "source": [
    "#### 인코더 모델과 디코더 모델을 분리해서 설계"
   ]
  },
  {
   "cell_type": "code",
   "execution_count": 43,
   "id": "fabulous-anniversary",
   "metadata": {},
   "outputs": [],
   "source": [
    "# 인코더 설계\n",
    "encoder_model = Model(inputs=encoder_inputs, outputs=[encoder_outputs, state_h, state_c])\n",
    "\n",
    "# 이전 시점의 상태들을 저장하는 텐서\n",
    "decoder_state_input_h = Input(shape=(hidden_size,))\n",
    "decoder_state_input_c = Input(shape=(hidden_size,))\n",
    "\n",
    "dec_emb2 = dec_emb_layer(decoder_inputs)\n",
    "# 문장의 다음 단어를 예측하기 위해서 초기 상태(initial_state)를 이전 시점의 상태로 사용. 이는 뒤의 함수 decode_sequence()에 구현\n",
    "# 훈련 과정에서와 달리 LSTM의 리턴하는 은닉 상태와 셀 상태인 state_h와 state_c를 버리지 않음.\n",
    "decoder_outputs2, state_h2, state_c2 = decoder_lstm(dec_emb2, initial_state=[decoder_state_input_h, decoder_state_input_c])"
   ]
  },
  {
   "cell_type": "markdown",
   "id": "occupied-federal",
   "metadata": {},
   "source": [
    "#### 어텐션 메커니즘을 사용하는 출력층을 설계"
   ]
  },
  {
   "cell_type": "code",
   "execution_count": 44,
   "id": "grateful-inclusion",
   "metadata": {},
   "outputs": [],
   "source": [
    "# 어텐션 함수\n",
    "decoder_hidden_state_input = Input(shape=(text_max_len, hidden_size))\n",
    "attn_out_inf, attn_states_inf = attn_layer([decoder_hidden_state_input, decoder_outputs2])\n",
    "decoder_inf_concat = Concatenate(axis=-1, name='concat')([decoder_outputs2, attn_out_inf])\n",
    "\n",
    "# 디코더의 출력층\n",
    "decoder_outputs2 = decoder_softmax_layer(decoder_inf_concat) \n",
    "\n",
    "# 최종 디코더 모델\n",
    "decoder_model = Model(\n",
    "    [decoder_inputs] + [decoder_hidden_state_input,decoder_state_input_h, decoder_state_input_c],\n",
    "    [decoder_outputs2] + [state_h2, state_c2])"
   ]
  },
  {
   "cell_type": "markdown",
   "id": "backed-crown",
   "metadata": {},
   "source": [
    "#### 인퍼런스 단계에서 단어 시퀀스를 완성하는 함수"
   ]
  },
  {
   "cell_type": "code",
   "execution_count": 45,
   "id": "latin-variation",
   "metadata": {},
   "outputs": [],
   "source": [
    "def decode_sequence(input_seq):\n",
    "    # 입력으로부터 인코더의 상태를 얻음\n",
    "    e_out, e_h, e_c = encoder_model.predict(input_seq)\n",
    "\n",
    "     # <SOS>에 해당하는 토큰 생성\n",
    "    target_seq = np.zeros((1,1))\n",
    "    target_seq[0, 0] = tar_word_to_index['sostoken']\n",
    "\n",
    "    stop_condition = False\n",
    "    decoded_sentence = ''\n",
    "    while not stop_condition: # stop_condition이 True가 될 때까지 루프 반복\n",
    "\n",
    "        output_tokens, h, c = decoder_model.predict([target_seq] + [e_out, e_h, e_c])\n",
    "        sampled_token_index = np.argmax(output_tokens[0, -1, :])\n",
    "        sampled_token = tar_index_to_word[sampled_token_index]\n",
    "\n",
    "        if(sampled_token!='eostoken'):\n",
    "            decoded_sentence += ' '+sampled_token\n",
    "\n",
    "        #  <eos>에 도달하거나 최대 길이를 넘으면 중단.\n",
    "        if (sampled_token == 'eostoken'  or len(decoded_sentence.split()) >= (headlines_max_len-1)):\n",
    "            stop_condition = True\n",
    "\n",
    "        # 길이가 1인 타겟 시퀀스를 업데이트\n",
    "        target_seq = np.zeros((1,1))\n",
    "        target_seq[0, 0] = sampled_token_index\n",
    "\n",
    "        # 상태를 업데이트 합니다.\n",
    "        e_h, e_c = h, c\n",
    "\n",
    "    return decoded_sentence"
   ]
  },
  {
   "cell_type": "markdown",
   "id": "olympic-peripheral",
   "metadata": {},
   "source": [
    "## 8. 모델 테스트하기\n",
    "\n",
    "#### 정수 시퀀스를 텍스트 시퀀스로 변환하는 함수\n",
    "#### 주어진 정수 시퀀스를 텍스트 시퀀스로 변환하는 함수"
   ]
  },
  {
   "cell_type": "code",
   "execution_count": 46,
   "id": "seventh-lincoln",
   "metadata": {},
   "outputs": [],
   "source": [
    "# 원문의 정수 시퀀스를 텍스트 시퀀스로 변환\n",
    "def seq2text(input_seq):\n",
    "    temp=''\n",
    "    for i in input_seq:\n",
    "        if(i!=0):\n",
    "            temp = temp + src_index_to_word[i]+' '\n",
    "    return temp\n",
    "\n",
    "# 요약문의 정수 시퀀스를 텍스트 시퀀스로 변환\n",
    "def seq2summary(input_seq):\n",
    "    temp=''\n",
    "    for i in input_seq:\n",
    "        if((i!=0 and i!=tar_word_to_index['sostoken']) and i!=tar_word_to_index['eostoken']):\n",
    "            temp = temp + tar_index_to_word[i] + ' '\n",
    "    return temp"
   ]
  },
  {
   "cell_type": "markdown",
   "id": "ordered-legislature",
   "metadata": {},
   "source": [
    "#### 테스트 데이터 약 50개의 샘플에 대해서 실제 요약과 예측된 요약을 비교"
   ]
  },
  {
   "cell_type": "code",
   "execution_count": 47,
   "id": "unable-paper",
   "metadata": {},
   "outputs": [
    {
     "name": "stdout",
     "output_type": "stream",
     "text": [
      "원문 : woman named emily solved case matched thief stole sparkling water also theft victim tinder first man named drew told emily found full sparkling water later emily matched raymond lost sparkling water leaving unattended \n",
      "실제 요약 : woman matches with both thief and his victim on tinder solves case \n",
      "예측 요약 :  woman caught stealing phone from bengaluru police\n",
      "\n",
      "\n",
      "원문 : germany deported tunisian man allegedly served former al qaeda chief osama bin laden bodyguard man identified sami living germany since argued deportation claiming could tortured sent back tunisia received nearly month welfare payments germany \n",
      "실제 요약 : osama bin laden bodyguard deported from germany \n",
      "예측 요약 :  man who called osama bin laden jailed for yrs\n",
      "\n",
      "\n",
      "원문 : uber hired nelson chai chief financial officer filling role vacant since chai former merrill lynch cfo recently ceo insurance firm warranty group uber ceo dara khosrowshahi earlier said finding new cfo taking longer would liked \n",
      "실제 요약 : uber fills cfo position that was vacant for years \n",
      "예측 요약 :  uber hires former ceo as ceo of his own nukes\n",
      "\n",
      "\n",
      "원문 : class seven boy madhya pradesh indore attempted suicide blue whale challenge noted steps game school diary according people school teen th last day challenge tried jumping school building saved students noticed \n",
      "실제 요약 : boy who attempted blue whale suicide all in \n",
      "예측 요약 :  class boy hangs self for blue whale challenge\n",
      "\n",
      "\n",
      "원문 : actress kareena kapoor talking working gym joked pressure wear new clothes every day gym se jokingly asked however kareena said loves photographers added please click follow wherever go \n",
      "실제 요약 : pressure to wear new clothes daily at gym jokes kareena \n",
      "예측 요약 :  do not care for job kareena on kareena kapoor\n",
      "\n",
      "\n",
      "원문 : number corporates including tata godrej adani patanjali shown interest buying sahara group properties estimated worth crore earlier week supreme court directed sale sahara group aamby valley done group alleged failure deposit money refunding investors \n",
      "실제 요약 : tata patanjali interested in sahara properties of cr \n",
      "예측 요약 :  patanjali to acquire aamby valley in cr\n",
      "\n",
      "\n",
      "원문 : fashion designer sabyasachi mukherjee criticising younger generation indian women said think tell know wear saree would say shame added part culture need stand made remarks india conference harvard university \n",
      "실제 요약 : shame if indians do not know how to wear saree sabyasachi \n",
      "예측 요약 :  women should be allowed to wear sabyasachi\n",
      "\n",
      "\n",
      "원문 : third moon landing mission aborted oxygen tank exploded onboard two days launch april crew called nasa ground control saying houston problem used moon landing module apollo classified successful failure three astronauts safely returned orbiting moon \n",
      "실제 요약 : explosion forced apollo to circle moon abort landing \n",
      "예측 요약 :  nasa to send landing to iss after landing\n",
      "\n",
      "\n",
      "원문 : longest expressway india agra lucknow expressway soon equipped free wi fi service facility help uttar pradesh advanced traffic management system convenience safety motorists state government also called setting eateries petrol pumps either side expressway enhance business opportunities earn revenue \n",
      "실제 요약 : agra lucknow expressway to get free wi fi \n",
      "예측 요약 :  india to build up on roads in uttar pradesh\n",
      "\n",
      "\n",
      "원문 : farmers covered km foot nashik mumbai maharashtra press demands among things demanding unconditional waiver loans well electricity bills minimum support price agriculture produce pension scheme farmers maharashtra government set cabinet committee discuss demands \n",
      "실제 요약 : why are the farmers protesting in maharashtra \n",
      "예측 요약 :  maharashtra farmers to get its first bridge in maharashtra\n",
      "\n",
      "\n",
      "원문 : da kya first song ayushmann khurrana radhika apte starrer released song composed sung amit trivedi lyrics sahni directed sriram raghavan also starring actress tabu scheduled release october \n",
      "실제 요약 : da kya song from ayushmann out \n",
      "예측 요약 :  ayushmann khurrana starrer manto hits the theatres\n",
      "\n",
      "\n",
      "원문 : ranbir kapoor speaking upcoming biopic sanjay dutt said makers portraying gandhi like character fraud man someone loved controversial ability tell life honestly make movie brave ranbir added \n",
      "실제 요약 : we are very fraud man ranbir on dutt biopic \n",
      "예측 요약 :  never thought was about my biopic sanjay kapoor\n",
      "\n",
      "\n",
      "원문 : former us first lady michelle obama revealed husband barack obama wore tuxedo shoes eight years presidency state proud like ready ready minutes added however michelle said always scrutinised dresses accessories sported nnnn \n",
      "실제 요약 : michelle obama reveals barack wore same shoes for yrs \n",
      "예측 요약 :  michelle obama reveals she was the most beautiful obama\n",
      "\n",
      "\n",
      "원문 : aditi rao hydari said takes tag actor reverse compliment good people think much give race ka time soon added aditi said takes patience get kind work wants \n",
      "실제 요약 : take the tag actor as reverse compliment aditi \n",
      "예측 요약 :  do not know how to do films on my career aditi\n",
      "\n",
      "\n",
      "원문 : us based researchers developed entirely textile based bacteria powered battery hope integrate wearable electronics batteries could suitable power source conventional batteries bacterial cells fuelled body sweat provide stable reactions long lifetime said lead researcher \n",
      "실제 요약 : scientists make battery entirely out of fabric \n",
      "예측 요약 :  device that can detect drugs from made made\n",
      "\n",
      "\n",
      "원문 : haryana health minister anil vij said state government approach central board film certification seek ban film padmavati vij added rani padmavati symbol indian women pride character assassination padmavati tolerated level vij claimed historical facts wrongly presented padmavati \n",
      "실제 요약 : haryana govt to approach cbfc for ban on padmavati minister \n",
      "예측 요약 :  censor board should not be censor board centre\n",
      "\n",
      "\n",
      "원문 : government sanctioned crore railway station gujarat prime minister narendra modi claims sold tea child fund part larger plan develop adjoining areas district tourist destinations entire project would cost crore \n",
      "실제 요약 : station where pm modi sold tea to get crore makeover \n",
      "예측 요약 :  pm modi sold for tea at pm modi sold for crore\n",
      "\n",
      "\n",
      "원문 : video airbus largest passenger jet world making hard landing storm german city gone viral video watched millions times shows appearing bounce landing plane pilots managed steady \n",
      "실제 요약 : world largest passenger jet makes hard landing amid storm \n",
      "예측 요약 :  plane lands on plane with pilot during fuel hits\n",
      "\n",
      "\n",
      "원문 : bihar dismissed sikkim runs register run victory women one day league knockout tournament match thursday two days dismissing meghalaya amount runs sikkim bowled overs seven players scoring duck chasing overs tuesday \n",
      "실제 요약 : bihar girls dismiss teams for runs in straight one days \n",
      "예측 요약 :  bihar win their maiden maiden maiden overs in\n",
      "\n",
      "\n",
      "원문 : days calling team india captain virat kohli world worst behaved player actor naseeruddin shah said kohli behave dignity like predecessors admire cricket think field behaviour people lip read slow motion naseeruddin added cricketing brilliance beside arrogance bad manners naseeruddin earlier said \n",
      "실제 요약 : kohli should behave with dignity people can lip read naseeruddin \n",
      "예측 요약 :  virat kohli is the biggest superstar says kohli\n",
      "\n",
      "\n",
      "원문 : woman named accused former us president george hw bush groping years old photo opportunity gathering cia officers texas sixth woman accuse st us president sexual harassment bush aged issued apology allegations surfaced \n",
      "실제 요약 : th woman accuses ex us prez bush of groping says was \n",
      "예측 요약 :  woman sues ex us prez for groping woman\n",
      "\n",
      "\n",
      "원문 : fight hour fire delhi malviya nagar indian air force deployed mi chopper used bucket technique bucket specialised bucket carried chopper via suspension cable delivering water aerial water filled bucket yamuna reservoir dropped site \n",
      "실제 요약 : how did air force help fight the over hour delhi fire \n",
      "예측 요약 :  fire at delhi airport made its own air force\n",
      "\n",
      "\n",
      "원문 : canada add third gender option future government surveys including census paving way census want make sure canadians identify within census director statistics canada said last week canada largest province ontario issued first non binary birth certificate \n",
      "실제 요약 : canada to add third gender option in government \n",
      "예측 요약 :  gender change to be gender neutral in two years\n",
      "\n",
      "\n",
      "원문 : union transport minister nitin gadkari said dream vehicles country run environment friendly fuels like ethanol cng adding places like brazil one fill fuel tank diesel ethanol said happens uttar pradesh economy changed \n",
      "실제 요약 : it is my dream that all vehicles run on green fuel gadkari \n"
     ]
    },
    {
     "name": "stdout",
     "output_type": "stream",
     "text": [
      "예측 요약 :  need to increase in sports in years gadkari\n",
      "\n",
      "\n",
      "원문 : nobel memorial prize economics among awards alfred nobel established sweden central bank marking th anniversary made donation nobel foundation establish prize economic sciences memory alfred nobel laureate selected royal swedish academy sciences \n",
      "실제 요약 : nobel prize founder did not the prize in economics \n",
      "예측 요약 :  nobel prize nobel prize at nobel prize awards\n",
      "\n",
      "\n",
      "원문 : prankster known interrupted live bbc broadcast sex noises using loudspeaker bbc political reporting live outside houses parliament london prankster played sounds however completely ignored sounds kept straight face \n",
      "실제 요약 : prankster interrupts bbc live broadcast with sex noises \n",
      "예측 요약 :  ex cia agent apologises for sex with hitler\n",
      "\n",
      "\n",
      "원문 : icc charged ex sri lanka captain sanath jayasuriya two counts breaching anti corruption code charges relate failure refusal cooperate investigation obstructing delaying investigation including tampering destroying relevant documentation earlier month icc said probing serious allegations corruption sri lanka \n",
      "실제 요약 : ex sl captain charged by icc under anti corruption code \n",
      "예측 요약 :  icc files complaint against icc over corruption case\n",
      "\n",
      "\n",
      "원문 : bangladesh pm sheikh hasina said spoke us president donald trump monday rohingya muslims fleeing country myanmar expects help made stance refugees clear lakh rohingyas fled bangladesh escape violence myanmar un branded ethnic cleansing \n",
      "실제 요약 : expect no help from trump on rohingya crisis bangladesh \n",
      "예측 요약 :  trump calls for us rohingyas in un\n",
      "\n",
      "\n",
      "원문 : actor saif ali khan said one cannot benefit someone else failure challenge person help added talking son ibrahim career aspirations said idea ibrahim needs get school college right \n",
      "실제 요약 : cannot benefit from someone else failure saif ali khan \n",
      "예측 요약 :  people should be kept on the rights saif ali khan\n",
      "\n",
      "\n",
      "원문 : sidelined aiadmk leader ttv dhinakaran friday took oath independent mla tamil nadu assembly winning bypolls late cm jayalalithaa rk nagar constituency fourteen former aiadmk mlas disqualified supporting ttv dhinakaran also present ceremony election earlier scheduled april cancelled bribery corruption \n",
      "실제 요약 : ttv dhinakaran takes oath as mla from rk nagar constituency \n",
      "예측 요약 :  dhinakaran to be held for aiadmk mla\n",
      "\n",
      "\n",
      "원문 : writing poem daughter shweta bachchan nanda launched new fashion brand partnership friend amitabh bachchan wrote proud daughters found success like necklace jewels precious keep safe wrote shweta new fashion brand called \n",
      "실제 요약 : proud when daughters find success themselves big in poem \n",
      "예측 요약 :  daughter daughter in law to be held for big bazaar\n",
      "\n",
      "\n",
      "원문 : uttar pradesh bjp mla rajput wednesday posted video facebook wherein said stop haj going pilgrimage mecca muslim community objects construction ram mandir ayodhya demanded abolition haj subsidy minority reservations given community government \n",
      "실제 요약 : will stop haj if muslims oppose ram mandir bjp mla \n",
      "예측 요약 :  bjp mla should not be allowed to ban bjp mla\n",
      "\n",
      "\n",
      "원문 : soon supreme court dismissed pleas seeking independent probe death judge bh loya thursday court website reportedly hacked brazil messages portuguese like love beautiful little girl smile little girl also displayed hacked site marijuana leaf \n",
      "실제 요약 : supreme court website hacked by brazil \n",
      "예측 요약 :  sc dismisses plea to probe who can be declared\n",
      "\n",
      "\n",
      "원문 : year old blogger united states new jersey spent convert old school bus mobile home michael four wheeled home kitchen dining table double bed seating meanwhile travelled nearly kilometres mobile home visited several places including alaska florida \n",
      "실제 요약 : man spends lakh to convert school bus into mobile home \n",
      "예측 요약 :  year old australian girl to get speeding bus\n",
      "\n",
      "\n",
      "원문 : dutch rejected accusations hungary red star communist symbol stating used logo since middle ages red star political meaning whatsoever use brand symbols across world said notably hungary wants symbols like nazi swastika communist red star \n",
      "실제 요약 : beer defends red star logo after hungary ban threat \n",
      "예측 요약 :  oscars shape of shape of thrones hole unveiled\n",
      "\n",
      "\n",
      "원문 : supreme court directed mercedes benz india deposit lakh faulty airbag case fine related accident case airbags mercedes benz car failed open collision container truck collision caused injuries managing director electrical company \n",
      "실제 요약 : sc asks mercedes benz to deposit lakh over faulty airbag \n",
      "예측 요약 :  sc allows selling cars to sell cars to save cars\n",
      "\n",
      "\n",
      "원문 : three contract workers died due suffocation cleaning blocked premises nd apartments bengaluru terming incident human rights violation bengaluru mayor sampath raj said negligence apartment owners workers protective gear manual banned across india \n",
      "실제 요약 : men die in bengaluru while cleaning \n",
      "예측 요약 :  dead in fire at factory in maharashtra\n",
      "\n",
      "\n",
      "원문 : total production fruits vegetables india gets wasted due poor cold storage facilities per assocham india study current cold storage infrastructure store india total produce high operating cost one major obstacles growth cold chain infrastructure study said \n",
      "실제 요약 : up to half of india fruits vegetables go waste study \n",
      "예측 요약 :  india to create india largest floating in india\n",
      "\n",
      "\n",
      "원문 : year old british man raised middle finger another driver dubai could face six month jail term arrested offensive behaviour kind thing happens england time go jail man said offensive insulting behaviour considered crime uae \n",
      "실제 요약 : faces prison in dubai for showing middle finger \n",
      "예측 요약 :  man gets bus for refusing to escape porn\n",
      "\n",
      "\n",
      "원문 : insolvency bankruptcy board india notified new norms fast track insolvency process startups small companies total assets worth crore process cases completed within period days days cases corporate file insolvency application \n",
      "실제 요약 : government fast tracks insolvency process for startups \n",
      "예측 요약 :  insolvency challenges insolvency to insolvency in insolvency\n",
      "\n",
      "\n",
      "원문 : delhi government department education proposed policy extend financial assistance school students sports talent help get specialised training annual financial aid lakh provided students years age two years financial help would continued basis performance review \n",
      "실제 요약 : delhi govt plans aid for sporting talent in schools \n",
      "예측 요약 :  delhi govt to give school to school for kids\n",
      "\n",
      "\n",
      "원문 : deepika padukone revealed actor ranveer singh even though dating somebody else point like nobody business smiling told added deepika revealed first time met ranveer awards show singapore \n",
      "실제 요약 : ranveer with me once despite dating someone else deepika \n",
      "예측 요약 :  ranveer is not my life deepika on his marriage\n",
      "\n",
      "\n",
      "원문 : islamic state militant group claimed responsibility thursday vehicle attack barcelona spain amaq news agency press release stated attack response international coalition operation jihadist group syria iraq least people killed others injured attack \n",
      "실제 요약 : is claims responsibility for barcelona attack that killed \n",
      "예측 요약 :  islamic state claims responsibility for isis\n",
      "\n",
      "\n",
      "원문 : russian legislative committee information policies decided investigate us media outlets order examine attempted influence election processes russia earlier us called investigation russian state funded broadcaster rt us intelligence agencies accused rt influencing recent presidential elections help donald trump \n",
      "실제 요약 : russia to probe us media for meddling in elections \n",
      "예측 요약 :  russia blocks russian power probe from us state\n",
      "\n",
      "\n",
      "원문 : underworld dawood ibrahim brother iqbal kaskar eating biryani watching kaun banega crorepati arrested charges extortion monday sister haseena parker residence police officials said adding kaskar running extortion racket time officials said kaskar demanded four flats lakh ransom builder \n",
      "실제 요약 : dawood brother was eating biryani when arrested \n",
      "예측 요약 :  dawood ibrahim aide arrested for selling engagement\n",
      "\n",
      "\n",
      "원문 : pet parrot london managed place online shopping order set gift boxes mimicking owner amazon voice controlled smart speaker alexa said reports said realised pet buddy blame hearing interact speaker receiving notification amazon \n",
      "실제 요약 : pet parrot does online shopping by owner \n",
      "예측 요약 :  dog uses uk couple to remove weed\n",
      "\n",
      "\n",
      "원문 : singh make acting debut opposite raj kapoor grandson aadar jain band said people told height looks actress feel things changed art industry progressed added said fortunate launched yash raj films \n",
      "실제 요약 : was told lack looks to be an actress band \n"
     ]
    },
    {
     "name": "stdout",
     "output_type": "stream",
     "text": [
      "예측 요약 :  feel actor should be taught to sing in wood film director\n",
      "\n",
      "\n",
      "원문 : rohit sharma shikhar dhawan scored respectively india defeated pakistan asia cup first encounter months team last faced june champions trophy final pakistan runs group toppers india face bangladesh first super four stage match friday \n",
      "실제 요약 : india beat pak by wickets in their first encounter in months \n",
      "예측 요약 :  dhawan dhawan to miss pakistan in pakistan\n",
      "\n",
      "\n",
      "원문 : senegal born singer announced launch cryptocurrency called available sale two weeks part venture singer plans complete crypto based city acres land located near capital city senegal land gifted president \n",
      "실제 요약 : singer to launch cryptocurrency called \n",
      "예측 요약 :  singer unveils sale of cryptocurrency\n",
      "\n",
      "\n",
      "원문 : delhi high court friday refused restrain journalist arnab goswami news channel republic tv airing news congress mp shashi tharoor wife sunanda pushkar death court also asked goswami republic tv send advance notice tharoor views airing news connection pushkar death case \n",
      "실제 요약 : hc refuses to stop goswami from reporting on pushkar death \n",
      "예측 요약 :  arnab goswami files defamation notice to arnab goswami\n",
      "\n",
      "\n"
     ]
    }
   ],
   "source": [
    "for i in range(50, 100):\n",
    "    print(\"원문 :\", seq2text(encoder_input_test[i]))\n",
    "    print(\"실제 요약 :\", seq2summary(decoder_input_test[i]))\n",
    "    print(\"예측 요약 :\", decode_sequence(encoder_input_test[i].reshape(1, text_max_len)))\n",
    "    print(\"\\n\")"
   ]
  },
  {
   "cell_type": "markdown",
   "id": "compound-arrival",
   "metadata": {},
   "source": [
    "## 9. 추출적 요약해보기\n",
    "\n",
    "#### 데이터 다운로드하기"
   ]
  },
  {
   "cell_type": "code",
   "execution_count": 48,
   "id": "parliamentary-causing",
   "metadata": {},
   "outputs": [],
   "source": [
    "import requests\n",
    "from summa.summarizer import summarize"
   ]
  },
  {
   "cell_type": "markdown",
   "id": "related-victory",
   "metadata": {},
   "source": [
    "#### 매트릭스 시놉시스를 다운로드"
   ]
  },
  {
   "cell_type": "code",
   "execution_count": 49,
   "id": "macro-tooth",
   "metadata": {},
   "outputs": [],
   "source": [
    "text = requests.get('http://rare-technologies.com/the_matrix_synopsis.txt').text"
   ]
  },
  {
   "cell_type": "markdown",
   "id": "activated-steering",
   "metadata": {},
   "source": [
    "#### 출력결과 일부만 저장해보기"
   ]
  },
  {
   "cell_type": "code",
   "execution_count": 50,
   "id": "broken-socket",
   "metadata": {},
   "outputs": [
    {
     "name": "stdout",
     "output_type": "stream",
     "text": [
      "The screen is filled with green, cascading code which gives way to the title, The Matrix.\r\n",
      "\r\n",
      "A phone rings and text appears on the screen: \"Call trans opt: received. 2-19-98 13:24:18 REC: Log>\" As a conversation takes place between Trinity (Carrie-Anne Moss) and Cypher (Joe Pantoliano), two free humans, a table of random green numbers are being scanned and individual numbers selected, creating a series of digits not unlike an ordinary phone number, as if a code is being deciphered or a call is being traced.\r\n",
      "\r\n",
      "Trinity discusses some unknown person. Cypher taunts Trinity, suggesting she enjoys watching him. Trinity counters that \"Morpheus (Laurence Fishburne) says he may be 'the One',\" just as the sound of a number being selected alerts Trinity that someone may be tracing their call. She ends the call.\r\n",
      "\r\n",
      "Armed policemen move down a darkened, decrepit hallway in the Heart O' the City Hotel, their flashlight beam bouncing just ahead of them. They come to room 303, kick down the door and find a woman dressed in black, facing away from them. It's Trinity. She brings her hands up from the laptop she's working on at their command.\r\n",
      "\r\n",
      "Outside the hotel a car drives up and three agents appear in neatly pressed black suits. They are Agent Smith (Hugo Weaving), Agent Brown (Paul Goddard), and Agent Jones (Robert Taylor). Agent Smith and the presiding police lieutenant argue. Agent Smith admonishes the policeman that they were given specific orders to contact the agents first, for their\n"
     ]
    }
   ],
   "source": [
    "print(text[:1500])"
   ]
  },
  {
   "cell_type": "markdown",
   "id": "precise-moses",
   "metadata": {},
   "source": [
    "#### summarize 사용하여 원문의 0.005%만을 출력해도록 설정"
   ]
  },
  {
   "cell_type": "code",
   "execution_count": 51,
   "id": "pregnant-connecticut",
   "metadata": {},
   "outputs": [
    {
     "name": "stdout",
     "output_type": "stream",
     "text": [
      "headlines:\n",
      "Morpheus, Trinity, Neo, Apoc, Switch, Mouse and Cypher are jacked into the Matrix.\n",
      "Trinity brings the helicopter down to the floor that Morpheus is on and Neo opens fire on the three Agents.\n"
     ]
    }
   ],
   "source": [
    "print('headlines:')\n",
    "print(summarize(text, ratio=0.005))"
   ]
  },
  {
   "cell_type": "markdown",
   "id": "rental-doubt",
   "metadata": {},
   "source": [
    "####  split 인자의 값을 True로 하기"
   ]
  },
  {
   "cell_type": "code",
   "execution_count": 52,
   "id": "generous-template",
   "metadata": {},
   "outputs": [
    {
     "name": "stdout",
     "output_type": "stream",
     "text": [
      "headlines:\n",
      "['Morpheus, Trinity, Neo, Apoc, Switch, Mouse and Cypher are jacked into the Matrix.', 'Trinity brings the helicopter down to the floor that Morpheus is on and Neo opens fire on the three Agents.']\n"
     ]
    }
   ],
   "source": [
    "print('headlines:')\n",
    "print(summarize(text, ratio=0.005, split=True))"
   ]
  },
  {
   "cell_type": "markdown",
   "id": "vulnerable-gossip",
   "metadata": {},
   "source": [
    "#### 단어를 50개만 선택"
   ]
  },
  {
   "cell_type": "code",
   "execution_count": 53,
   "id": "covered-notion",
   "metadata": {},
   "outputs": [
    {
     "name": "stdout",
     "output_type": "stream",
     "text": [
      "headlines:\n",
      "Trinity takes Neo to Morpheus.\n",
      "Morpheus, Trinity, Neo, Apoc, Switch, Mouse and Cypher are jacked into the Matrix.\n",
      "Trinity brings the helicopter down to the floor that Morpheus is on and Neo opens fire on the three Agents.\n"
     ]
    }
   ],
   "source": [
    "print('headlines:')\n",
    "print(summarize(text, words=50))"
   ]
  },
  {
   "cell_type": "markdown",
   "id": "southeast-holiday",
   "metadata": {},
   "source": [
    "## 회고\n",
    "\n",
    "- Text의 적절한 최대 최소 길이와 Summary의 적절한 최대 최소 길이 설정하기에서의 에러해결\n",
    "    - and를 사용하여 해결할 수 있었고, lambda 함수를 사용하는 부분은 2번으로 나누어서 해결하였다.\n",
    "    \n",
    "- 정수인코딩 시에 단어의 크기를 정해주는 과정의 판단\n",
    "    - 적절한 크기를 두기 위해서  Encoder에서는 8회 미만으로, Decoder에서는 5회 미만으로 지정하여 이에 맞는 단어의 크기를 지정하여 정수인코딩 해주었다.\n",
    "\n",
    "## 루브릭\n",
    "- 분석단계, 정제단계, 정규화와 불용어 제거, 데이터셋 분리, 인코딩 과정이 빠짐없이 체계적으로 진행되었다.\n",
    "    - 3, 4 과정에서 확인할 수 있다.\n",
    "    \n",
    "- 모델학습이 안정적으로 수렴되었음을 그래프를 통해 확인하였으며, 실제 요약문과 유사한 요약문장을 얻을 수 있었다.\n",
    "    - 과정 6의 마지막에서 확인할 수 있다.\n",
    "\n",
    "- 두 요약 결과를 문법완성도 측면과 핵심단어 포함 측면으로 나누어 비교분석 결과를 제시하였다.\n",
    "    - PASS"
   ]
  }
 ],
 "metadata": {
  "kernelspec": {
   "display_name": "aiffel",
   "language": "python",
   "name": "aiffel"
  },
  "language_info": {
   "codemirror_mode": {
    "name": "ipython",
    "version": 3
   },
   "file_extension": ".py",
   "mimetype": "text/x-python",
   "name": "python",
   "nbconvert_exporter": "python",
   "pygments_lexer": "ipython3",
   "version": "3.7.9"
  }
 },
 "nbformat": 4,
 "nbformat_minor": 5
}
