{
 "cells": [
  {
   "cell_type": "markdown",
   "id": "behavioral-earthquake",
   "metadata": {},
   "source": [
    "E8.project_Movielens_Recommandation\n",
    "===\n",
    "---\n",
    "\n",
    "넷플릭스에서는 사용자가 시청한 영화를 토대로 다른 영화들을 추천해줍니다. 이번 프로젝트로 CSR matrix를 사용하여 추천시스템 만들기를 도전해보겠습니다.\n",
    "\n",
    "\n",
    "![netflix-ec82acec9aa9eab8b0_image-8](https://user-images.githubusercontent.com/70703320/107152448-46052b00-69ab-11eb-914f-7b8148b32956.png)\n",
    "\n",
    "[이미지 출처](https://byline.network/2016/07/1-225/)\n",
    "\n",
    "영화데이터에 대한 정보는 [이곳](https://biology-statistics-programming.tistory.com/47) 정리해주었습니다.\n",
    "\n",
    "\n",
    "\n",
    "## 1. 데이터 준비와 전처리\n",
    "\n",
    "### 필요한 라이브러리 불러오기"
   ]
  },
  {
   "cell_type": "code",
   "execution_count": 1,
   "id": "hearing-compilation",
   "metadata": {},
   "outputs": [],
   "source": [
    "import os\n",
    "import pandas as pd\n",
    "import numpy as np\n",
    "from scipy.sparse import csr_matrix\n",
    "from implicit.als import AlternatingLeastSquares\n",
    "import os\n",
    "import numpy as np"
   ]
  },
  {
   "cell_type": "markdown",
   "id": "architectural-traveler",
   "metadata": {},
   "source": [
    "### 데이터 불러와서 확인해보기"
   ]
  },
  {
   "cell_type": "code",
   "execution_count": 2,
   "id": "opened-debut",
   "metadata": {},
   "outputs": [
    {
     "data": {
      "text/html": [
       "<div>\n",
       "<style scoped>\n",
       "    .dataframe tbody tr th:only-of-type {\n",
       "        vertical-align: middle;\n",
       "    }\n",
       "\n",
       "    .dataframe tbody tr th {\n",
       "        vertical-align: top;\n",
       "    }\n",
       "\n",
       "    .dataframe thead th {\n",
       "        text-align: right;\n",
       "    }\n",
       "</style>\n",
       "<table border=\"1\" class=\"dataframe\">\n",
       "  <thead>\n",
       "    <tr style=\"text-align: right;\">\n",
       "      <th></th>\n",
       "      <th>user_id</th>\n",
       "      <th>movie_id</th>\n",
       "      <th>rating</th>\n",
       "      <th>timestamp</th>\n",
       "    </tr>\n",
       "  </thead>\n",
       "  <tbody>\n",
       "    <tr>\n",
       "      <th>0</th>\n",
       "      <td>1</td>\n",
       "      <td>1193</td>\n",
       "      <td>5</td>\n",
       "      <td>978300760</td>\n",
       "    </tr>\n",
       "    <tr>\n",
       "      <th>1</th>\n",
       "      <td>1</td>\n",
       "      <td>661</td>\n",
       "      <td>3</td>\n",
       "      <td>978302109</td>\n",
       "    </tr>\n",
       "    <tr>\n",
       "      <th>2</th>\n",
       "      <td>1</td>\n",
       "      <td>914</td>\n",
       "      <td>3</td>\n",
       "      <td>978301968</td>\n",
       "    </tr>\n",
       "    <tr>\n",
       "      <th>3</th>\n",
       "      <td>1</td>\n",
       "      <td>3408</td>\n",
       "      <td>4</td>\n",
       "      <td>978300275</td>\n",
       "    </tr>\n",
       "    <tr>\n",
       "      <th>4</th>\n",
       "      <td>1</td>\n",
       "      <td>2355</td>\n",
       "      <td>5</td>\n",
       "      <td>978824291</td>\n",
       "    </tr>\n",
       "  </tbody>\n",
       "</table>\n",
       "</div>"
      ],
      "text/plain": [
       "   user_id  movie_id  rating  timestamp\n",
       "0        1      1193       5  978300760\n",
       "1        1       661       3  978302109\n",
       "2        1       914       3  978301968\n",
       "3        1      3408       4  978300275\n",
       "4        1      2355       5  978824291"
      ]
     },
     "execution_count": 2,
     "metadata": {},
     "output_type": "execute_result"
    }
   ],
   "source": [
    "rating_file_path=os.getenv('HOME') + '/aiffel/recommendata_iu/data/ml-1m/ratings.dat'\n",
    "ratings_cols = ['user_id', 'movie_id', 'rating', 'timestamp']\n",
    "ratings = pd.read_csv(rating_file_path, sep='::', names=ratings_cols, engine='python')\n",
    "orginal_data_size = len(ratings)\n",
    "ratings.head()"
   ]
  },
  {
   "cell_type": "markdown",
   "id": "macro-asset",
   "metadata": {},
   "source": [
    "### rating이 3점 이상인 것만 남겨주기"
   ]
  },
  {
   "cell_type": "code",
   "execution_count": 3,
   "id": "dressed-basement",
   "metadata": {},
   "outputs": [
    {
     "name": "stdout",
     "output_type": "stream",
     "text": [
      "orginal_data_size: 1000209, filtered_data_size: 836478\n",
      "Ratio of Remaining Data is 83.63%\n"
     ]
    }
   ],
   "source": [
    "ratings = ratings[ratings['rating']>=3]\n",
    "filtered_data_size = len(ratings)\n",
    "\n",
    "print(f'orginal_data_size: {orginal_data_size}, filtered_data_size: {filtered_data_size}')\n",
    "print(f'Ratio of Remaining Data is {filtered_data_size / orginal_data_size:.2%}')"
   ]
  },
  {
   "cell_type": "markdown",
   "id": "julian-current",
   "metadata": {},
   "source": [
    "### rating컬럼의 이름을 count로 바꿔준 후 확인하기"
   ]
  },
  {
   "cell_type": "code",
   "execution_count": 4,
   "id": "physical-parish",
   "metadata": {},
   "outputs": [
    {
     "data": {
      "text/plain": [
       "0          5\n",
       "1          3\n",
       "2          3\n",
       "3          4\n",
       "4          5\n",
       "          ..\n",
       "1000203    3\n",
       "1000205    5\n",
       "1000206    5\n",
       "1000207    4\n",
       "1000208    4\n",
       "Name: count, Length: 836478, dtype: int64"
      ]
     },
     "execution_count": 4,
     "metadata": {},
     "output_type": "execute_result"
    }
   ],
   "source": [
    "ratings.rename(columns={'rating':'count'}, inplace=True)\n",
    "ratings['count']"
   ]
  },
  {
   "cell_type": "markdown",
   "id": "individual-format",
   "metadata": {},
   "source": [
    "### 영화 제목을 보기 위해 다른 파일 불러오기"
   ]
  },
  {
   "cell_type": "code",
   "execution_count": 5,
   "id": "opposite-threshold",
   "metadata": {},
   "outputs": [
    {
     "data": {
      "text/html": [
       "<div>\n",
       "<style scoped>\n",
       "    .dataframe tbody tr th:only-of-type {\n",
       "        vertical-align: middle;\n",
       "    }\n",
       "\n",
       "    .dataframe tbody tr th {\n",
       "        vertical-align: top;\n",
       "    }\n",
       "\n",
       "    .dataframe thead th {\n",
       "        text-align: right;\n",
       "    }\n",
       "</style>\n",
       "<table border=\"1\" class=\"dataframe\">\n",
       "  <thead>\n",
       "    <tr style=\"text-align: right;\">\n",
       "      <th></th>\n",
       "      <th>movie_id</th>\n",
       "      <th>title</th>\n",
       "      <th>genre</th>\n",
       "    </tr>\n",
       "  </thead>\n",
       "  <tbody>\n",
       "    <tr>\n",
       "      <th>0</th>\n",
       "      <td>1</td>\n",
       "      <td>Toy Story (1995)</td>\n",
       "      <td>Animation|Children's|Comedy</td>\n",
       "    </tr>\n",
       "    <tr>\n",
       "      <th>1</th>\n",
       "      <td>2</td>\n",
       "      <td>Jumanji (1995)</td>\n",
       "      <td>Adventure|Children's|Fantasy</td>\n",
       "    </tr>\n",
       "    <tr>\n",
       "      <th>2</th>\n",
       "      <td>3</td>\n",
       "      <td>Grumpier Old Men (1995)</td>\n",
       "      <td>Comedy|Romance</td>\n",
       "    </tr>\n",
       "    <tr>\n",
       "      <th>3</th>\n",
       "      <td>4</td>\n",
       "      <td>Waiting to Exhale (1995)</td>\n",
       "      <td>Comedy|Drama</td>\n",
       "    </tr>\n",
       "    <tr>\n",
       "      <th>4</th>\n",
       "      <td>5</td>\n",
       "      <td>Father of the Bride Part II (1995)</td>\n",
       "      <td>Comedy</td>\n",
       "    </tr>\n",
       "  </tbody>\n",
       "</table>\n",
       "</div>"
      ],
      "text/plain": [
       "   movie_id                               title                         genre\n",
       "0         1                    Toy Story (1995)   Animation|Children's|Comedy\n",
       "1         2                      Jumanji (1995)  Adventure|Children's|Fantasy\n",
       "2         3             Grumpier Old Men (1995)                Comedy|Romance\n",
       "3         4            Waiting to Exhale (1995)                  Comedy|Drama\n",
       "4         5  Father of the Bride Part II (1995)                        Comedy"
      ]
     },
     "execution_count": 5,
     "metadata": {},
     "output_type": "execute_result"
    }
   ],
   "source": [
    "movie_file_path=os.getenv('HOME') + '/aiffel/recommendata_iu/data/ml-1m/movies.dat'\n",
    "cols = ['movie_id', 'title', 'genre'] \n",
    "movies = pd.read_csv(movie_file_path, sep='::', names=cols, engine='python', encoding = \"ISO-8859-1\")\n",
    "movies.head()"
   ]
  },
  {
   "cell_type": "markdown",
   "id": "amended-regulation",
   "metadata": {},
   "source": [
    "## 2. 분석 \n",
    "\n",
    "\n",
    "### 유저 수"
   ]
  },
  {
   "cell_type": "code",
   "execution_count": 6,
   "id": "curious-layer",
   "metadata": {},
   "outputs": [
    {
     "data": {
      "text/plain": [
       "3628"
      ]
     },
     "execution_count": 6,
     "metadata": {},
     "output_type": "execute_result"
    }
   ],
   "source": [
    "ratings['movie_id'].nunique()"
   ]
  },
  {
   "cell_type": "markdown",
   "id": "lovely-adult",
   "metadata": {},
   "source": [
    "### 사용자 수"
   ]
  },
  {
   "cell_type": "code",
   "execution_count": 7,
   "id": "independent-victor",
   "metadata": {},
   "outputs": [
    {
     "data": {
      "text/plain": [
       "6039"
      ]
     },
     "execution_count": 7,
     "metadata": {},
     "output_type": "execute_result"
    }
   ],
   "source": [
    "ratings['user_id'].nunique()"
   ]
  },
  {
   "cell_type": "markdown",
   "id": "colonial-texas",
   "metadata": {},
   "source": [
    "### 가장 인기 많은 영화 30개 출력"
   ]
  },
  {
   "cell_type": "code",
   "execution_count": 8,
   "id": "numerical-property",
   "metadata": {},
   "outputs": [
    {
     "data": {
      "text/plain": [
       "title\n",
       "American Beauty (1999)                                   3211\n",
       "Star Wars: Episode IV - A New Hope (1977)                2910\n",
       "Star Wars: Episode V - The Empire Strikes Back (1980)    2885\n",
       "Star Wars: Episode VI - Return of the Jedi (1983)        2716\n",
       "Saving Private Ryan (1998)                               2561\n",
       "Terminator 2: Judgment Day (1991)                        2509\n",
       "Silence of the Lambs, The (1991)                         2498\n",
       "Raiders of the Lost Ark (1981)                           2473\n",
       "Back to the Future (1985)                                2460\n",
       "Matrix, The (1999)                                       2434\n",
       "Jurassic Park (1993)                                     2413\n",
       "Sixth Sense, The (1999)                                  2385\n",
       "Fargo (1996)                                             2371\n",
       "Braveheart (1995)                                        2314\n",
       "Men in Black (1997)                                      2297\n",
       "Schindler's List (1993)                                  2257\n",
       "Princess Bride, The (1987)                               2252\n",
       "Shakespeare in Love (1998)                               2213\n",
       "L.A. Confidential (1997)                                 2210\n",
       "Shawshank Redemption, The (1994)                         2194\n",
       "Godfather, The (1972)                                    2167\n",
       "Groundhog Day (1993)                                     2121\n",
       "E.T. the Extra-Terrestrial (1982)                        2102\n",
       "Being John Malkovich (1999)                              2066\n",
       "Ghostbusters (1984)                                      2051\n",
       "Pulp Fiction (1994)                                      2030\n",
       "Forrest Gump (1994)                                      2022\n",
       "Terminator, The (1984)                                   2019\n",
       "Toy Story (1995)                                         2000\n",
       "Fugitive, The (1993)                                     1941\n",
       "Name: user_id, dtype: int64"
      ]
     },
     "execution_count": 8,
     "metadata": {},
     "output_type": "execute_result"
    }
   ],
   "source": [
    "# 앞선 두 데이터프레임을 합쳐서 출력해보기\n",
    "mv_total = pd.merge(ratings, movies, how='left')\n",
    "mv_total\n",
    "\n",
    "mv_count = mv_total.groupby('title')['user_id'].count()\n",
    "mv_count.sort_values(ascending=False).head(30)"
   ]
  },
  {
   "cell_type": "markdown",
   "id": "annual-transparency",
   "metadata": {},
   "source": [
    "## 3. 내가 선호하는 영화를 5가지 골라서 rating에 추가\n",
    "\n",
    "> 저의 픽은 American Beauty (1999),  Sixth Sense, The (1999), Men in Black (1997), Terminator, The (1984), Toy Story (1995) 입니다.\n",
    "\n",
    "### movie_id 확인해보기"
   ]
  },
  {
   "cell_type": "code",
   "execution_count": 9,
   "id": "secret-retreat",
   "metadata": {},
   "outputs": [
    {
     "name": "stdout",
     "output_type": "stream",
     "text": [
      "      movie_id                   title         genre\n",
      "2789      2858  American Beauty (1999)  Comedy|Drama\n",
      "--------------------------------------------------------------------\n",
      "      movie_id                    title     genre\n",
      "2693      2762  Sixth Sense, The (1999)  Thriller\n",
      "--------------------------------------------------------------------\n",
      "      movie_id                title                           genre\n",
      "1539      1580  Men in Black (1997)  Action|Adventure|Comedy|Sci-Fi\n",
      "--------------------------------------------------------------------\n",
      "      movie_id                   title                   genre\n",
      "1220      1240  Terminator, The (1984)  Action|Sci-Fi|Thriller\n",
      "--------------------------------------------------------------------\n",
      "   movie_id             title                        genre\n",
      "0         1  Toy Story (1995)  Animation|Children's|Comedy\n",
      "--------------------------------------------------------------------\n"
     ]
    }
   ],
   "source": [
    "my_favorite = ['American Beauty (1999)' , 'Sixth Sense, The (1999)' ,'Men in Black (1997)' ,'Terminator, The (1984)' ,'Toy Story (1995)']\n",
    "\n",
    "for movie in my_favorite:\n",
    "    print(movies[movies['title'] == movie])\n",
    "    print('--------------------------------------------------------------------')\n",
    "    "
   ]
  },
  {
   "cell_type": "markdown",
   "id": "commercial-chair",
   "metadata": {},
   "source": [
    "### 데이터 프레임에 추가해보기\n",
    "> 여기서 저의 아이디는 hibiscircus, 별점은 5로 주었습니다.\n"
   ]
  },
  {
   "cell_type": "code",
   "execution_count": 10,
   "id": "valued-dominant",
   "metadata": {},
   "outputs": [
    {
     "data": {
      "text/html": [
       "<div>\n",
       "<style scoped>\n",
       "    .dataframe tbody tr th:only-of-type {\n",
       "        vertical-align: middle;\n",
       "    }\n",
       "\n",
       "    .dataframe tbody tr th {\n",
       "        vertical-align: top;\n",
       "    }\n",
       "\n",
       "    .dataframe thead th {\n",
       "        text-align: right;\n",
       "    }\n",
       "</style>\n",
       "<table border=\"1\" class=\"dataframe\">\n",
       "  <thead>\n",
       "    <tr style=\"text-align: right;\">\n",
       "      <th></th>\n",
       "      <th>user_id</th>\n",
       "      <th>movie_id</th>\n",
       "      <th>count</th>\n",
       "      <th>timestamp</th>\n",
       "    </tr>\n",
       "  </thead>\n",
       "  <tbody>\n",
       "    <tr>\n",
       "      <th>1000203</th>\n",
       "      <td>6040</td>\n",
       "      <td>1090</td>\n",
       "      <td>3</td>\n",
       "      <td>956715518.0</td>\n",
       "    </tr>\n",
       "    <tr>\n",
       "      <th>1000205</th>\n",
       "      <td>6040</td>\n",
       "      <td>1094</td>\n",
       "      <td>5</td>\n",
       "      <td>956704887.0</td>\n",
       "    </tr>\n",
       "    <tr>\n",
       "      <th>1000206</th>\n",
       "      <td>6040</td>\n",
       "      <td>562</td>\n",
       "      <td>5</td>\n",
       "      <td>956704746.0</td>\n",
       "    </tr>\n",
       "    <tr>\n",
       "      <th>1000207</th>\n",
       "      <td>6040</td>\n",
       "      <td>1096</td>\n",
       "      <td>4</td>\n",
       "      <td>956715648.0</td>\n",
       "    </tr>\n",
       "    <tr>\n",
       "      <th>1000208</th>\n",
       "      <td>6040</td>\n",
       "      <td>1097</td>\n",
       "      <td>4</td>\n",
       "      <td>956715569.0</td>\n",
       "    </tr>\n",
       "    <tr>\n",
       "      <th>0</th>\n",
       "      <td>hibiscircus</td>\n",
       "      <td>2858</td>\n",
       "      <td>5</td>\n",
       "      <td>NaN</td>\n",
       "    </tr>\n",
       "    <tr>\n",
       "      <th>1</th>\n",
       "      <td>hibiscircus</td>\n",
       "      <td>2762</td>\n",
       "      <td>5</td>\n",
       "      <td>NaN</td>\n",
       "    </tr>\n",
       "    <tr>\n",
       "      <th>2</th>\n",
       "      <td>hibiscircus</td>\n",
       "      <td>1580</td>\n",
       "      <td>5</td>\n",
       "      <td>NaN</td>\n",
       "    </tr>\n",
       "    <tr>\n",
       "      <th>3</th>\n",
       "      <td>hibiscircus</td>\n",
       "      <td>1240</td>\n",
       "      <td>5</td>\n",
       "      <td>NaN</td>\n",
       "    </tr>\n",
       "    <tr>\n",
       "      <th>4</th>\n",
       "      <td>hibiscircus</td>\n",
       "      <td>1</td>\n",
       "      <td>5</td>\n",
       "      <td>NaN</td>\n",
       "    </tr>\n",
       "  </tbody>\n",
       "</table>\n",
       "</div>"
      ],
      "text/plain": [
       "             user_id  movie_id  count    timestamp\n",
       "1000203         6040      1090      3  956715518.0\n",
       "1000205         6040      1094      5  956704887.0\n",
       "1000206         6040       562      5  956704746.0\n",
       "1000207         6040      1096      4  956715648.0\n",
       "1000208         6040      1097      4  956715569.0\n",
       "0        hibiscircus      2858      5          NaN\n",
       "1        hibiscircus      2762      5          NaN\n",
       "2        hibiscircus      1580      5          NaN\n",
       "3        hibiscircus      1240      5          NaN\n",
       "4        hibiscircus         1      5          NaN"
      ]
     },
     "execution_count": 10,
     "metadata": {},
     "output_type": "execute_result"
    }
   ],
   "source": [
    "my_mvid = [2858, 2762, 1580, 1240, 1]\n",
    "\n",
    "# 960917이라는 아이디 추가\n",
    "my_movielist = pd.DataFrame({'user_id': ['hibiscircus']*5, 'count':[5]*5, 'movie_id': [2858, 2762, 1580, 1240, 1]})\n",
    "\n",
    "if not ratings.isin({'user_id':[960917]})['user_id'].any():  # user_id에 'zimin'이라는 데이터가 없다면\n",
    "    ratings = ratings.append(my_movielist)                           # 위에 임의로 만든 my_favorite 데이터를 추가해 줍니다. \n",
    "\n",
    "ratings.tail(10)       # 잘 추가되었는지 확인해 봅시다."
   ]
  },
  {
   "cell_type": "markdown",
   "id": "biblical-cylinder",
   "metadata": {},
   "source": [
    "### 사용하는 컬럼만 남겨주기 (timestamp 컬럼 제거)"
   ]
  },
  {
   "cell_type": "code",
   "execution_count": 11,
   "id": "sufficient-headline",
   "metadata": {},
   "outputs": [
    {
     "data": {
      "text/html": [
       "<div>\n",
       "<style scoped>\n",
       "    .dataframe tbody tr th:only-of-type {\n",
       "        vertical-align: middle;\n",
       "    }\n",
       "\n",
       "    .dataframe tbody tr th {\n",
       "        vertical-align: top;\n",
       "    }\n",
       "\n",
       "    .dataframe thead th {\n",
       "        text-align: right;\n",
       "    }\n",
       "</style>\n",
       "<table border=\"1\" class=\"dataframe\">\n",
       "  <thead>\n",
       "    <tr style=\"text-align: right;\">\n",
       "      <th></th>\n",
       "      <th>user_id</th>\n",
       "      <th>movie_id</th>\n",
       "      <th>count</th>\n",
       "    </tr>\n",
       "  </thead>\n",
       "  <tbody>\n",
       "    <tr>\n",
       "      <th>0</th>\n",
       "      <td>1</td>\n",
       "      <td>1193</td>\n",
       "      <td>5</td>\n",
       "    </tr>\n",
       "    <tr>\n",
       "      <th>1</th>\n",
       "      <td>1</td>\n",
       "      <td>661</td>\n",
       "      <td>3</td>\n",
       "    </tr>\n",
       "    <tr>\n",
       "      <th>2</th>\n",
       "      <td>1</td>\n",
       "      <td>914</td>\n",
       "      <td>3</td>\n",
       "    </tr>\n",
       "    <tr>\n",
       "      <th>3</th>\n",
       "      <td>1</td>\n",
       "      <td>3408</td>\n",
       "      <td>4</td>\n",
       "    </tr>\n",
       "    <tr>\n",
       "      <th>4</th>\n",
       "      <td>1</td>\n",
       "      <td>2355</td>\n",
       "      <td>5</td>\n",
       "    </tr>\n",
       "    <tr>\n",
       "      <th>...</th>\n",
       "      <td>...</td>\n",
       "      <td>...</td>\n",
       "      <td>...</td>\n",
       "    </tr>\n",
       "    <tr>\n",
       "      <th>0</th>\n",
       "      <td>hibiscircus</td>\n",
       "      <td>2858</td>\n",
       "      <td>5</td>\n",
       "    </tr>\n",
       "    <tr>\n",
       "      <th>1</th>\n",
       "      <td>hibiscircus</td>\n",
       "      <td>2762</td>\n",
       "      <td>5</td>\n",
       "    </tr>\n",
       "    <tr>\n",
       "      <th>2</th>\n",
       "      <td>hibiscircus</td>\n",
       "      <td>1580</td>\n",
       "      <td>5</td>\n",
       "    </tr>\n",
       "    <tr>\n",
       "      <th>3</th>\n",
       "      <td>hibiscircus</td>\n",
       "      <td>1240</td>\n",
       "      <td>5</td>\n",
       "    </tr>\n",
       "    <tr>\n",
       "      <th>4</th>\n",
       "      <td>hibiscircus</td>\n",
       "      <td>1</td>\n",
       "      <td>5</td>\n",
       "    </tr>\n",
       "  </tbody>\n",
       "</table>\n",
       "<p>836483 rows × 3 columns</p>\n",
       "</div>"
      ],
      "text/plain": [
       "        user_id  movie_id  count\n",
       "0             1      1193      5\n",
       "1             1       661      3\n",
       "2             1       914      3\n",
       "3             1      3408      4\n",
       "4             1      2355      5\n",
       "..          ...       ...    ...\n",
       "0   hibiscircus      2858      5\n",
       "1   hibiscircus      2762      5\n",
       "2   hibiscircus      1580      5\n",
       "3   hibiscircus      1240      5\n",
       "4   hibiscircus         1      5\n",
       "\n",
       "[836483 rows x 3 columns]"
      ]
     },
     "execution_count": 11,
     "metadata": {},
     "output_type": "execute_result"
    }
   ],
   "source": [
    "using_cols = ['user_id', 'movie_id', 'count']\n",
    "ratings = ratings[using_cols]\n",
    "ratings"
   ]
  },
  {
   "cell_type": "markdown",
   "id": "becoming-diamond",
   "metadata": {},
   "source": [
    "### user_id와 movie_id 고유한 값으로 만들기\n",
    "\n",
    "> 여기서 아주 중요한 부분인 **원래의 값과 고유한 값을 이어주는 dictionary를 생성**"
   ]
  },
  {
   "cell_type": "code",
   "execution_count": 12,
   "id": "close-boutique",
   "metadata": {},
   "outputs": [
    {
     "name": "stdout",
     "output_type": "stream",
     "text": [
      "user_id column indexing OK!!\n",
      "movie column indexing OK!!\n"
     ]
    },
    {
     "data": {
      "text/html": [
       "<div>\n",
       "<style scoped>\n",
       "    .dataframe tbody tr th:only-of-type {\n",
       "        vertical-align: middle;\n",
       "    }\n",
       "\n",
       "    .dataframe tbody tr th {\n",
       "        vertical-align: top;\n",
       "    }\n",
       "\n",
       "    .dataframe thead th {\n",
       "        text-align: right;\n",
       "    }\n",
       "</style>\n",
       "<table border=\"1\" class=\"dataframe\">\n",
       "  <thead>\n",
       "    <tr style=\"text-align: right;\">\n",
       "      <th></th>\n",
       "      <th>user_id</th>\n",
       "      <th>movie_id</th>\n",
       "      <th>count</th>\n",
       "    </tr>\n",
       "  </thead>\n",
       "  <tbody>\n",
       "    <tr>\n",
       "      <th>0</th>\n",
       "      <td>0</td>\n",
       "      <td>0</td>\n",
       "      <td>5</td>\n",
       "    </tr>\n",
       "    <tr>\n",
       "      <th>1</th>\n",
       "      <td>0</td>\n",
       "      <td>1</td>\n",
       "      <td>3</td>\n",
       "    </tr>\n",
       "    <tr>\n",
       "      <th>2</th>\n",
       "      <td>0</td>\n",
       "      <td>2</td>\n",
       "      <td>3</td>\n",
       "    </tr>\n",
       "    <tr>\n",
       "      <th>3</th>\n",
       "      <td>0</td>\n",
       "      <td>3</td>\n",
       "      <td>4</td>\n",
       "    </tr>\n",
       "    <tr>\n",
       "      <th>4</th>\n",
       "      <td>0</td>\n",
       "      <td>4</td>\n",
       "      <td>5</td>\n",
       "    </tr>\n",
       "    <tr>\n",
       "      <th>...</th>\n",
       "      <td>...</td>\n",
       "      <td>...</td>\n",
       "      <td>...</td>\n",
       "    </tr>\n",
       "    <tr>\n",
       "      <th>0</th>\n",
       "      <td>6039</td>\n",
       "      <td>99</td>\n",
       "      <td>5</td>\n",
       "    </tr>\n",
       "    <tr>\n",
       "      <th>1</th>\n",
       "      <td>6039</td>\n",
       "      <td>38</td>\n",
       "      <td>5</td>\n",
       "    </tr>\n",
       "    <tr>\n",
       "      <th>2</th>\n",
       "      <td>6039</td>\n",
       "      <td>175</td>\n",
       "      <td>5</td>\n",
       "    </tr>\n",
       "    <tr>\n",
       "      <th>3</th>\n",
       "      <td>6039</td>\n",
       "      <td>200</td>\n",
       "      <td>5</td>\n",
       "    </tr>\n",
       "    <tr>\n",
       "      <th>4</th>\n",
       "      <td>6039</td>\n",
       "      <td>40</td>\n",
       "      <td>5</td>\n",
       "    </tr>\n",
       "  </tbody>\n",
       "</table>\n",
       "<p>836483 rows × 3 columns</p>\n",
       "</div>"
      ],
      "text/plain": [
       "    user_id  movie_id  count\n",
       "0         0         0      5\n",
       "1         0         1      3\n",
       "2         0         2      3\n",
       "3         0         3      4\n",
       "4         0         4      5\n",
       "..      ...       ...    ...\n",
       "0      6039        99      5\n",
       "1      6039        38      5\n",
       "2      6039       175      5\n",
       "3      6039       200      5\n",
       "4      6039        40      5\n",
       "\n",
       "[836483 rows x 3 columns]"
      ]
     },
     "execution_count": 12,
     "metadata": {},
     "output_type": "execute_result"
    }
   ],
   "source": [
    "user_unique = ratings['user_id'].unique()\n",
    "movie_unique = ratings['movie_id'].unique()\n",
    "\n",
    "user_to_idx = {v:k for k,v in enumerate(user_unique)}\n",
    "movie_to_idx = {v:k for k,v in enumerate(movie_unique)}\n",
    "\n",
    "temp_user_data = ratings['user_id'].map(user_to_idx.get).dropna()\n",
    "if len(temp_user_data) == len(ratings):   \n",
    "    print('user_id column indexing OK!!')\n",
    "    ratings['user_id'] = temp_user_data    \n",
    "else:\n",
    "    print('user_id column indexing Fail!!')\n",
    "\n",
    "temp_movie_data = ratings['movie_id'].map(movie_to_idx.get).dropna()\n",
    "if len(temp_movie_data) == len(ratings):\n",
    "    print('movie column indexing OK!!')\n",
    "    ratings['movie_id'] = temp_movie_data\n",
    "else:\n",
    "    print('movie column indexing Fail!!')\n",
    "\n",
    "ratings"
   ]
  },
  {
   "cell_type": "markdown",
   "id": "editorial-microwave",
   "metadata": {},
   "source": [
    "## 4. CSR matrix 만들기"
   ]
  },
  {
   "cell_type": "code",
   "execution_count": 13,
   "id": "corrected-massage",
   "metadata": {},
   "outputs": [
    {
     "data": {
      "text/plain": [
       "<6040x3628 sparse matrix of type '<class 'numpy.int64'>'\n",
       "\twith 836483 stored elements in Compressed Sparse Row format>"
      ]
     },
     "execution_count": 13,
     "metadata": {},
     "output_type": "execute_result"
    }
   ],
   "source": [
    "num_user = ratings['user_id'].nunique()\n",
    "num_movie = ratings['movie_id'].nunique()\n",
    "\n",
    "csr_data = csr_matrix((ratings['count'], (ratings.user_id, ratings.movie_id)))\n",
    "csr_data"
   ]
  },
  {
   "cell_type": "markdown",
   "id": "engaged-final",
   "metadata": {},
   "source": [
    "## 5. als_model = AlternatingLeastSquares 모델을 직접 구성하여 훈련\n",
    "\n",
    "### 실행시키기 위해 필요한 부분"
   ]
  },
  {
   "cell_type": "code",
   "execution_count": 14,
   "id": "endangered-california",
   "metadata": {},
   "outputs": [],
   "source": [
    "os.environ['OPENBLAS_NUM_THREADS']='1'\n",
    "os.environ['KMP_DUPLICATE_LIB_OK']='True'\n",
    "os.environ['MKL_NUM_THREADS']='1'"
   ]
  },
  {
   "cell_type": "markdown",
   "id": "civic-princess",
   "metadata": {},
   "source": [
    "### Implicit AlternatingLeastSquares 모델의 선언"
   ]
  },
  {
   "cell_type": "code",
   "execution_count": 15,
   "id": "found-alignment",
   "metadata": {},
   "outputs": [],
   "source": [
    "als_model = AlternatingLeastSquares(factors=100, regularization=0.01, use_gpu=False, iterations=15, dtype=np.float32)"
   ]
  },
  {
   "cell_type": "markdown",
   "id": "dated-crossing",
   "metadata": {},
   "source": [
    "### als 모델은 input으로 (item X user 꼴의 matrix를 받기 때문에 Transpose)"
   ]
  },
  {
   "cell_type": "code",
   "execution_count": 16,
   "id": "linear-treaty",
   "metadata": {},
   "outputs": [
    {
     "data": {
      "text/plain": [
       "<3628x6040 sparse matrix of type '<class 'numpy.int64'>'\n",
       "\twith 836483 stored elements in Compressed Sparse Column format>"
      ]
     },
     "execution_count": 16,
     "metadata": {},
     "output_type": "execute_result"
    }
   ],
   "source": [
    "csr_data_transpose = csr_data.T\n",
    "csr_data_transpose"
   ]
  },
  {
   "cell_type": "markdown",
   "id": "copyrighted-visit",
   "metadata": {},
   "source": [
    "### model fitting"
   ]
  },
  {
   "cell_type": "code",
   "execution_count": 17,
   "id": "positive-lotus",
   "metadata": {},
   "outputs": [
    {
     "data": {
      "application/vnd.jupyter.widget-view+json": {
       "model_id": "e78c1a07cc9749c0a774b93f54f32a39",
       "version_major": 2,
       "version_minor": 0
      },
      "text/plain": [
       "  0%|          | 0/15 [00:00<?, ?it/s]"
      ]
     },
     "metadata": {},
     "output_type": "display_data"
    }
   ],
   "source": [
    "als_model.fit(csr_data_transpose)"
   ]
  },
  {
   "cell_type": "markdown",
   "id": "fresh-breeding",
   "metadata": {},
   "source": [
    "## 6. 내가 선호하는 5가지 영화 중 하나와 그 외의 영화 하나를 골라 훈련된 모델이 예측한 나의 선호도를 파악\n",
    "\n",
    "### 나의 아이디 hibiscircus 입력"
   ]
  },
  {
   "cell_type": "code",
   "execution_count": 18,
   "id": "experienced-cassette",
   "metadata": {},
   "outputs": [],
   "source": [
    "hibiscircus = user_to_idx['hibiscircus']"
   ]
  },
  {
   "cell_type": "markdown",
   "id": "neither-chance",
   "metadata": {},
   "source": [
    "### 내가 선호하는 영화 중 Toy Story (1995)를 입력"
   ]
  },
  {
   "cell_type": "code",
   "execution_count": 19,
   "id": "chubby-glory",
   "metadata": {},
   "outputs": [
    {
     "data": {
      "text/plain": [
       "array([ 232.95213671, -130.59452829,  -97.13349479,  262.67320802,\n",
       "         45.77946685,  -98.8347313 ,  -75.22344226,  225.67691278,\n",
       "         -4.08467396,  250.97056895,  281.64411943,   16.52847235,\n",
       "       -106.65847777,  138.83261378, -112.57822202, -181.50049979,\n",
       "         76.69680075, -166.33339714,  -16.91741784,   72.59819656,\n",
       "         68.80212115,  -63.93412984,  -42.50617175,   -8.40905447,\n",
       "         78.39599566,  190.19295776,   99.76682817,  -78.44573096,\n",
       "         54.77115216, -163.99529225,   -6.51268857,   90.70785987,\n",
       "        186.12180556, -117.65426021,  -27.99370731,   29.64593967,\n",
       "         17.21953746,    7.87621938,   83.20480853, -103.32923257,\n",
       "        156.98339603,   34.63562865,   61.70912877,   16.71771313,\n",
       "         33.14766959,   57.12553926,  133.8067102 , -119.10638714,\n",
       "        196.43970755, -184.57828446,  -67.06829769,   85.8918592 ,\n",
       "        116.18319079,  122.9741662 ,  112.55248542,    3.5358203 ,\n",
       "        203.76071294,   98.19539951,  -49.74375253,  -11.51480154,\n",
       "         92.48360654,  139.77883878,  131.2461997 ,  128.23780711,\n",
       "        -46.93922802,  212.57525102, -194.48874278,  124.5820063 ,\n",
       "        -23.73445183,  139.98454035,   -3.68209246,  208.11991708,\n",
       "        -68.10838029, -172.02757493,  -50.3615378 ,  137.11282846,\n",
       "         76.24476234,   20.67682591, -114.51231402,  116.40962338,\n",
       "         73.98532956,    9.96122427,   67.43943678, -160.13823302,\n",
       "        103.63134516,   74.10391702,  143.62679796,    9.3028853 ,\n",
       "       -132.93901108,  156.78065282, -123.18463714,  -19.53923978,\n",
       "         16.43042327,  143.36753096,  -23.04087549,   -7.23572548,\n",
       "         -4.50713089, -126.13524611,   92.51405064,   31.30980018])"
      ]
     },
     "execution_count": 19,
     "metadata": {},
     "output_type": "execute_result"
    }
   ],
   "source": [
    "terminator = movie_to_idx[1]\n",
    "terminator_vector = als_model.item_factors[terminator]\n",
    "np.dot(hibiscircus, terminator_vector)"
   ]
  },
  {
   "cell_type": "markdown",
   "id": "pointed-stupid",
   "metadata": {},
   "source": [
    "### 그 외 영화 Jumanji (1995)를 입력\n",
    "\n",
    "> 영화이름과 인덱스는 1. '영화 제목을 보기 위해 다른 파일 불러오기'에서 movie.dat을 불러왔을 때의 출력을 참조하였습니다."
   ]
  },
  {
   "cell_type": "code",
   "execution_count": 20,
   "id": "described-message",
   "metadata": {},
   "outputs": [
    {
     "data": {
      "text/plain": [
       "array([ 284.16007457,  147.99874667,  -13.20413993,   44.5602151 ,\n",
       "        129.21948743,  -59.29109757,  -20.59059902,  -41.48032133,\n",
       "         25.991424  ,    8.01497332,   52.45737781,  -17.61063986,\n",
       "        -13.16195098,  102.35332274,  175.88877361,   29.47674514,\n",
       "         51.55556194,   91.04710943,   80.32516644,   65.74468504,\n",
       "       -106.47029013,  -53.52019928,  -35.11698069,  -64.07295338,\n",
       "        -11.23700683,   60.4545145 ,    2.44482885,   90.23993293,\n",
       "        150.54894228,   56.53826559,    7.4855367 ,   41.46828542,\n",
       "         12.02837916,   25.12649763,   31.73368075,   69.83411045,\n",
       "        -18.8769568 ,  202.61838134,    3.20200412,  -14.87121752,\n",
       "         34.54257813,  173.24771249,   -5.45664503,  197.33783391,\n",
       "         19.51610721,   75.58151058, -179.49644203, -116.05207811,\n",
       "         46.95353331,   26.21736728,  154.84688702,  -15.83393144,\n",
       "         74.88307909,   92.84097746,  103.62302126,  127.25563186,\n",
       "        121.88487135,  162.74989052,  116.61620234,   61.97223151,\n",
       "        160.40617263,   65.49725148, -153.47086754,  173.69307491,\n",
       "         -2.88073847,  129.78259929,  -31.1396636 ,   76.37521698,\n",
       "         39.17501149,  -96.5353438 ,   63.51115197,   87.69950103,\n",
       "         67.14049065,   83.04865104,   19.1884169 ,   13.54820667,\n",
       "         16.70637885,  124.16285292,  -92.06542616,   -5.91014082,\n",
       "          8.60042192,   40.32136162,   59.75893451,  -48.10100267,\n",
       "        -44.5218436 ,  109.78277505,   79.43044838, -100.67709167,\n",
       "         73.7318218 ,  -18.84993365,  164.28221935,  -37.24174344,\n",
       "        -39.04689654,   71.63975004,  122.24288905, -169.50341962,\n",
       "        -73.33721831,  104.29880949,  -44.86316008,   92.86222028])"
      ]
     },
     "execution_count": 20,
     "metadata": {},
     "output_type": "execute_result"
    }
   ],
   "source": [
    "jumanji = movie_to_idx[2]\n",
    "jumanji_vector = als_model.item_factors[jumanji]\n",
    "np.dot(hibiscircus, jumanji_vector)"
   ]
  },
  {
   "cell_type": "markdown",
   "id": "competitive-cooperative",
   "metadata": {},
   "source": [
    "> 제가 선호하는 영화Toy Story (1995)에서의 값은 0.45919308이고, 그 외 영화Jumanji (1995)에서는 0.03269084의 값을 얻은 걸로 보아 제가 선호하는 영화에 좀 더 점수를 잘 주는 것으로 보입니다. 그렇다면 Toy Story (1995)유사한 영화들과의 유사도를 살펴보겠습니다.\n",
    "\n",
    "###  Toy Story (1995)유사한 영화들과의 유사도"
   ]
  },
  {
   "cell_type": "code",
   "execution_count": 21,
   "id": "tired-aside",
   "metadata": {},
   "outputs": [
    {
     "data": {
      "text/plain": [
       "[(40, 0.9999998),\n",
       " (50, 0.81410486),\n",
       " (33, 0.60208356),\n",
       " (4, 0.5988425),\n",
       " (110, 0.531973),\n",
       " (322, 0.5124832),\n",
       " (330, 0.4699829),\n",
       " (10, 0.46058434),\n",
       " (20, 0.43149912),\n",
       " (255, 0.4051367),\n",
       " (126, 0.3862885),\n",
       " (34, 0.35623544),\n",
       " (160, 0.35455826),\n",
       " (16, 0.34881124),\n",
       " (32, 0.34578842)]"
      ]
     },
     "execution_count": 21,
     "metadata": {},
     "output_type": "execute_result"
    }
   ],
   "source": [
    "movie_id = movie_to_idx[1]\n",
    "similar_movie = als_model.similar_items(movie_id, N=15)\n",
    "similar_movie"
   ]
  },
  {
   "cell_type": "markdown",
   "id": "biblical-discrimination",
   "metadata": {},
   "source": [
    "> 어떤 영화인지 살펴봐주는 함수를 만들어보겠습니다.\n",
    "\n",
    "## 7.내가 좋아하는 영화와 비슷한 영화를 추천받기"
   ]
  },
  {
   "cell_type": "code",
   "execution_count": 22,
   "id": "legendary-country",
   "metadata": {},
   "outputs": [
    {
     "name": "stdout",
     "output_type": "stream",
     "text": [
      "   movie_id             title                        genre\n",
      "0         1  Toy Story (1995)  Animation|Children's|Comedy\n",
      "--------------------------------------------------------------------\n",
      "      movie_id               title                        genre\n",
      "3045      3114  Toy Story 2 (1999)  Animation|Children's|Comedy\n",
      "--------------------------------------------------------------------\n",
      "     movie_id           title                                genre\n",
      "584       588  Aladdin (1992)  Animation|Children's|Comedy|Musical\n",
      "--------------------------------------------------------------------\n",
      "      movie_id                 title                        genre\n",
      "2286      2355  Bug's Life, A (1998)  Animation|Children's|Comedy\n",
      "--------------------------------------------------------------------\n",
      "      movie_id                 title           genre\n",
      "1245      1265  Groundhog Day (1993)  Comedy|Romance\n",
      "--------------------------------------------------------------------\n",
      "    movie_id        title                    genre\n",
      "33        34  Babe (1995)  Children's|Comedy|Drama\n",
      "--------------------------------------------------------------------\n",
      "     movie_id                  title                         genre\n",
      "360       364  Lion King, The (1994)  Animation|Children's|Musical\n",
      "--------------------------------------------------------------------\n",
      "     movie_id                        title                         genre\n",
      "591       595  Beauty and the Beast (1991)  Animation|Children's|Musical\n",
      "--------------------------------------------------------------------\n",
      "      movie_id                 title   genre\n",
      "2252      2321  Pleasantville (1998)  Comedy\n",
      "--------------------------------------------------------------------\n",
      "      movie_id                                title   genre\n",
      "1854      1923  There's Something About Mary (1998)  Comedy\n",
      "--------------------------------------------------------------------\n",
      "      movie_id                       title           genre\n",
      "2327      2396  Shakespeare in Love (1998)  Comedy|Romance\n",
      "--------------------------------------------------------------------\n",
      "      movie_id         title                 genre\n",
      "1838      1907  Mulan (1998)  Animation|Children's\n",
      "--------------------------------------------------------------------\n",
      "     movie_id                title               genre\n",
      "352       356  Forrest Gump (1994)  Comedy|Romance|War\n",
      "--------------------------------------------------------------------\n",
      "      movie_id          title                 genre\n",
      "2618      2687  Tarzan (1999)  Animation|Children's\n",
      "--------------------------------------------------------------------\n",
      "      movie_id            title                                          genre\n",
      "1526      1566  Hercules (1997)  Adventure|Animation|Children's|Comedy|Musical\n",
      "--------------------------------------------------------------------\n"
     ]
    }
   ],
   "source": [
    "def get_similar_movie(favorite_movie):\n",
    "    movie_id = movie_to_idx[favorite_movie]\n",
    "    similar_movie = als_model.similar_items(movie_id, N=15)\n",
    "    idx_to_movie = {v:k for k,v in movie_to_idx.items()}\n",
    "    recommand_list = [idx_to_movie[i[0]] for i in similar_movie]\n",
    "    for movie in recommand_list:\n",
    "        print(movies[movies['movie_id'] == movie], '--------------------------------------------------------------------', sep='\\n')\n",
    "\n",
    "get_similar_movie(1)    "
   ]
  },
  {
   "cell_type": "markdown",
   "id": "nearby-perspective",
   "metadata": {},
   "source": [
    "## 8. 내가 가장 좋아할 만한 영화들을 추천받기"
   ]
  },
  {
   "cell_type": "code",
   "execution_count": 23,
   "id": "analyzed-former",
   "metadata": {},
   "outputs": [
    {
     "name": "stdout",
     "output_type": "stream",
     "text": [
      "     movie_id                    title         genre\n",
      "898       910  Some Like It Hot (1959)  Comedy|Crime\n",
      "--------------------------------------------------------------------\n",
      "      movie_id               title           genre\n",
      "2992      3061  Holiday Inn (1942)  Comedy|Musical\n",
      "--------------------------------------------------------------------\n",
      "     movie_id                           title           genre\n",
      "886       898  Philadelphia Story, The (1940)  Comedy|Romance\n",
      "--------------------------------------------------------------------\n",
      "      movie_id                       title    genre\n",
      "1022      1035  Sound of Music, The (1965)  Musical\n",
      "--------------------------------------------------------------------\n",
      "      movie_id                   title    genre\n",
      "3606      3675  White Christmas (1954)  Musical\n",
      "--------------------------------------------------------------------\n",
      "      movie_id                             title               genre\n",
      "1247      1267  Manchurian Candidate, The (1962)  Film-Noir|Thriller\n",
      "--------------------------------------------------------------------\n",
      "   movie_id             title                        genre\n",
      "0         1  Toy Story (1995)  Animation|Children's|Comedy\n",
      "--------------------------------------------------------------------\n",
      "      movie_id                    title            genre\n",
      "3366      3435  Double Indemnity (1944)  Crime|Film-Noir\n",
      "--------------------------------------------------------------------\n",
      "      movie_id                 title          genre\n",
      "1227      1247  Graduate, The (1967)  Drama|Romance\n",
      "--------------------------------------------------------------------\n",
      "     movie_id                                   title  \\\n",
      "590       594  Snow White and the Seven Dwarfs (1937)   \n",
      "\n",
      "                            genre  \n",
      "590  Animation|Children's|Musical  \n",
      "--------------------------------------------------------------------\n",
      "      movie_id                       title                         genre\n",
      "1019      1032  Alice in Wonderland (1951)  Animation|Children's|Musical\n",
      "--------------------------------------------------------------------\n",
      "     movie_id                          title          genre\n",
      "890       902  Breakfast at Tiffany's (1961)  Drama|Romance\n",
      "--------------------------------------------------------------------\n",
      "      movie_id                                              title  \\\n",
      "1178      1196  Star Wars: Episode V - The Empire Strikes Back...   \n",
      "\n",
      "                                  genre  \n",
      "1178  Action|Adventure|Drama|Sci-Fi|War  \n",
      "--------------------------------------------------------------------\n",
      "     movie_id           title             genre\n",
      "916       928  Rebecca (1940)  Romance|Thriller\n",
      "--------------------------------------------------------------------\n",
      "     movie_id                title             genre\n",
      "537       541  Blade Runner (1982)  Film-Noir|Sci-Fi\n",
      "--------------------------------------------------------------------\n",
      "     movie_id                         title   genre\n",
      "893       905  It Happened One Night (1934)  Comedy\n",
      "--------------------------------------------------------------------\n",
      "      movie_id               title    genre\n",
      "3537      3606  On the Town (1949)  Musical\n",
      "--------------------------------------------------------------------\n",
      "     movie_id                      title           genre\n",
      "896       908  North by Northwest (1959)  Drama|Thriller\n",
      "--------------------------------------------------------------------\n",
      "      movie_id             title       genre\n",
      "1236      1256  Duck Soup (1933)  Comedy|War\n",
      "--------------------------------------------------------------------\n",
      "      movie_id                    title                                genre\n",
      "2009      2078  Jungle Book, The (1967)  Animation|Children's|Comedy|Musical\n",
      "--------------------------------------------------------------------\n"
     ]
    }
   ],
   "source": [
    "def recommand_movie(user_id):\n",
    "    user = user_to_idx[user_id]\n",
    "    movie_recommended = als_model.recommend(user, csr_data, N=20, filter_already_liked_items=True)\n",
    "    idx_to_movie = {v:k for k,v in movie_to_idx.items()}\n",
    "    recommand_list = [idx_to_movie[i[0]] for i in movie_recommended]\n",
    "    for movie in recommand_list:\n",
    "        print(movies[movies['movie_id'] == movie], '--------------------------------------------------------------------', sep='\\n')\n",
    "\n",
    "recommand_movie(hibiscircus)"
   ]
  },
  {
   "cell_type": "markdown",
   "id": "sixth-basement",
   "metadata": {},
   "source": [
    "## 9. 내가 좋아할만한 영화에 대해 기여해준 영화와 기여도 확인\n",
    "\n",
    "> 저에게 가장 우선순위로 추천해준 Some Like It Hot (1959) 영화에 대해 어떤 영화가 얼마나 기여를 해주었는지 확인해보겠습니다.\n",
    "\n",
    "### 기여도"
   ]
  },
  {
   "cell_type": "code",
   "execution_count": 24,
   "id": "buried-ferry",
   "metadata": {},
   "outputs": [
    {
     "data": {
      "text/plain": [
       "[(2300, 0.09301846704320105),\n",
       " (2396, 0.07844976037228057),\n",
       " (1276, 0.07170098892972018),\n",
       " (903, 0.06460940017792008),\n",
       " (933, 0.0548044086923592),\n",
       " (955, 0.05406906793050363),\n",
       " (909, 0.049471474504413526),\n",
       " (922, 0.04891438448821417),\n",
       " (3088, 0.0481447643570141),\n",
       " (3548, 0.047611672298579336)]"
      ]
     },
     "execution_count": 24,
     "metadata": {},
     "output_type": "execute_result"
    }
   ],
   "source": [
    "user = user_to_idx[hibiscircus]\n",
    "idx_to_movie = {v:k for k,v in movie_to_idx.items()}\n",
    "some_like_it_hot = movie_to_idx[910]\n",
    "explain = als_model.explain(user, csr_data, itemid=some_like_it_hot)\n",
    "[(idx_to_movie[i[0]], i[1]) for i in explain[1]]"
   ]
  },
  {
   "cell_type": "markdown",
   "id": "subsequent-credit",
   "metadata": {},
   "source": [
    "### 기여한 영화"
   ]
  },
  {
   "cell_type": "code",
   "execution_count": 25,
   "id": "liquid-nitrogen",
   "metadata": {},
   "outputs": [
    {
     "name": "stdout",
     "output_type": "stream",
     "text": [
      "      movie_id                  title           genre\n",
      "2231      2300  Producers, The (1968)  Comedy|Musical\n",
      "--------------------------------------------------------------------\n",
      "      movie_id                       title           genre\n",
      "2327      2396  Shakespeare in Love (1998)  Comedy|Romance\n",
      "--------------------------------------------------------------------\n",
      "      movie_id                  title         genre\n",
      "1256      1276  Cool Hand Luke (1967)  Comedy|Drama\n",
      "--------------------------------------------------------------------\n",
      "     movie_id           title             genre\n",
      "891       903  Vertigo (1958)  Mystery|Thriller\n",
      "--------------------------------------------------------------------\n",
      "     movie_id                    title                    genre\n",
      "921       933  To Catch a Thief (1955)  Comedy|Romance|Thriller\n",
      "--------------------------------------------------------------------\n",
      "     movie_id                    title   genre\n",
      "943       955  Bringing Up Baby (1938)  Comedy\n",
      "--------------------------------------------------------------------\n",
      "     movie_id                  title         genre\n",
      "897       909  Apartment, The (1960)  Comedy|Drama\n",
      "--------------------------------------------------------------------\n",
      "     movie_id                                          title      genre\n",
      "910       922  Sunset Blvd. (a.k.a. Sunset Boulevard) (1950)  Film-Noir\n",
      "--------------------------------------------------------------------\n",
      "      movie_id          title   genre\n",
      "3019      3088  Harvey (1950)  Comedy\n",
      "--------------------------------------------------------------------\n",
      "      movie_id               title         genre\n",
      "3479      3548  Auntie Mame (1958)  Comedy|Drama\n",
      "--------------------------------------------------------------------\n"
     ]
    }
   ],
   "source": [
    "contribution = [idx_to_movie[i[0]] for i in explain[1]]\n",
    "for movie in contribution:\n",
    "    print(movies[movies['movie_id'] == movie], '--------------------------------------------------------------------', sep='\\n')\n"
   ]
  },
  {
   "cell_type": "markdown",
   "id": "attempted-optimization",
   "metadata": {},
   "source": [
    "> Some Like It Hot (1959)영화의 장르는 Comedy|Crime입니다. 그런데 이 영화를 추천해줄 때 기여한 영화의 장르의 종류는 90%가 comedy아니면 Thriller입니다. 그외 영화인 Sunset Blvd. (a.k.a. Sunset Boulevard) (1950) 은 출연진도 Some Like It Hot과 비교해보았지만 크게 공통된 부분이 없었습니다. 저의 추측으로는 비슷한 연도에 만들어졌기 때문이 아닌가 생각합니다.\n",
    "\n",
    "## 회고\n",
    "\n",
    "영화 id와 영화이름을 매칭하는 것의 어려움\n",
    "- 처음에는 rating.dat과 movies.dat을 합쳐서 분석하려고 했습니다. 하지만, 필요없는 컬럼이 생겨서 난잡하기만 했고, 결국에는 영화를 인기순으로 출력하며 count를 같이 출력할때만 만들었습니다. 그 이외에는 필요할 때마다 호출하는 식으로 하기로 하였습니다.\n",
    "\n",
    "CSR matrix의 생성의 어려움\n",
    "- CSR matrix의 생성을 위해 csr_matrix를 사용하였을 때 shape를 지정해주는 경우 에러가 발생하였습니다. 이로 인해 원인을 찾다가 shape를 지정해주지 않아도 자동으로 설정해준다는 것을 알게되어 지우니 해결되었습니다.\n",
    "\n",
    "\n",
    "## 루브릭\n",
    "\n",
    "사용자와 아이템 개수를 바탕으로 정확한 사이즈로 만들었다.\n",
    "- 4.CSR matrix 만들기에서 확인이 가능합니다. 6040x3628의 크기로 만들어졌습니다.\n",
    "\n",
    "사용자와 아이템 벡터 내적수치가 의미있게 형성되었다.\n",
    "- 6. 내가 선호하는 5가지 영화 중 하나와 그 외의 영화 하나를 골라 훈련된 모델이 예측한 나의 선호도를 파악에서 확인이 가능합니다. 제가 선호하는 영화의 내적수치는 0.45919308, 그 외 영화의 내적수치는 0.03269084가 나온 것으로 보아 의미가 있다고 볼 수 있습니다. (원래 rating이라는 변수는 명시적 평가이지만 이번 프로젝트를 위해 암묵적 평가로 보았다. 따라서, 내적수치는 의미가 있을 수 밖에 없다.)\n",
    "\n",
    "MF모델이 예측한 유저 선호도 및 아이템간 유사도, 기여도가 의미있게 측정되었다.\n",
    "- 6. 내가 선호하는 5가지 영화 중 하나와 그 외의 영화 하나를 골라 훈련된 모델이 예측한 나의 선호도를 파악과 9. 내가 좋아할만한 영화에 대해 기여해준 영화와 기여도 확인 확인이 가능합니다."
   ]
  },
  {
   "cell_type": "code",
   "execution_count": null,
   "id": "aggregate-israeli",
   "metadata": {},
   "outputs": [],
   "source": []
  }
 ],
 "metadata": {
  "kernelspec": {
   "display_name": "aiffel",
   "language": "python",
   "name": "aiffel"
  },
  "language_info": {
   "codemirror_mode": {
    "name": "ipython",
    "version": 3
   },
   "file_extension": ".py",
   "mimetype": "text/x-python",
   "name": "python",
   "nbconvert_exporter": "python",
   "pygments_lexer": "ipython3",
   "version": "3.7.9"
  }
 },
 "nbformat": 4,
 "nbformat_minor": 5
}
