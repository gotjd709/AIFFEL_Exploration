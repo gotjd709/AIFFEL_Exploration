{
 "cells": [
  {
   "cell_type": "markdown",
   "id": "ecological-recorder",
   "metadata": {},
   "source": [
    "E8.project_Movielens_Recommandation\n",
    "===\n",
    "---\n",
    "\n",
    "넷플릭스에서는 사용자가 시청한 영화를 토대로 다른 영화들을 추천해줍니다. 이번 프로젝트로 CSR matrix를 사용하여 추천시스템 만들기를 도전해보겠습니다.\n",
    "\n",
    "\n",
    "![netflix-ec82acec9aa9eab8b0_image-8](https://user-images.githubusercontent.com/70703320/107152448-46052b00-69ab-11eb-914f-7b8148b32956.png)\n",
    "\n",
    "[이미지 출처](https://byline.network/2016/07/1-225/)\n",
    "\n",
    "영화데이터에 대한 정보는 [이곳](https://biology-statistics-programming.tistory.com/47) 정리해주었습니다.\n",
    "\n",
    "\n",
    "\n",
    "## 1. 데이터 준비와 전처리\n",
    "\n",
    "### 필요한 라이브러리 불러오기"
   ]
  },
  {
   "cell_type": "code",
   "execution_count": 1,
   "id": "female-roller",
   "metadata": {},
   "outputs": [
    {
     "data": {
      "text/html": [
       "<div>\n",
       "<style scoped>\n",
       "    .dataframe tbody tr th:only-of-type {\n",
       "        vertical-align: middle;\n",
       "    }\n",
       "\n",
       "    .dataframe tbody tr th {\n",
       "        vertical-align: top;\n",
       "    }\n",
       "\n",
       "    .dataframe thead th {\n",
       "        text-align: right;\n",
       "    }\n",
       "</style>\n",
       "<table border=\"1\" class=\"dataframe\">\n",
       "  <thead>\n",
       "    <tr style=\"text-align: right;\">\n",
       "      <th></th>\n",
       "      <th>user_id</th>\n",
       "      <th>movie_id</th>\n",
       "      <th>rating</th>\n",
       "      <th>timestamp</th>\n",
       "    </tr>\n",
       "  </thead>\n",
       "  <tbody>\n",
       "    <tr>\n",
       "      <th>0</th>\n",
       "      <td>1</td>\n",
       "      <td>1193</td>\n",
       "      <td>5</td>\n",
       "      <td>978300760</td>\n",
       "    </tr>\n",
       "    <tr>\n",
       "      <th>1</th>\n",
       "      <td>1</td>\n",
       "      <td>661</td>\n",
       "      <td>3</td>\n",
       "      <td>978302109</td>\n",
       "    </tr>\n",
       "    <tr>\n",
       "      <th>2</th>\n",
       "      <td>1</td>\n",
       "      <td>914</td>\n",
       "      <td>3</td>\n",
       "      <td>978301968</td>\n",
       "    </tr>\n",
       "    <tr>\n",
       "      <th>3</th>\n",
       "      <td>1</td>\n",
       "      <td>3408</td>\n",
       "      <td>4</td>\n",
       "      <td>978300275</td>\n",
       "    </tr>\n",
       "    <tr>\n",
       "      <th>4</th>\n",
       "      <td>1</td>\n",
       "      <td>2355</td>\n",
       "      <td>5</td>\n",
       "      <td>978824291</td>\n",
       "    </tr>\n",
       "  </tbody>\n",
       "</table>\n",
       "</div>"
      ],
      "text/plain": [
       "   user_id  movie_id  rating  timestamp\n",
       "0        1      1193       5  978300760\n",
       "1        1       661       3  978302109\n",
       "2        1       914       3  978301968\n",
       "3        1      3408       4  978300275\n",
       "4        1      2355       5  978824291"
      ]
     },
     "execution_count": 1,
     "metadata": {},
     "output_type": "execute_result"
    }
   ],
   "source": [
    "import os\n",
    "import pandas as pd\n",
    "import numpy as np\n",
    "from scipy.sparse import csr_matrix\n",
    "from implicit.als import AlternatingLeastSquares\n",
    "import os\n",
    "import numpy as np"
   ]
  },
  {
   "cell_type": "markdown",
   "id": "driven-trial",
   "metadata": {},
   "source": [
    "### 데이터 불러와서 확인해보기"
   ]
  },
  {
   "cell_type": "code",
   "execution_count": null,
   "id": "paperback-society",
   "metadata": {},
   "outputs": [],
   "source": [
    "rating_file_path=os.getenv('HOME') + '/aiffel/recommendata_iu/data/ml-1m/ratings.dat'\n",
    "ratings_cols = ['user_id', 'movie_id', 'rating', 'timestamp']\n",
    "ratings = pd.read_csv(rating_file_path, sep='::', names=ratings_cols, engine='python')\n",
    "orginal_data_size = len(ratings)\n",
    "ratings.head()"
   ]
  },
  {
   "cell_type": "markdown",
   "id": "therapeutic-location",
   "metadata": {},
   "source": [
    "### rating이 3점 이상인 것만 남겨주기"
   ]
  },
  {
   "cell_type": "code",
   "execution_count": 2,
   "id": "likely-bracelet",
   "metadata": {},
   "outputs": [
    {
     "name": "stdout",
     "output_type": "stream",
     "text": [
      "orginal_data_size: 1000209, filtered_data_size: 836478\n",
      "Ratio of Remaining Data is 83.63%\n"
     ]
    }
   ],
   "source": [
    "ratings = ratings[ratings['rating']>=3]\n",
    "filtered_data_size = len(ratings)\n",
    "\n",
    "print(f'orginal_data_size: {orginal_data_size}, filtered_data_size: {filtered_data_size}')\n",
    "print(f'Ratio of Remaining Data is {filtered_data_size / orginal_data_size:.2%}')"
   ]
  },
  {
   "cell_type": "markdown",
   "id": "future-costa",
   "metadata": {},
   "source": [
    "### rating컬럼의 이름을 count로 바꿔준 후 확인하기"
   ]
  },
  {
   "cell_type": "code",
   "execution_count": 3,
   "id": "defensive-juvenile",
   "metadata": {},
   "outputs": [],
   "source": [
    "ratings.rename(columns={'rating':'count'}, inplace=True)\n",
    "ratings['count']"
   ]
  },
  {
   "cell_type": "markdown",
   "id": "preliminary-print",
   "metadata": {},
   "source": [
    "### 영화 제목을 보기 위해 다른 파일 불러오기"
   ]
  },
  {
   "cell_type": "code",
   "execution_count": 5,
   "id": "outdoor-indiana",
   "metadata": {},
   "outputs": [
    {
     "data": {
      "text/html": [
       "<div>\n",
       "<style scoped>\n",
       "    .dataframe tbody tr th:only-of-type {\n",
       "        vertical-align: middle;\n",
       "    }\n",
       "\n",
       "    .dataframe tbody tr th {\n",
       "        vertical-align: top;\n",
       "    }\n",
       "\n",
       "    .dataframe thead th {\n",
       "        text-align: right;\n",
       "    }\n",
       "</style>\n",
       "<table border=\"1\" class=\"dataframe\">\n",
       "  <thead>\n",
       "    <tr style=\"text-align: right;\">\n",
       "      <th></th>\n",
       "      <th>movie_id</th>\n",
       "      <th>title</th>\n",
       "      <th>genre</th>\n",
       "    </tr>\n",
       "  </thead>\n",
       "  <tbody>\n",
       "    <tr>\n",
       "      <th>0</th>\n",
       "      <td>1</td>\n",
       "      <td>Toy Story (1995)</td>\n",
       "      <td>Animation|Children's|Comedy</td>\n",
       "    </tr>\n",
       "    <tr>\n",
       "      <th>1</th>\n",
       "      <td>2</td>\n",
       "      <td>Jumanji (1995)</td>\n",
       "      <td>Adventure|Children's|Fantasy</td>\n",
       "    </tr>\n",
       "    <tr>\n",
       "      <th>2</th>\n",
       "      <td>3</td>\n",
       "      <td>Grumpier Old Men (1995)</td>\n",
       "      <td>Comedy|Romance</td>\n",
       "    </tr>\n",
       "    <tr>\n",
       "      <th>3</th>\n",
       "      <td>4</td>\n",
       "      <td>Waiting to Exhale (1995)</td>\n",
       "      <td>Comedy|Drama</td>\n",
       "    </tr>\n",
       "    <tr>\n",
       "      <th>4</th>\n",
       "      <td>5</td>\n",
       "      <td>Father of the Bride Part II (1995)</td>\n",
       "      <td>Comedy</td>\n",
       "    </tr>\n",
       "  </tbody>\n",
       "</table>\n",
       "</div>"
      ],
      "text/plain": [
       "   movie_id                               title                         genre\n",
       "0         1                    Toy Story (1995)   Animation|Children's|Comedy\n",
       "1         2                      Jumanji (1995)  Adventure|Children's|Fantasy\n",
       "2         3             Grumpier Old Men (1995)                Comedy|Romance\n",
       "3         4            Waiting to Exhale (1995)                  Comedy|Drama\n",
       "4         5  Father of the Bride Part II (1995)                        Comedy"
      ]
     },
     "execution_count": 5,
     "metadata": {},
     "output_type": "execute_result"
    }
   ],
   "source": [
    "movie_file_path=os.getenv('HOME') + '/aiffel/recommendata_iu/data/ml-1m/movies.dat'\n",
    "cols = ['movie_id', 'title', 'genre'] \n",
    "movies = pd.read_csv(movie_file_path, sep='::', names=cols, engine='python', encoding = \"ISO-8859-1\")\n",
    "movies.head()"
   ]
  },
  {
   "cell_type": "markdown",
   "id": "reported-employment",
   "metadata": {},
   "source": [
    "## 2. 분석 \n",
    "\n",
    "\n",
    "### 유저 수"
   ]
  },
  {
   "cell_type": "code",
   "execution_count": 6,
   "id": "attached-december",
   "metadata": {},
   "outputs": [
    {
     "data": {
      "text/plain": [
       "3628"
      ]
     },
     "execution_count": 6,
     "metadata": {},
     "output_type": "execute_result"
    }
   ],
   "source": [
    "ratings['movie_id'].nunique()"
   ]
  },
  {
   "cell_type": "markdown",
   "id": "accredited-treasury",
   "metadata": {},
   "source": [
    "### 사용자 수"
   ]
  },
  {
   "cell_type": "code",
   "execution_count": 7,
   "id": "laughing-lesson",
   "metadata": {},
   "outputs": [
    {
     "data": {
      "text/plain": [
       "6039"
      ]
     },
     "execution_count": 7,
     "metadata": {},
     "output_type": "execute_result"
    }
   ],
   "source": [
    "ratings['user_id'].nunique()"
   ]
  },
  {
   "cell_type": "markdown",
   "id": "twenty-country",
   "metadata": {},
   "source": [
    "### 가장 인기 많은 영화 30개 출력"
   ]
  },
  {
   "cell_type": "code",
   "execution_count": 51,
   "id": "democratic-evaluation",
   "metadata": {},
   "outputs": [
    {
     "data": {
      "text/plain": [
       "title\n",
       "Heidi Fleiss: Hollywood Madam (1995)              3212\n",
       "Mortal Kombat (1995)                              2910\n",
       "Young Poisoner's Handbook, The (1995)             2885\n",
       "Two if by Sea (1996)                              2716\n",
       "Pocahontas (1995)                                 2561\n",
       "Mary Reilly (1996)                                2509\n",
       "Boys of St. Vincent, The (1993)                   2498\n",
       "Race the Sun (1996)                               2473\n",
       "Copycat (1995)                                    2460\n",
       "Star Maker, The (Uomo delle stelle, L') (1995)    2434\n",
       "Muppet Treasure Island (1996)                     2413\n",
       "It Takes Two (1995)                               2386\n",
       "Guardian Angel (1994)                             2371\n",
       "Dunston Checks In (1996)                          2314\n",
       "Kids (1995)                                       2298\n",
       "Assassins (1995)                                  2257\n",
       "Father of the Bride Part II (1995)                2252\n",
       "NeverEnding Story III, The (1994)                 2213\n",
       "Don Juan DeMarco (1995)                           2210\n",
       "Canadian Bacon (1994)                             2194\n",
       "Century (1993)                                    2167\n",
       "Braveheart (1995)                                 2121\n",
       "Othello (1995)                                    2102\n",
       "Hackers (1995)                                    2066\n",
       "Gordy (1995)                                      2051\n",
       "Circle of Friends (1995)                          2030\n",
       "Congo (1995)                                      2022\n",
       "Tie That Binds, The (1995)                        2020\n",
       "Cry, the Beloved Country (1995)                   2001\n",
       "Birdcage, The (1996)                              1941\n",
       "Name: user_id, dtype: int64"
      ]
     },
     "execution_count": 51,
     "metadata": {},
     "output_type": "execute_result"
    }
   ],
   "source": [
    "# 앞선 두 데이터프레임을 합쳐서 출력해보기\n",
    "mv_total = pd.merge(ratings, movies, how='left')\n",
    "mv_total\n",
    "\n",
    "mv_count = mv_total.groupby('title')['user_id'].count()\n",
    "mv_count.sort_values(ascending=False).head(30)"
   ]
  },
  {
   "cell_type": "markdown",
   "id": "fitted-georgia",
   "metadata": {},
   "source": [
    "## 3. 내가 선호하는 영화를 5가지 골라서 rating에 추가\n",
    "\n",
    "> 저의 픽은 American Beauty (1999),  Sixth Sense, The (1999), Men in Black (1997), Terminator, The (1984), Toy Story (1995) 입니다.\n",
    "\n",
    "### movie_id 확인해보기"
   ]
  },
  {
   "cell_type": "code",
   "execution_count": 9,
   "id": "close-saskatchewan",
   "metadata": {},
   "outputs": [
    {
     "name": "stdout",
     "output_type": "stream",
     "text": [
      "      movie_id                   title         genre\n",
      "2789      2858  American Beauty (1999)  Comedy|Drama\n",
      "--------------------------------------------------------------------\n",
      "      movie_id                    title     genre\n",
      "2693      2762  Sixth Sense, The (1999)  Thriller\n",
      "--------------------------------------------------------------------\n",
      "      movie_id                title                           genre\n",
      "1539      1580  Men in Black (1997)  Action|Adventure|Comedy|Sci-Fi\n",
      "--------------------------------------------------------------------\n",
      "      movie_id                   title                   genre\n",
      "1220      1240  Terminator, The (1984)  Action|Sci-Fi|Thriller\n",
      "--------------------------------------------------------------------\n",
      "   movie_id             title                        genre\n",
      "0         1  Toy Story (1995)  Animation|Children's|Comedy\n",
      "--------------------------------------------------------------------\n"
     ]
    }
   ],
   "source": [
    "my_favorite = ['American Beauty (1999)' , 'Sixth Sense, The (1999)' ,'Men in Black (1997)' ,'Terminator, The (1984)' ,'Toy Story (1995)']\n",
    "\n",
    "for movie in my_favorite:\n",
    "    print(movies[movies['title'] == movie])\n",
    "    print('--------------------------------------------------------------------')\n",
    "    "
   ]
  },
  {
   "cell_type": "markdown",
   "id": "corresponding-stamp",
   "metadata": {},
   "source": [
    "### 데이터 프레임에 추가해보기\n",
    "> 여기서 저의 아이디는 hibiscircus, 별점은 5로 주었습니다.\n"
   ]
  },
  {
   "cell_type": "code",
   "execution_count": 10,
   "id": "worst-credits",
   "metadata": {},
   "outputs": [
    {
     "data": {
      "text/html": [
       "<div>\n",
       "<style scoped>\n",
       "    .dataframe tbody tr th:only-of-type {\n",
       "        vertical-align: middle;\n",
       "    }\n",
       "\n",
       "    .dataframe tbody tr th {\n",
       "        vertical-align: top;\n",
       "    }\n",
       "\n",
       "    .dataframe thead th {\n",
       "        text-align: right;\n",
       "    }\n",
       "</style>\n",
       "<table border=\"1\" class=\"dataframe\">\n",
       "  <thead>\n",
       "    <tr style=\"text-align: right;\">\n",
       "      <th></th>\n",
       "      <th>user_id</th>\n",
       "      <th>movie_id</th>\n",
       "      <th>count</th>\n",
       "      <th>timestamp</th>\n",
       "    </tr>\n",
       "  </thead>\n",
       "  <tbody>\n",
       "    <tr>\n",
       "      <th>1000203</th>\n",
       "      <td>6040</td>\n",
       "      <td>1090</td>\n",
       "      <td>3</td>\n",
       "      <td>956715518.0</td>\n",
       "    </tr>\n",
       "    <tr>\n",
       "      <th>1000205</th>\n",
       "      <td>6040</td>\n",
       "      <td>1094</td>\n",
       "      <td>5</td>\n",
       "      <td>956704887.0</td>\n",
       "    </tr>\n",
       "    <tr>\n",
       "      <th>1000206</th>\n",
       "      <td>6040</td>\n",
       "      <td>562</td>\n",
       "      <td>5</td>\n",
       "      <td>956704746.0</td>\n",
       "    </tr>\n",
       "    <tr>\n",
       "      <th>1000207</th>\n",
       "      <td>6040</td>\n",
       "      <td>1096</td>\n",
       "      <td>4</td>\n",
       "      <td>956715648.0</td>\n",
       "    </tr>\n",
       "    <tr>\n",
       "      <th>1000208</th>\n",
       "      <td>6040</td>\n",
       "      <td>1097</td>\n",
       "      <td>4</td>\n",
       "      <td>956715569.0</td>\n",
       "    </tr>\n",
       "    <tr>\n",
       "      <th>0</th>\n",
       "      <td>hibiscircus</td>\n",
       "      <td>2858</td>\n",
       "      <td>5</td>\n",
       "      <td>NaN</td>\n",
       "    </tr>\n",
       "    <tr>\n",
       "      <th>1</th>\n",
       "      <td>hibiscircus</td>\n",
       "      <td>2762</td>\n",
       "      <td>5</td>\n",
       "      <td>NaN</td>\n",
       "    </tr>\n",
       "    <tr>\n",
       "      <th>2</th>\n",
       "      <td>hibiscircus</td>\n",
       "      <td>1580</td>\n",
       "      <td>5</td>\n",
       "      <td>NaN</td>\n",
       "    </tr>\n",
       "    <tr>\n",
       "      <th>3</th>\n",
       "      <td>hibiscircus</td>\n",
       "      <td>1240</td>\n",
       "      <td>5</td>\n",
       "      <td>NaN</td>\n",
       "    </tr>\n",
       "    <tr>\n",
       "      <th>4</th>\n",
       "      <td>hibiscircus</td>\n",
       "      <td>1</td>\n",
       "      <td>5</td>\n",
       "      <td>NaN</td>\n",
       "    </tr>\n",
       "  </tbody>\n",
       "</table>\n",
       "</div>"
      ],
      "text/plain": [
       "             user_id  movie_id  count    timestamp\n",
       "1000203         6040      1090      3  956715518.0\n",
       "1000205         6040      1094      5  956704887.0\n",
       "1000206         6040       562      5  956704746.0\n",
       "1000207         6040      1096      4  956715648.0\n",
       "1000208         6040      1097      4  956715569.0\n",
       "0        hibiscircus      2858      5          NaN\n",
       "1        hibiscircus      2762      5          NaN\n",
       "2        hibiscircus      1580      5          NaN\n",
       "3        hibiscircus      1240      5          NaN\n",
       "4        hibiscircus         1      5          NaN"
      ]
     },
     "execution_count": 10,
     "metadata": {},
     "output_type": "execute_result"
    }
   ],
   "source": [
    "my_mvid = [2858, 2762, 1580, 1240, 1]\n",
    "\n",
    "# 960917이라는 아이디 추가\n",
    "my_movielist = pd.DataFrame({'user_id': ['hibiscircus']*5, 'count':[5]*5, 'movie_id': [2858, 2762, 1580, 1240, 1]})\n",
    "\n",
    "if not ratings.isin({'user_id':[960917]})['user_id'].any():  # user_id에 'zimin'이라는 데이터가 없다면\n",
    "    ratings = ratings.append(my_movielist)                           # 위에 임의로 만든 my_favorite 데이터를 추가해 줍니다. \n",
    "\n",
    "ratings.tail(10)       # 잘 추가되었는지 확인해 봅시다."
   ]
  },
  {
   "cell_type": "markdown",
   "id": "precious-branch",
   "metadata": {},
   "source": [
    "### 사용하는 컬럼만 남겨주기 (timestamp 컬럼 제거)"
   ]
  },
  {
   "cell_type": "code",
   "execution_count": 11,
   "id": "starting-symphony",
   "metadata": {},
   "outputs": [
    {
     "data": {
      "text/html": [
       "<div>\n",
       "<style scoped>\n",
       "    .dataframe tbody tr th:only-of-type {\n",
       "        vertical-align: middle;\n",
       "    }\n",
       "\n",
       "    .dataframe tbody tr th {\n",
       "        vertical-align: top;\n",
       "    }\n",
       "\n",
       "    .dataframe thead th {\n",
       "        text-align: right;\n",
       "    }\n",
       "</style>\n",
       "<table border=\"1\" class=\"dataframe\">\n",
       "  <thead>\n",
       "    <tr style=\"text-align: right;\">\n",
       "      <th></th>\n",
       "      <th>user_id</th>\n",
       "      <th>movie_id</th>\n",
       "      <th>count</th>\n",
       "    </tr>\n",
       "  </thead>\n",
       "  <tbody>\n",
       "    <tr>\n",
       "      <th>0</th>\n",
       "      <td>1</td>\n",
       "      <td>1193</td>\n",
       "      <td>5</td>\n",
       "    </tr>\n",
       "    <tr>\n",
       "      <th>1</th>\n",
       "      <td>1</td>\n",
       "      <td>661</td>\n",
       "      <td>3</td>\n",
       "    </tr>\n",
       "    <tr>\n",
       "      <th>2</th>\n",
       "      <td>1</td>\n",
       "      <td>914</td>\n",
       "      <td>3</td>\n",
       "    </tr>\n",
       "    <tr>\n",
       "      <th>3</th>\n",
       "      <td>1</td>\n",
       "      <td>3408</td>\n",
       "      <td>4</td>\n",
       "    </tr>\n",
       "    <tr>\n",
       "      <th>4</th>\n",
       "      <td>1</td>\n",
       "      <td>2355</td>\n",
       "      <td>5</td>\n",
       "    </tr>\n",
       "    <tr>\n",
       "      <th>...</th>\n",
       "      <td>...</td>\n",
       "      <td>...</td>\n",
       "      <td>...</td>\n",
       "    </tr>\n",
       "    <tr>\n",
       "      <th>0</th>\n",
       "      <td>hibiscircus</td>\n",
       "      <td>2858</td>\n",
       "      <td>5</td>\n",
       "    </tr>\n",
       "    <tr>\n",
       "      <th>1</th>\n",
       "      <td>hibiscircus</td>\n",
       "      <td>2762</td>\n",
       "      <td>5</td>\n",
       "    </tr>\n",
       "    <tr>\n",
       "      <th>2</th>\n",
       "      <td>hibiscircus</td>\n",
       "      <td>1580</td>\n",
       "      <td>5</td>\n",
       "    </tr>\n",
       "    <tr>\n",
       "      <th>3</th>\n",
       "      <td>hibiscircus</td>\n",
       "      <td>1240</td>\n",
       "      <td>5</td>\n",
       "    </tr>\n",
       "    <tr>\n",
       "      <th>4</th>\n",
       "      <td>hibiscircus</td>\n",
       "      <td>1</td>\n",
       "      <td>5</td>\n",
       "    </tr>\n",
       "  </tbody>\n",
       "</table>\n",
       "<p>836483 rows × 3 columns</p>\n",
       "</div>"
      ],
      "text/plain": [
       "        user_id  movie_id  count\n",
       "0             1      1193      5\n",
       "1             1       661      3\n",
       "2             1       914      3\n",
       "3             1      3408      4\n",
       "4             1      2355      5\n",
       "..          ...       ...    ...\n",
       "0   hibiscircus      2858      5\n",
       "1   hibiscircus      2762      5\n",
       "2   hibiscircus      1580      5\n",
       "3   hibiscircus      1240      5\n",
       "4   hibiscircus         1      5\n",
       "\n",
       "[836483 rows x 3 columns]"
      ]
     },
     "execution_count": 11,
     "metadata": {},
     "output_type": "execute_result"
    }
   ],
   "source": [
    "using_cols = ['user_id', 'movie_id', 'count']\n",
    "ratings = ratings[using_cols]\n",
    "ratings"
   ]
  },
  {
   "cell_type": "markdown",
   "id": "bright-glory",
   "metadata": {},
   "source": [
    "### user_id와 movie_id 고유한 값으로 만들기\n",
    "\n",
    "> 여기서 아주 중요한 부분인 **원래의 값과 고유한 값을 이어주는 dictionary를 생성**"
   ]
  },
  {
   "cell_type": "code",
   "execution_count": 12,
   "id": "dress-universal",
   "metadata": {},
   "outputs": [],
   "source": [
    "user_unique = ratings['user_id'].unique()\n",
    "movie_unique = ratings['movie_id'].unique()\n",
    "\n",
    "user_to_idx = {v:k for k,v in enumerate(user_unique)}\n",
    "movie_to_idx = {v:k for k,v in enumerate(movie_unique)}\n",
    "\n",
    "temp_user_data = ratings['user_id'].map(user_to_idx.get).dropna()\n",
    "if len(temp_user_data) == len(ratings):   \n",
    "    print('user_id column indexing OK!!')\n",
    "    ratings['user_id'] = temp_user_data    \n",
    "else:\n",
    "    print('user_id column indexing Fail!!')\n",
    "\n",
    "temp_movie_data = ratings['movie_id'].map(movie_to_idx.get).dropna()\n",
    "if len(temp_movie_data) == len(ratings):\n",
    "    print('movie column indexing OK!!')\n",
    "    ratings['movie_id'] = temp_movie_data\n",
    "else:\n",
    "    print('movie column indexing Fail!!')\n",
    "\n",
    "ratings"
   ]
  },
  {
   "cell_type": "markdown",
   "id": "fatal-disorder",
   "metadata": {},
   "source": [
    "## 4. CSR matrix 만들기"
   ]
  },
  {
   "cell_type": "code",
   "execution_count": 16,
   "id": "important-provincial",
   "metadata": {},
   "outputs": [
    {
     "data": {
      "text/plain": [
       "<6040x3628 sparse matrix of type '<class 'numpy.int64'>'\n",
       "\twith 836483 stored elements in Compressed Sparse Row format>"
      ]
     },
     "execution_count": 16,
     "metadata": {},
     "output_type": "execute_result"
    }
   ],
   "source": [
    "num_user = ratings['user_id'].nunique()\n",
    "num_movie = ratings['movie_id'].nunique()\n",
    "\n",
    "csr_data = csr_matrix((ratings['count'], (ratings.user_id, ratings.movie_id)))\n",
    "csr_data"
   ]
  },
  {
   "cell_type": "markdown",
   "id": "textile-antenna",
   "metadata": {},
   "source": [
    "## 5. als_model = AlternatingLeastSquares 모델을 직접 구성하여 훈련\n",
    "\n",
    "### 실행시키기 위해 필요한 부분"
   ]
  },
  {
   "cell_type": "code",
   "execution_count": 17,
   "id": "integral-planet",
   "metadata": {},
   "outputs": [],
   "source": [
    "os.environ['OPENBLAS_NUM_THREADS']='1'\n",
    "os.environ['KMP_DUPLICATE_LIB_OK']='True'\n",
    "os.environ['MKL_NUM_THREADS']='1'"
   ]
  },
  {
   "cell_type": "markdown",
   "id": "powerful-mortality",
   "metadata": {},
   "source": [
    "### Implicit AlternatingLeastSquares 모델의 선언"
   ]
  },
  {
   "cell_type": "code",
   "execution_count": 18,
   "id": "devoted-overhead",
   "metadata": {},
   "outputs": [],
   "source": [
    "als_model = AlternatingLeastSquares(factors=100, regularization=0.01, use_gpu=False, iterations=15, dtype=np.float32)"
   ]
  },
  {
   "cell_type": "markdown",
   "id": "republican-uruguay",
   "metadata": {},
   "source": [
    "### als 모델은 input으로 (item X user 꼴의 matrix를 받기 때문에 Transpose)"
   ]
  },
  {
   "cell_type": "code",
   "execution_count": 52,
   "id": "stock-trial",
   "metadata": {},
   "outputs": [
    {
     "data": {
      "text/plain": [
       "<3628x6040 sparse matrix of type '<class 'numpy.int64'>'\n",
       "\twith 836483 stored elements in Compressed Sparse Column format>"
      ]
     },
     "execution_count": 52,
     "metadata": {},
     "output_type": "execute_result"
    }
   ],
   "source": [
    "csr_data_transpose = csr_data.T\n",
    "csr_data_transpose"
   ]
  },
  {
   "cell_type": "markdown",
   "id": "selected-protein",
   "metadata": {},
   "source": [
    "### model fitting"
   ]
  },
  {
   "cell_type": "code",
   "execution_count": 20,
   "id": "strong-theory",
   "metadata": {},
   "outputs": [
    {
     "data": {
      "application/vnd.jupyter.widget-view+json": {
       "model_id": "01293688055248f19ede3a2e3b4df21d",
       "version_major": 2,
       "version_minor": 0
      },
      "text/plain": [
       "  0%|          | 0/15 [00:00<?, ?it/s]"
      ]
     },
     "metadata": {},
     "output_type": "display_data"
    }
   ],
   "source": [
    "als_model.fit(csr_data_transpose)"
   ]
  },
  {
   "cell_type": "markdown",
   "id": "polished-discrimination",
   "metadata": {},
   "source": [
    "## 6. 내가 선호하는 5가지 영화 중 하나와 그 외의 영화 하나를 골라 훈련된 모델이 예측한 나의 선호도를 파악\n",
    "\n",
    "### 나의 아이디 hibiscircus 입력"
   ]
  },
  {
   "cell_type": "code",
   "execution_count": 33,
   "id": "written-watershed",
   "metadata": {},
   "outputs": [],
   "source": [
    "hibiscircus = user_to_idx['hibiscircus']"
   ]
  },
  {
   "cell_type": "markdown",
   "id": "legal-tablet",
   "metadata": {},
   "source": [
    "### 내가 선호하는 영화 중 Toy Story (1995)를 입력"
   ]
  },
  {
   "cell_type": "code",
   "execution_count": 34,
   "id": "controversial-money",
   "metadata": {},
   "outputs": [
    {
     "data": {
      "text/plain": [
       "0.45919308"
      ]
     },
     "execution_count": 34,
     "metadata": {},
     "output_type": "execute_result"
    }
   ],
   "source": [
    "terminator = movie_to_idx[1]\n",
    "terminator_vector = als_model.item_factors[terminator]\n",
    "np.dot(hibiscircus_vector, terminator_vector)"
   ]
  },
  {
   "cell_type": "markdown",
   "id": "dense-rapid",
   "metadata": {},
   "source": [
    "### 그 외 영화 Jumanji (1995)를 입력\n",
    "\n",
    "> 영화이름과 인덱스는 1. '영화 제목을 보기 위해 다른 파일 불러오기'에서 movie.dat을 불러왔을 때의 출력을 참조하였습니다."
   ]
  },
  {
   "cell_type": "code",
   "execution_count": 35,
   "id": "southeast-editing",
   "metadata": {},
   "outputs": [
    {
     "data": {
      "text/plain": [
       "0.03269084"
      ]
     },
     "execution_count": 35,
     "metadata": {},
     "output_type": "execute_result"
    }
   ],
   "source": [
    "jumanji = movie_to_idx[2]\n",
    "jumanji_vector = als_model.item_factors[jumanji]\n",
    "np.dot(hibiscircus_vector, jumanji_vector)"
   ]
  },
  {
   "cell_type": "markdown",
   "id": "strategic-people",
   "metadata": {},
   "source": [
    "> 제가 선호하는 영화Toy Story (1995)에서의 값은 0.45919308이고, 그 외 영화Jumanji (1995)에서는 0.03269084의 값을 얻은 걸로 보아 제가 선호하는 영화에 좀 더 점수를 잘 주는 것으로 보입니다. 그렇다면 Toy Story (1995)유사한 영화들과의 유사도를 살펴보겠습니다.\n",
    "\n",
    "###  Toy Story (1995)유사한 영화들과의 유사도"
   ]
  },
  {
   "cell_type": "code",
   "execution_count": 60,
   "id": "formal-vacation",
   "metadata": {},
   "outputs": [
    {
     "data": {
      "text/plain": [
       "[(40, 1.0),\n",
       " (50, 0.7749237),\n",
       " (33, 0.590679),\n",
       " (4, 0.5702657),\n",
       " (110, 0.56275433),\n",
       " (322, 0.5578007),\n",
       " (330, 0.4742893),\n",
       " (255, 0.4380188),\n",
       " (10, 0.4372744),\n",
       " (20, 0.3968088),\n",
       " (160, 0.37007928),\n",
       " (478, 0.36247167),\n",
       " (32, 0.3557714),\n",
       " (34, 0.35285798),\n",
       " (126, 0.3521961)]"
      ]
     },
     "execution_count": 60,
     "metadata": {},
     "output_type": "execute_result"
    }
   ],
   "source": [
    "movie_id = movie_to_idx[1]\n",
    "similar_movie = als_model.similar_items(movie_id, N=15)\n",
    "similar_movie"
   ]
  },
  {
   "cell_type": "markdown",
   "id": "floppy-flesh",
   "metadata": {},
   "source": [
    "> 어떤 영화인지 살펴봐주는 함수를 만들어보겠습니다.\n",
    "\n",
    "## 7.내가 좋아하는 영화와 비슷한 영화를 추천받기"
   ]
  },
  {
   "cell_type": "code",
   "execution_count": 42,
   "id": "anticipated-democrat",
   "metadata": {},
   "outputs": [
    {
     "name": "stdout",
     "output_type": "stream",
     "text": [
      "   movie_id             title                        genre\n",
      "0         1  Toy Story (1995)  Animation|Children's|Comedy\n",
      "--------------------------------------------------------------------\n",
      "      movie_id               title                        genre\n",
      "3045      3114  Toy Story 2 (1999)  Animation|Children's|Comedy\n",
      "--------------------------------------------------------------------\n",
      "     movie_id           title                                genre\n",
      "584       588  Aladdin (1992)  Animation|Children's|Comedy|Musical\n",
      "--------------------------------------------------------------------\n",
      "      movie_id                 title                        genre\n",
      "2286      2355  Bug's Life, A (1998)  Animation|Children's|Comedy\n",
      "--------------------------------------------------------------------\n",
      "      movie_id                 title           genre\n",
      "1245      1265  Groundhog Day (1993)  Comedy|Romance\n",
      "--------------------------------------------------------------------\n",
      "    movie_id        title                    genre\n",
      "33        34  Babe (1995)  Children's|Comedy|Drama\n",
      "--------------------------------------------------------------------\n",
      "     movie_id                  title                         genre\n",
      "360       364  Lion King, The (1994)  Animation|Children's|Musical\n",
      "--------------------------------------------------------------------\n",
      "      movie_id                                title   genre\n",
      "1854      1923  There's Something About Mary (1998)  Comedy\n",
      "--------------------------------------------------------------------\n",
      "     movie_id                        title                         genre\n",
      "591       595  Beauty and the Beast (1991)  Animation|Children's|Musical\n",
      "--------------------------------------------------------------------\n",
      "      movie_id                 title   genre\n",
      "2252      2321  Pleasantville (1998)  Comedy\n",
      "--------------------------------------------------------------------\n",
      "     movie_id                title               genre\n",
      "352       356  Forrest Gump (1994)  Comedy|Romance|War\n",
      "--------------------------------------------------------------------\n",
      "      movie_id                 title   genre\n",
      "3184      3253  Wayne's World (1992)  Comedy\n",
      "--------------------------------------------------------------------\n",
      "      movie_id            title                                          genre\n",
      "1526      1566  Hercules (1997)  Adventure|Animation|Children's|Comedy|Musical\n",
      "--------------------------------------------------------------------\n",
      "      movie_id         title                 genre\n",
      "1838      1907  Mulan (1998)  Animation|Children's\n",
      "--------------------------------------------------------------------\n",
      "      movie_id                       title           genre\n",
      "2327      2396  Shakespeare in Love (1998)  Comedy|Romance\n",
      "--------------------------------------------------------------------\n"
     ]
    }
   ],
   "source": [
    "def get_similar_movie(favorite_movie):\n",
    "    movie_id = movie_to_idx[favorite_movie]\n",
    "    similar_movie = als_model.similar_items(movie_id, N=15)\n",
    "    idx_to_movie = {v:k for k,v in movie_to_idx.items()}\n",
    "    recommand_list = [idx_to_movie[i[0]] for i in similar_movie]\n",
    "    for movie in recommand_list:\n",
    "        print(movies[movies['movie_id'] == movie], '--------------------------------------------------------------------', sep='\\n')\n",
    "\n",
    "get_similar_movie(1)    "
   ]
  },
  {
   "cell_type": "markdown",
   "id": "after-accused",
   "metadata": {},
   "source": [
    "## 8. 내가 가장 좋아할 만한 영화들을 추천받기"
   ]
  },
  {
   "cell_type": "code",
   "execution_count": 50,
   "id": "remarkable-cause",
   "metadata": {},
   "outputs": [
    {
     "name": "stdout",
     "output_type": "stream",
     "text": [
      "     movie_id                    title         genre\n",
      "898       910  Some Like It Hot (1959)  Comedy|Crime\n",
      "--------------------------------------------------------------------\n",
      "      movie_id               title           genre\n",
      "2992      3061  Holiday Inn (1942)  Comedy|Musical\n",
      "--------------------------------------------------------------------\n",
      "      movie_id                   title    genre\n",
      "3606      3675  White Christmas (1954)  Musical\n",
      "--------------------------------------------------------------------\n",
      "    movie_id        title                    genre\n",
      "33        34  Babe (1995)  Children's|Comedy|Drama\n",
      "--------------------------------------------------------------------\n",
      "      movie_id                       title    genre\n",
      "1022      1035  Sound of Music, The (1965)  Musical\n",
      "--------------------------------------------------------------------\n",
      "     movie_id                                   title  \\\n",
      "590       594  Snow White and the Seven Dwarfs (1937)   \n",
      "\n",
      "                            genre  \n",
      "590  Animation|Children's|Musical  \n",
      "--------------------------------------------------------------------\n",
      "     movie_id                           title           genre\n",
      "886       898  Philadelphia Story, The (1940)  Comedy|Romance\n",
      "--------------------------------------------------------------------\n",
      "      movie_id                                   title   genre\n",
      "1120      1136  Monty Python and the Holy Grail (1974)  Comedy\n",
      "--------------------------------------------------------------------\n",
      "      movie_id                 title                genre\n",
      "2872      2941  South Pacific (1958)  Musical|Romance|War\n",
      "--------------------------------------------------------------------\n",
      "      movie_id                   title           genre\n",
      "3602      3671  Blazing Saddles (1974)  Comedy|Western\n",
      "--------------------------------------------------------------------\n",
      "   movie_id             title                        genre\n",
      "0         1  Toy Story (1995)  Animation|Children's|Comedy\n",
      "--------------------------------------------------------------------\n",
      "      movie_id                       title                         genre\n",
      "1019      1032  Alice in Wonderland (1951)  Animation|Children's|Musical\n",
      "--------------------------------------------------------------------\n",
      "     movie_id           title             genre\n",
      "916       928  Rebecca (1940)  Romance|Thriller\n",
      "--------------------------------------------------------------------\n",
      "      movie_id                                              title  \\\n",
      "1178      1196  Star Wars: Episode V - The Empire Strikes Back...   \n",
      "\n",
      "                                  genre  \n",
      "1178  Action|Adventure|Drama|Sci-Fi|War  \n",
      "--------------------------------------------------------------------\n",
      "      movie_id                             title               genre\n",
      "1247      1267  Manchurian Candidate, The (1962)  Film-Noir|Thriller\n",
      "--------------------------------------------------------------------\n",
      "     movie_id                         title   genre\n",
      "893       905  It Happened One Night (1934)  Comedy\n",
      "--------------------------------------------------------------------\n",
      "      movie_id                    title                                genre\n",
      "2009      2078  Jungle Book, The (1967)  Animation|Children's|Comedy|Musical\n",
      "--------------------------------------------------------------------\n",
      "      movie_id                    title            genre\n",
      "3366      3435  Double Indemnity (1944)  Crime|Film-Noir\n",
      "--------------------------------------------------------------------\n",
      "      movie_id                      title          genre\n",
      "1258      1278  Young Frankenstein (1974)  Comedy|Horror\n",
      "--------------------------------------------------------------------\n",
      "     movie_id                title             genre\n",
      "537       541  Blade Runner (1982)  Film-Noir|Sci-Fi\n",
      "--------------------------------------------------------------------\n"
     ]
    }
   ],
   "source": [
    "def recommand_movie(user_id):\n",
    "    user = user_to_idx[user_id]\n",
    "    movie_recommended = als_model.recommend(user, csr_data, N=20, filter_already_liked_items=True)\n",
    "    recommand_list = [idx_to_movie[i[0]] for i in movie_recommended]\n",
    "    for movie in recommand_list:\n",
    "        print(movies[movies['movie_id'] == movie], '--------------------------------------------------------------------', sep='\\n')\n",
    "\n",
    "recommand_movie(hibiscircus)"
   ]
  },
  {
   "cell_type": "markdown",
   "id": "french-transition",
   "metadata": {},
   "source": [
    "## 9. 내가 좋아할만한 영화에 대해 기여해준 영화와 기여도 확인\n",
    "\n",
    "> 저에게 가장 우선순위로 추천해준 Some Like It Hot (1959) 영화에 대해 어떤 영화가 얼마나 기여를 해주었는지 확인해보겠습니다.\n",
    "\n",
    "### 기여도"
   ]
  },
  {
   "cell_type": "code",
   "execution_count": 63,
   "id": "bottom-compiler",
   "metadata": {},
   "outputs": [
    {
     "data": {
      "text/plain": [
       "[(2858, 0.028630675715682657),\n",
       " (1, 0.018044241733943013),\n",
       " (2762, 0.014292158838007989),\n",
       " (1240, 0.004356279763579437),\n",
       " (1580, -0.006033012421905186)]"
      ]
     },
     "execution_count": 63,
     "metadata": {},
     "output_type": "execute_result"
    }
   ],
   "source": [
    "some_like_it_hot = movie_to_idx[910]\n",
    "explain = als_model.explain(user, csr_data, itemid=some_like_it_hot)\n",
    "[(idx_to_movie[i[0]], i[1]) for i in explain[1]]"
   ]
  },
  {
   "cell_type": "markdown",
   "id": "collaborative-terror",
   "metadata": {},
   "source": [
    "### 기여한 영화"
   ]
  },
  {
   "cell_type": "code",
   "execution_count": 58,
   "id": "recent-soviet",
   "metadata": {},
   "outputs": [
    {
     "name": "stdout",
     "output_type": "stream",
     "text": [
      "      movie_id                   title         genre\n",
      "2789      2858  American Beauty (1999)  Comedy|Drama\n",
      "--------------------------------------------------------------------\n",
      "   movie_id             title                        genre\n",
      "0         1  Toy Story (1995)  Animation|Children's|Comedy\n",
      "--------------------------------------------------------------------\n",
      "      movie_id                    title     genre\n",
      "2693      2762  Sixth Sense, The (1999)  Thriller\n",
      "--------------------------------------------------------------------\n",
      "      movie_id                   title                   genre\n",
      "1220      1240  Terminator, The (1984)  Action|Sci-Fi|Thriller\n",
      "--------------------------------------------------------------------\n",
      "      movie_id                title                           genre\n",
      "1539      1580  Men in Black (1997)  Action|Adventure|Comedy|Sci-Fi\n",
      "--------------------------------------------------------------------\n"
     ]
    }
   ],
   "source": [
    "contribution = [idx_to_movie[i[0]] for i in explain[1]]\n",
    "for movie in contribution:\n",
    "    print(movies[movies['movie_id'] == movie], '--------------------------------------------------------------------', sep='\\n')\n"
   ]
  },
  {
   "cell_type": "markdown",
   "id": "expensive-marriage",
   "metadata": {},
   "source": [
    "> 역시나 제가 리뷰한 영화들이 나왔습니다. 분석을 해보자면 Some Like It Hot (1959)영화의 장르는 Comedy|Crime입니다. 그런데 제가 좋아하는 영화 5개의 종류는 comedy아니면 Thriller입니다. 이를 잘 적절하게 조율해서 추천을 해준 듯 합니다. 그렇지만 저 영화는 안 볼겁니다.\n",
    "\n",
    "## 회고\n",
    "\n",
    "영화 id와 영화이름을 매칭하는 것의 어려움\n",
    "- 처음에는 rating.dat과 movies.dat을 합쳐서 분석하려고 했습니다. 하지만, 필요없는 컬럼이 생겨서 난잡하기만 했고, 결국에는 영화를 인기순으로 출력하며 count를 같이 출력할때만 만들었습니다. 그 이외에는 필요할 때마다 호출하는 식으로 하기로 하였습니다.\n",
    "\n",
    "CSR matrix의 생성의 어려움\n",
    "- CSR matrix의 생성을 위해 csr_matrix를 사용하였을 때 shape를 지정해주는 경우 에러가 발생하였습니다. 이로 인해 원인을 찾다가 shape를 지정해주지 않아도 자동으로 설정해준다는 것을 알게되어 지우니 해결되었습니다.\n",
    "\n",
    "\n",
    "## 루브릭\n",
    "\n",
    "사용자와 아이템 개수를 바탕으로 정확한 사이즈로 만들었다.\n",
    "- 4.CSR matrix 만들기에서 확인이 가능합니다. 6040x3628의 크기로 만들어졌습니다.\n",
    "\n",
    "사용자와 아이템 벡터 내적수치가 의미있게 형성되었다.\n",
    "- 6. 내가 선호하는 5가지 영화 중 하나와 그 외의 영화 하나를 골라 훈련된 모델이 예측한 나의 선호도를 파악에서 확인이 가능합니다. 제가 선호하는 영화의 내적수치는 0.45919308, 그 외 영화의 내적수치는 0.03269084가 나온 것으로 보아 의미가 있다고 볼 수 있습니다. (원래 rating이라는 변수는 명시적 평가이지만 이번 프로젝트를 위해 암묵적 평가로 보았다. 따라서, 내적수치는 의미가 있을 수 밖에 없다.)\n",
    "\n",
    "MF모델이 예측한 유저 선호도 및 아이템간 유사도, 기여도가 의미있게 측정되었다.\n",
    "- 6. 내가 선호하는 5가지 영화 중 하나와 그 외의 영화 하나를 골라 훈련된 모델이 예측한 나의 선호도를 파악과 9. 내가 좋아할만한 영화에 대해 기여해준 영화와 기여도 확인 확인이 가능합니다."
   ]
  },
  {
   "cell_type": "code",
   "execution_count": null,
   "id": "aquatic-commercial",
   "metadata": {},
   "outputs": [],
   "source": []
  }
 ],
 "metadata": {
  "kernelspec": {
   "display_name": "aiffel",
   "language": "python",
   "name": "aiffel"
  },
  "language_info": {
   "codemirror_mode": {
    "name": "ipython",
    "version": 3
   },
   "file_extension": ".py",
   "mimetype": "text/x-python",
   "name": "python",
   "nbconvert_exporter": "python",
   "pygments_lexer": "ipython3",
   "version": "3.7.9"
  }
 },
 "nbformat": 4,
 "nbformat_minor": 5
}
