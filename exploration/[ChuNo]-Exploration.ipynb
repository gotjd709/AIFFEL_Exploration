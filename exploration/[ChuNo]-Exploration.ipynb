{
 "cells": [
  {
   "attachments": {},
   "cell_type": "markdown",
   "id": "solved-cloud",
   "metadata": {},
   "source": [
    "추노 :: 익스플로레이션 정복해보자\n",
    "===\n",
    "\n",
    "![image](https://user-images.githubusercontent.com/70703320/109628881-988acf00-7b86-11eb-85d7-ba63d30aba34.png)\n",
    "\n",
    "<br/>\n",
    "<br/>\n",
    "<br/>\n",
    "\n",
    "\n",
    "## 어떻게 정리하면 좋을까?\n",
    "\n",
    "**AI engineer**는 `데이터를 통해 어떤 문제를 해결하는 역할`이라고 생각. **데이터에 대한 지식**이 필요하고 **전처리와 시각화**가 필요하며 **가장 좋은 모델을 선정**하는 것이 핵심이지 않을까? \n",
    "\n",
    "<br/>\n",
    "<br/>\n",
    "<br/>\n",
    "<br/>\n",
    "<br/>\n",
    "<br/>\n",
    "\n",
    "## 1. 데이터에 관한 정보 찾아보기\n",
    "\n",
    "#### [E5. 데이터에 관한 정보](https://biology-statistics-programming.tistory.com/39?category=955669)"
   ]
  },
  {
   "cell_type": "code",
   "execution_count": 6,
   "id": "precise-washer",
   "metadata": {},
   "outputs": [
    {
     "name": "stdout",
     "output_type": "stream",
     "text": [
      "label :  ['unknown']\n"
     ]
    },
    {
     "data": {
      "text/html": [
       "\n",
       "                <audio  controls=\"controls\" >\n",
       "                    <source src=\"data:audio/wav;base64,UklGRqQ+AABXQVZFZm10IBAAAAABAAEAQB8AAIA+AAACABAAZGF0YYA+AAD9//f/8v/+/woADQAHABAAGgANAA4ADgAGAAsAFQAeABkALAA/ADAAHwAZAB4AAwDz//b/6P+z/6L/uP+W/3//nf++/7n/xv/l//X/9//+/+z/5f/1//n/AwAFAPj/1v/W/+D/6v/x/wEAGQAYAA4AGAAoADQATABNAFsAZABEACQAKQAyABUA//8IABUA/v/b/+P/+f/v/97/4//2//7/EAAWACUAKAAnACUAHAAFAPb/7//w//T/8//A/9D/KAAOANn/5/8rAAgAJgC//zEAcQD//0wAUQA3AEIADAAnADMAJwD3/w4AKQDn/6f/5P+c/wAAGgAc/1YCZP/j/X4AnP/n//L/4v/S/3//s/8gALz//P/1/yIAEgDx/wgAFwALANX/2P8iABkAAgAOAB0AQwBSAP//AQAmAOn/4P///w8AjP+TALcAL/9N/zQAMQD3//v/rv++/wQAUgATALr/BwB5/+MAYQHA/j3/uABoAFMAHwCh/9X/MACHAGIACQCh/5j/AwBGAA4AAwDp/6n/+P/r//H/4f8MABwA9//4/xMA5v8cAH8AKgAgAPv/uP8iAGkA/P/9/ywAZQBeAAEAuv/M/wsACAAkABcA2P+r/wMAUwD+/6v/6v81ACQA9f/b/9f/9v8UAAgABQDy/9L/0//5/+T/3//r//X/0v/H/+L/2//n/8j/xf8MADMAz/9+/8r/MwAfANn/4v8bAC4ADwDp/w4AEgD0/xEAOQA8APD/5v8eAB0AGABCABgAEQA4APH/5P8KAAMA/P/Y/8T/rP+e/9H/2v/L/7H/qP/U//r/6P/D/7z///9IAF0AYAAmAO//BQAxAE8ALgAKACoAHAABACoAKQDi/9P/GwBDAC0AFgDe/+7/OABEAFAAIwD7/x4ADQARAA0A9f8nAEgAJgAGANL/t//h/9X/5/8RAPz/3v/L/8r/9P8HABAAFwDo/+L/5//L/87/4P8KACEACQAIAPb/2f/p//D/9P8kACsAHgD7/8n/3f8VAFUAcgBgADIAFwDj/9T/AgAUAC0AMQAXAA0A8//h/+//AwA0ADMA7/+x/5P/f/+D/7r/9v8iAAsA3P/N/4//lf/i//7/FgAOAOL/vP+z/9b/IABJAEsAWQBNABoA3P/B/+3/LgBcAHMANgD9/+n/2/8bAFwAawBmACkA4//I/7H/t//Y/+3/DwALAOr/0f+j/5//6/8lADEAJgDv/8r/uv+5//n/PABeAF4AKQAAAPD/9v8ZADMATABRACYA9P/T/7z/3P8lAFAAUwAtAOP/w//I/wMAWwCBAG8AGgDg/87/xP/Y//r/IAAjAPb/yf+P/3v/qP/6/00AVgAwAPf/wv+4/8v/AABTAHYAOgDl/6L/iv+0//n/QwCBAGYAJgDr/7v/1f8JAFYAlwCPAE0A9v+7/7X/3/8kAFgAUAAhANv/oP+f/8f/9/8sAEUALADv/6r/o//D//T/TACQAIAAOgDx/9D/3P/y/x8ARQAoAAcA0v+j/8D/5f8fAEUATABAAA8A3f/S/+r/+v8eACUAEwDn/67/lv+S/6D/wP/s//H/8//H/7T/zf/W/wkALAA+ADAADgDz/97/3P/x/x4ALwAyAC0ADADw/+b/8v8WADwARwA2ABgABgD///X/5P/f//H/9P/Y/8P/t//B//T/NQBqAGIAPAAWAOb/3f/t/wAAFgAhAB8AHAARAPv/+f8CAA4ACwD6/+X/zP+v/8r/9/8AACEAJwAeAAQA5//l//j/+/8MABgA9f8DAAkA8P/l/93/5P/y/9r/1P/K/8H/6P8EAB0ANQA1AC4ALwAaABEALQA1AEQAQAAhACAAEQD7/xIAJAAzADgAHwAuAB4AAQALABkAIgAYAAAA5f/m/9n/6v8GAAgAJwAKAOf/7P/L/8j/0f/Y/woAEwAZACIA7f/i//j/5f/b//H/8P/j/+T/5v8DAAYAFAA3AAwA7/8AAAUA/v/w//z/CQD///L/5v/U/9H/6f/s/9z/9v8AAPD/3//T/9n/0v/b/+v/5v/s/xUANAA3ADwAQgA4ACkALQA5AEYAUABhAGUAVwBaAFAAQQAqAAcA6v/g/+n/3//X/+P/9v/0/9j/yP+q/6P/xf/E/8z/1v/G/9X/5v/0//7/3v/j/wIA2/+4/8//1f/R/8T/2P8GAPr/7v/s/9T/4f8HAB8ANAAYAAIAAQDl/+D/AQARABMAJQAMAAcA5//J/93/z//s/xMA/P/X/9H/0f/7/ycALgAnAPz/8/8BAAUABwAiADcATQBXAD0ANAAaAA4ADAAJACMANQAWAPP/3f/P/93/8f/s/9j/uf+t/83/3v/n////DgAZAAQA7f/v/9X/2f/o/+P/AwAqACYAAADu/+r/CQAoACwAJgAAAPP/5P/w/x8AKgAxADwAOgAfAAcA8/8AACAAOQBxAIYAaQA/AA0A7v8DACcAQQAzAP7/+f8DAPb//P8AAP7//v/m/9f/xv+k/7r/1//R/+D/6v/c/7v/lP+i/9n/9/8bABQA7v/d/7v/wv/b/9f/z//b/9P/sv+b/4//o/+6/9T/9f8MAP7/vv+Q/4j/q//k/wUAEgDp/8j/zP/I/9b/7/8AACAAKAAHAAAA8f/r/wcAIgBaAHcARgADAOz/6v8XAFsAeQB3ADoAFwAfABgAHwBNAHAAdwBpAEgAKQAIAAAAHgBEAHEAigBVACAA9v/e/xAASwByAG8ARQApACQAFQAgAFEAbAB/AHgAUAA0ACMAGgAtAFQAdQByADkA9//G/63/wf/f//T////b/7L/wP/c//X/KABXAGIARAD9/+P/3P/O//H/GgA+ADgA/P/E/5T/ef+n/+7/DwAMAOP/yf/N/87/7P8ZACQAQwBEAAQA0f+m/6T/xf8EAEsAZQAzAM//k/+Q/7v/8v8XAB4A5v+p/5L/kv+w/8T/z//h/9f/qP+D/2P/S/93/8f/HAAxAO3/sv+U/4b/sP/2/zAAOQAAAOj/AAADABYASgBsAHoAcQBbAD0ABAD//y0ATwCAAIwAYAA3AAAA8/8TACwATQBJAA0A1f+l/5T/sv/W/+H/6v/l/8n/oP96/4v/vv/f/xMAMQD9/7b/iv+Y/9H/DQA7ADwABADO/8//3P8MAC4ALABCAC0AAwDt/8P/p//I/wYAMAAiAO3/yv+q/5//0P/+/xcAEgDy//L/7f/8/zgASQA+AFsAYwBNADgACQAAAA4AFQBFAE8AEwDv/9H/1f8CABwANwAyAAAA1//L/+X/BwAIAAoAEgAAAOX/7v/g/8j/6v8RADIAHgD//+T/qP+0//z/MgBUADwAAADZ/83/z//7/ycAIwAaABkADQDq/8L/0f8BABQAMQA0APX/wP+n/63/3//4/yAAMQAPAA4ACAAaAE4AXwBKAE4APAAdAPv/1f/n/9//x//0////2f/L/7//zv/i//H/HQAnAO7/8/8ZABoALwA5AC0ALwAcAAoA9f/A/7T/tP/A/wUABgDk//T/6P/q/xUAQQBiAFwAHAAKAPr/+P8pAB8AFwAgABUAFQAPAM//vf/d/+X/6f/f/+n/4/+y/7n///8WABoAMwASANP/4/8aADwAKwAmAEMAPgA0ADkAJAALAB0ALAA6AC0AKAAKALr/t//n//H/4f/r/9H/sP+1/9z/BwAHABgADAD6/xsAFwDn/8H/xf/X/9X/6f8FAPf/0P/P/9r///85ADQAAwDi//7/FAAKABgAEgDq/+//DADz/7b/oP+9/8n/yf/r/xUAAADd//f/JgBSAGAAUgBLADoAKAA2ADsAIwAOABQAJQAiABAA/f/e/8n/4f8FABMADwDs/+X//P8FADAASAAzAAkA8/8OABwAEQAYABsABAAWADMAKQAAAM3/vP/H/9b/8f8AAOz/4P/T/+3/IgBAADUADgD/////GgAlAAwA7v/f/wsAKgAfAAUA7P/N/9j/DwAsAAsA3P/s//n/8P8NACsACADU/+P/DAD7/9H/4P/m/9L/7/8rACsA4/+z/9b//P/1/wAAFwD4/7H/u//z//T/3v/1/wAA0f/E/+7/BgDi/8b/3v8OADEAJQAHAPf/CwAqAEQAQwAyAC4AKwA0ADsAUgBZAE4AMQAVABAA/f/l/9b/1v/H/8z/3//d/9L/xv/N/8z/6f8DAO7/z//C/9T/+f8JAA8AGAAaABMABQAJACMAHgD9/wQAKAA0AAoA9v8EABcALgA9ADsAHAATABYAAQD8/xIAHwD+/9n/3v/s/+v/4f/n/+T/2//L/9X/9v/n/8H/0f8MACQABgDs//3/7P/U//n/IwAZAPP/3f/M/9H/DgAtAAsA+P/8/wYADgARAAcA6P/Y//D/CQD7/+f/4v/X/+v/9/8AAAkAEgATAAAAGwBAAEcAOAAzACQAFgAxAEkALwAQADMAXgBQAD8ANgAEAOL/AwAiABMA9f/l/+L/1f/R/+v/CQAAAOD/4f8LACIAAgDp//r/AAAAAAkACgD+/9P/xP/f//L//P8CAPn/3f/T/+///f/y//f/DQD0/9b/+/8iAAkAzP/l/xwAEgDq//D/CwAGABUAHgAsAEAAGwD5/xAASABHAC0AMgBAABkA3P/j/+3/0f+5/7T/sv/F//j/BgDS/9X/GAAuAAcABwAXAPv/3f/j//f/8v/i/9f/1f/V/+P/3v/X//P/8v/R/87/2P/a/9X/2//w/wAACQALAAkAIQAnAB8AHAAaACoAGwAIAAgANgA9AA0AAAANACMAEQD9/wcAEQAEAPH/9v8CAA4A8v/r/xEADQD2/xEATQAoABYASQBdACsACwAbAO7/5P///+//0v/Y//r/1v/Q//f/7//H/8b/8f/s/+D///8NABUAGQAZABMAEQAmAB4ABADr//j/zf+g/7f/x/+5/9n/JAAhAAsAOgBRACsAEwAqABwA7f/x/+H/2P/d/wAABgD1/wcAKgAaAP//AQAGAP//9v/s/9L/0P/k/+7/+f8TAB4AKQAjAB4A8f/n////9v/M/8T/4P/U/87/8f8hADMAOwBJAEEAOAAxACgACgDi//f/+v/z/9r/4P/4/xkAJQDv/wMAJAD1/8L/0f/e/8H/ov/E/w4A+f/d/ykAVAA5AFMAZQCFAGoAMgBWAEEALwAbACcAJgALABEAHAD3/9T/BwAaAAQA4v/U/83/wP/C/8X/y//u/xsAKQD8////NQA5ACUAKgA8ADoATQCXAL8AvwCuALwAagAHAJf/Kf9m/qH9B/1o/Pj7tfve+/T7nfw6/Vj+BP9oAJkB0QL5Ai0EqAMWBCIDBAPzAX0DTgLIAhYBlgMNBVn1EAaGAgzxWv9I/9f1RfXL+PsACvJU+XsLMP2O/70RWg+JCHUTGBgSFLIT/Bm6HKcSFhnrFLIHVAkxAWnzxPCo7s3b7uQi4EbevuFG6FLv+vN5+8YDiQtwDPMTpRCXEC0Q9wwY+Vn/ZfxK6bvpvvC/523kiu/c8WbymvJyAjQAfQA2CCsP9gjlEFMQARXjEb0VARrDG2UhYCN2I+8umj5Q658teyNZzQLu0vcPyBC25s+J0Ci6hLkg85ffK97qDDUe1wPGJjky5hxYGx8Zzxbs+PbwTumd2kPTQs5G0qvZZNqT6970+f7uCCcPdxUKGkYYNh/cGj0Z5xozFd4YuxKHGDgcASbdJPsxETRAXEMRjg0HVAXostlK+2/aBKVeutfGCbC9orbV+OTnyE39xh57C4gevTjmJjsgtyLpGKgCbeoa8O/ozcjc0uLhGtea3KD2PfYhBWMJmBg1GxkWjiFUJdsTHhroGSMSVQ1cFf0WVxytKuA1fT56TF52uvFmRfdI9sLX7dL1SbWckr29C7Ljk2CisOHWyGfR6w15HIAK/zEKQrkoFySCMDwXwfVh85ruitoJxufV1NfZ0rbbo/S59Fz/8QrFFxkX0hguIQIiQhmFIt8aMhUAFi0Z0RJcG2EtUCM2Ql5EzXYg/wY3uGUbzuzprwP3v72N9bdPqZOTsJDw0AvH58JzA3Ac5QqdKQJCNS9nIlosmR6G9QD7EOm22TDJFMwrzcDMb9Iz4oHr7fTfAXIQ+ha1HMohbCfnHVApKB1HGccZ9hj9FrEeNyyTJ5FAuEO4dULuPDkPWiK5Q/N/AiWwtZHryOCpJIoSoKHY1L/rva4OehLw/vAyYD0BKYoqRjCyInz8bvr++frUNsfL2XHO/Mq/2JboSud39CMGmAohDOEftxynGfkjLyHTGs0WESG4Eq4X6huOLKIYVkLTNk9tCSdjAIJ9h+LE4BwZI9RDm5DFVbw+kFmUer+jwAqsJ/J2Bmv+Fx4YO+UrPiiRLmki4wUu+kn4ieAJzE/UJNfyznvS6u1y6LXuQArhBdAGmxvuImgRtSebJPkbVRxCHhcXHBZvGEcjdh5FKg8+uzz5cmvzKkAtWHvDrARzBMu2o6i1x+yn/JBCoLjMbrJewl7/gwGV/sEjhDIYHbsk7Cq1ESoA0wLj7h3b1tit1zTQYs+O1wXmYN4C8HsBoQb0BMIbhR9TGo4spiJRKuAlrSc/HZgm4CBTM2Afhj/nO2tkVz3z7v9/t/tbyy0hPuJKmcfEfcmBk4iVQsHFwYCscuZaAGryFwpSLgscNhllLPslNAOjFNAGIeoJ8Gjn09hW3y/dgN696CvlPvoC+7wAsAxYF00OiR8kHgkf1x4WHdQnPxFXJIIg1ilvHvhCfC9eaBYXUgfNd5fPdeQKGZ3HmZ3Oygi5epBUoaDC1bdvuZnr+Pvs9CcTbC4lG+IffDKBIpcKfhrcA5TvyPOt5arZW98w3U3gfeT86Br10/eRAn0LORJpEawecRuMIjwX3iO3GDsYRCMcHhMl8igzQxo8W2Ur9cVEa0nxvEMNJga1rDKy79ifn7CYJresxqSnQNFY9nruqvlgIo4l6hJHLUguuBEbEWYZlPTx7J/wVd1y0Q3d3ttc2ZfhSvG29Xf6iQlXEPUTZBvgHkUhjCRdHawkBhadJQIWPilIJK8yOThhVE5JAfCJbVsO3ckJIQLpdZ3FyyTKnZRrpVjBd8Bwr+voePTA6fsDQik5FNcTfy8uIrwILRBnDG3q5+lj6hjW/tDy38repNfu44Px7/GV9rwJpghND1YcxhVLIsgfqRyqJXIYUyQvHQEpViaGNCotCVfHSd7o+2mMGafEriIb8tOkGtFB1vegmahvzOTCXrU65Hjxl+q0/bUl1g9rEmMtxCM3CiUXaQ7V8NfykuuG3eHb4d4x2unco+Cu7unwwvi0AuUJGA9zFzsZ1hfDJQQcdyIOGmsqfBdzJXkqtyuNLN1B3V0h3pxPMTYFvEIWQQUbro7L1+QlrdOqOtDdy1K1zuX29BLsGQCzJeUS3BlTLgEkkhVzF9ETS/QA9JvwV9u51cneE9kV1zffD+qZ7dby1QFpBx0OIhM9GnAY9SHHGvochRcBHHwZbxdRJxUhUyzlNbpjh+8GM6VXg8F9BVcbhLcavwXyGLQIqrHOddmburPXaACy8XDxyiMlHWgP0ycdKnUZ1RHtHZ3+VvDP9hfkRM4S2P7WsMqV0E/fuuMw5eD26gJGCOQPbh+uH+sjHi7oHzMpfyFnGpIg4CW9GlwuDSfVWOkcqvglbaXoItrGIvfek6p/25bUMpyWuPDWPL5fvF7zSvEZ59wR7CBqDA4jjy1mG8gWtR3gBvr0tPpd65XWkduD4IDU19SB5GzpXOgt9pAFaQHGCtUaOBhPF4ko2SEiILcfoSXwHUUhvSSqJdwpODiTUn/mEUAKO4G8LRAECgqv38a16oGsJ6j50srQnLLY4cb7veiC/iomrRV4EQU0YydEEWAdSRft9Rj7UPjp3UPd6eYh3LTWvOkt6VvlQ/iO/Xr/WAUPD7IUyBDVHpAYTBj4ILkVKxzSHhwgZCN+MdIq9VrjDcAQ5l771gPrrRymzK+t2+ZpwjOcg8ZYz0y7IM3a8VLzafhvES8idhNGJWoukRn7Fh8djwWW9GD7VeuE2knjZ+Tm1iXixOxG6XH1Kf+CAWoISBJ0EZQZZB5SHygbUiUEGXwdzCCcIugf3iuyJqE80kcI5XpKch+DxIgQSPrgryjIgeSwp2uwLdDHyFjBtuEm+Xv0af1DIsYZlRU3KV0iWRA2FtMNZviE9YLvo+b2357h0OQT4dPiCfL+8sTzxwMJCTYKCxTyGPQZcyI6Gzsg6xgIIKsaAxzCJW4hLCfhMulMnO+WMz82ZsxCBkoHx73hwj/rNLLhsifTlc9sxbncOPvz8mX6Hx1PGzYQ3SQ8JvoQFBFSDrj55e5m6uzhxti71xDcf9w13Evol/HV9Ez/4wiJDXgSQBoGHk0ixhtcIeEbDh0lHjEhMiFmKrgsNDWrVH/2wTIcPcrNcgRsDZ+5u8IP6+uvla0CzonNKr4b1bj3su7i9vwYQR3mEnYioSc2E38JOwsG+nfjzuVN43HVFNjZ4l7haONj82n3WPu8BMsPEA5zE0QfqxvPHG8ehR5+F2YdPx8CJGgdVDKWKOdPjSn2+/Beivns1pQhjeQHpkDf6dP2mL686tA+wOrFIulM+dX0JgqqI5UXShxlKd4b3w54B47/PfO12xTi5t4V0kTaYuhd4bnnnf6w+wwCrA6JGNURTRs2IKYcWRlVHAocwxROGJwkDho/JtYsDDPnUHT0YzJrPHzLPgApCVO7dbrA4yOyDKvPyfnMoMjU1zT3Ev5p/9EXYiPZFj4cVyaPEUT/Cwph9+TeDuZe5GjUIt145/bjlejB+P7/oAB2CSQWNxRLEjkdwhxPGS4VsBxeGLEQQyVsHQYeWy0WMqNFZgYpHnE+xeFw7UANQNDktA7f88SEqLjIdNEZyg7WtPMX/2P7oxQxIQsXlh0AJKALaQYlCQfumOlu59neHt6f4JblLe2x6zL4qwjUAXkKJxn6ExQRZRyJGqoTZRoTFW8a2RhKHeIfUiRCJk81Cz1Y+DUpjCs71S721wMKxsO/K+IIwTay981x1bfMMNmG+KUA6/imEvwhCBC+FMMbLg1f/8r8bPcW6hDh9OTO5R3h5Oer8HPzmPyeBL4IIBCUFh4WdRjjHL8YcRtfGH0aDRqNHDcfhiEUJsQu4Dm0AzoYzC7w5PvoEQNQ2C3BtNx70v+93Mzl2bbcR9tM6dYCov05//wWFxRCC8ENyw6BB2v28/ed+NbiTORi7TrmheXX78r3NPjg/lEI6QzJDaoQzBTJFGQTghVzFDAU/hOaFXEXwRYhGVweKCPRDOgK8xhDARjxsvsS9dfhAuJq497dlttd3OjiUul46JLusPkT+xr88gCfArEB4f+tAMn/NPxg/ZX+q/zY/YT/ov8HAioB/gCHBJQDCgV8Bc0E1gVhBXEFGQXDBQgFxgR2Bt0FjAWSBlgH3wkTCScKegrXB8MHcgfHBt4CUwB4/2v8qPjh9ZX0nPNW8/7zQ/N49An2e/Sj9Jv15PWD9qz3TPdO+er6D/oM/Nb9S/7G/nsAwwIIBPMDIAXcBiYH2AdFCd4IFQgJCcsJjwncCVoLHAtDCdcJzgnyB24GhQRHAq//s/21+xj5oPYY9d7z1vJ98hPyM/Jo8pfywvOT9Cz11PUe9/b4D/t5/KX9VwC3AckC5QTGBHcEFgVvBAgEhwQUBaMEeAXlBkUHxQcOCBYI6geQBz4HUQYEBhcGdwSIA7AC6gG4ATEAR/6a/nz+gfzR+2/7b/pd+eH4uvh5+L/4ivjZ+DP5SvnD+T76+fo6+yD8T/2U/Zb+1f8SANwAKQEoAuECmgIPAzUEewS3A3EE2gRgBBcE2QPBA6kDxgKiAjEDNgNLA2cDxAJOAvoBFQBA/2n+N/yD+yX7wPl8+Cb5evlA+Vb56flB+0T7oPox+3X8YfyH/D39Zv7N/y4ADQGsAiUDDwOQBFAFtAT8BE4FwgV/BawEqwS0BMoD/AJEAxEDlQISAi4CFgK/APr/MwCA//z9W/1b/av8F/wf/An8Kfyb+3/7Ffz+++v7W/wU/Y/9yf0V/rT+6v4X/xMAwABEAeMBigLWArwCnwKYAq4CXgK3AQ4C2wLZAqACzAJUA/0CfQIJAq0BWQHoAGkARwA+AID/HP8A/xb/uf7n/mb/Gf+1/tz+1P7h/ZT9pv0//fP8Lv1L/ZX9Bf73/Sz+m/4t/uD9gv6u/or+lv71/kr/ov+2/+//QgBJANEAXgHLAQICHgJgAroCqgIzAhcCMQLSAfcBFAKdAYIBfQEoAeUAvAABAL//kf89/8L+iP7I/mj+DP5N/lf+IP57/sP+r/7R/iD/D//k/rj+s/6z/vn+YP9f/8X/QQCAAHUA0QDzALsAHwFtAXIBdQHMAdUBqAGJAWYBFwHuAFYBYgFGAasBjwEkAXIB8gAiAOz/0f9B/x3/Yf/c/nj+XP5v/ir+u/2A/YP93/07/k7+U/6C/nb+Sv6L/rb+Wv6N/lD/n//B//z/wf/K/0UAOQDg/ygAYQBnAOoASAEfAQEBSwFXAVkBlgG2AWIBkAHyAWkBEQEuAdAAdwDOAL8ADAAiAEkAsf9M/1f/Tv/l/uf+uP5n/o3+hv4s/iP+e/5g/lT+6v4s/8/+Jv/G/57/hf/0/9z/zv9AAC0AMAA/ADAALwBrAIAAWQCDAL0AFgEWAVwBbQEzAUUBiAF2AfUA6QAEAQkB+QDSAHMAkACcAGsAIADh/4b/Kv9T/wT/zv7T/uv++f43/1T/Ef/n/vX+G/8m/0D/Rv9O/37/sf+c/7D/3f/3/y4AcwBdADEAegB/AGoAlQB7AHQAgQDRABgBHgFMAWkBfQFRAUABIQH9ANgA4wDSAG8AZwBlAOr/bf8s/67+uP7O/mn+BP43/jX+7P1O/lX+B/4h/gT/7v7F/pD/rv+F/wUAgQADABcAkACHAHsA/QAfAe8AGgExAe0AzAAaAdUA8ABQAUgBIAFvAW4B6wDXALQAggAeAPT/4f+o/7H/yf+8/6//a/9U/43/SP/n/gH/2P5G/ov+tv5y/m/+hP5T/j7+vP7r/q/+vf4//0//hf+//73/7P9SAHAAngD7AP0AFgEPAWYBbgFFAVMB2wHmAYABygG6AU0BGQE8AcMAcABmADwA/v/4/+L/Xf9+/3n/IP8c/1n/Cv/4/n//fP9V/13/Z/8i/zz/cv///oL+ov6q/lb+qv4S/+z+/f6P/87/CgBSACMABAA3AF8ARQCPAOMA1gDhAIgBAwLKAccBywG9AcMBswF/AUYBAAHfAMAAVgD4/7z/gP+l//z/4P+l/4r/aP88/x//xP5y/mn+Uv5W/nj+pv61/q3+2P4//27/Tf9E/2z/kf+e//P/DwCf/37/2/8qAHIAqgCDAKgAQQFoATcBGgHBAE8AYQDBAJAAHwAyAH8AygACAfUAcwDn/8P/tP+w/4X/Cv+1/hL/pP/y//3/vP+f/97/KAA9AAoAkf9s/5v/zf/d/6H/MP8q/9f/VwBzAF4AOQBPAM0A8ACXADwAuP9y/7v/GgD9/9r/+/9nAM4AGQEEAfAA+ACBADYAVgA9AL7/o/9o/2b/af+Q/3b/U/94/4v/wf+c//L/HQD0/9P/DwAPAHUAyQDXAG8AuAADAWIB5wAdAB3/SP+j/3j/qP/V/4wAxP+dAPf+hwJRADr+3/uc/+IC2v35AID9egDj/fEAWwCG/t4Bzf+aAYX/bAMf/HQEfPo89s8AU/lS/bX4WQUY+VH8gwae/1MB0/rjBi0HSAKR/M3/sgb0BdD6d/n6BQUFgvw6+SUCHwRSAnb5Rfq8BuMFKvv6+s8DJgZ0AkX8U/2DBocFSv2D/UsClwNPAGb8Bf1DAWn/YP6+/fT/5wHaAfgBSAK/AQQAwAMLA4cCkQPCAswDcwaTBKgCFgYRBqAFIwb0BuQJ3gvzCe0JYQ6mEN4M7wkIDLUNKAvcBsAGPwj4BJ0AawD5/0n83Pi89+333/fh9I7x0vHY8WLu9+mr5dXiVOGz4Aji8+NS5YPmJehC6+/wsvah/K0CqgnBEGgWrBvoH5giUySJJRkllySZIyUh3x1LGgwXaBOrDgEKKwYmAyIAOv2N+on3gPVq85nxQPCn7gntiuuw6x/tgO287Lfsze327jfvbe9n8FfxbPKi8z30dPSl9Zn2WfYB9xf4FfnI+Wf7Bv5wALIBIALsAt8DMQU5BqsGJwZ2Bk0HwwfNB38HQwcVB0wH2gbHBvkGWwZLBUgEPQOZAgoCuQCw/xr//v44/+3+sf5D/0//4/6x/oz+nP6d/rT+hv42/g7+Bf73/dz9jf08/ff8iPxs/IP8AP2S/cP9pv31/b/+o//MAP8B8AJmA8YDYgTKBNQExgSYBIMETgQKBNgDKQP/AfwAogCZAEUAnf/T/kb+WP6h/vL+3P6v/r3+5f42/3v/tP8dAMQAHAFUAUQB7QCjAH0AaQChAOMAoQB7AKAA7QDLAFwAAADY/xcARABHACsAHwDm/6H/w//m/9D/t//Y/z4A9wDHATQCDAKNARgB4ADlALMAMgC5/0D//f7w/s7+ff4o/tf9z/0R/lL+mP6r/t7+Ev8m/x7/Mf9l/83/dQDnADEBOgEcAcQAmwCjAHwAXgBFABoAHQBPAD4A9/+v/6n/7P8RAPH/vv+5/9//IwB/AHsALgAEAPj/SQDKAOQAvgCyANIA8ADoALcAWgDb/6P/qP/K/wgAAwD4/8H/c/87/yr/GP/r/vP+Ef9T/6b/vv+D/3b/kf+y//z/EwAWACsASgBvAIkAXwATAAIAJABdAIsApwB+AFsAZwBuAGoAJgDJ/4X/dv9t/4D/n/+t/7f/nf+X/53/oP+1/+T/AwD6//P/9f/f/6//df9N/1L/XP9Z/27/gv+Q/6H/o/+j/6//vP+//9P/6v8YAE8AhQCeAIgAaQAxAPH/v//B/9z/7v/x//H/KACEAKIAjwBzAFkASQAkABMA/P/q/9//rv+V/3f/cP+Q/73/1//a/+b/+v8eAB4AHwAAAMf/sf/M/xQARQBVADMAAAD0/x0AIwD8/9H/x//Z/+D/EQA/AE4ASAA8ABsAJABUAGcAUgATABAAGQAJAOr/w/+U/33/kf+D/5T/2/8nACAA5//U/9P/DABNAEoA9/+3/8n/4P/Y/9L/2P+3/67/4v8bABwABQDd/77/y//x//3/4P/b/+n/9v/d/9z/AAAnAFMAPgACANT/3v8EAA8AAADr//f/BgACAP//CAAEAPn/9f/r/+//7//n/9j/m/+M/8X/2f/G/6//tP+9/8T///8uACUA7f/N//L/FwAXAPv/4//i////EwAeADIAIQAhAEYARwA0AC0AQABBAC8AGgAHAAUALwBfAEcAKwAuABoA5/+0/7T/o/+O/7f/xf+u/53/tv+0/6P/tv/A/6r/j/+j/5v/hf+M/4T/cv93/9X/AQDr/wUANQBeAF0AWwBrAGgAPgAiACQAKQAUAAoAEgAvAFgAVABJABsA1//F//D/DgD4/8z/lv+r/9b/3P/g/+T//f8QADMANgACAMH/qP/F//r/EQDq/9T/zv/R//3/CgAFAO//1v8FAAAA2f/V/7b/pv+8//L/BADl//n/HAAqAEoAbQB9AHMAUwBcAHYASwAjAAAAw/+0/8n/zv/e//r/6//T//X/CQD2/9b/y//k/+z/7//x/9H/wf///zUAPQA8ADgAPAA9ADAAAADQ/9P/3P/X/8v/s/+2/9P/y/+f/4X/Yv9m/3f/dP+M/6j/zP8JAFUAeACPAKAAvQDgAOEAwQB7AEQAJwATAPP/u/+Z/5L/mf+z/7D/tP/Z/+L/3f/x//X/+/8EAAUADAD5//P/6v/b/9n/4f/8//3/BAAXABgAHgAtABoACAAGAPX/+P/1/9X/rf+Q/7X/7P/p/97/1v/K/9H/2v/s//f/uf+s/wAAVgB3AHEAdgCXAM8A4gC9AHkAMQADAPb/4v+t/3b/Uv9c/6H/1//Z/7b/pf/g/wUA5//k/+T/3P/+/xAADgATAAoA/P8SACoAMwAmAPj/2f/t//P/yP+k/4X/ev9y/3j/mv+z/6L/kf+s/9P/3//V/9T/7f8kAD0ASQBSAFwAZwB6AHsAUwBEAFQAbwB0AGEAPQAWAAUAAwAVAAQAt/+T/5r/yP/t/9P/y//t//7/5v/E/7v/0P/O/8r/DwBMAFkAVwBkAJMAtgCWADkAJAAjANn/gv9h/3H/Wf8t/03/kv+4/7r/uv/g/y4AdABdACgAGwA+AFAAKgAPAA0ACwASACQADgD2/+f/xP/M/9v/yf+z/4v/mv/a/wgACwAFABoATAB7AHcAiwCOAGkAUgA9ADgAKQD///z/BQDr/+X/EwAdAAMAFQAlABsAAwDU/6P/jP+H/4T/Xf8w/yn/Lf9Q/4T/nP+f/8n/IQBfADsAAwAiADwAKAAmACoAKgAyACUAMwBzAHMANgApAC4APQA8ACAAFgAbABkA+//x//z/BwDu/9L/4v/1/wAA4f+2/6v/p/+y/7v/pf+V/7z/5v/1/xIAIwA2ADoALQBBAFIARABEAF0AYgBFAP3/3P8DAAAAzP+x/7D/w//P/8L/3f8MABQAEwBDAF8AUABSAGAAfgCHAGQAMgD//8X/sv+7/6v/gf9m/5T/qf+n/8P/xf/A/9P/CAAuABMA9P/e/+j//P/l/8j/tf/d/w0ANwBUAFkAagBpAFwAZQB3AC8A9f8IABwAGADu/8P/1P8JABQADgAwAEoASQBfAHYAlQCMAFYAPABBADMAJAAuAPr/x//I/6v/Zf8m/wP/A//9/gH/LP9h/23/a/9//6f/xP+0/7v/of+W/47/gf+f/7T/wf/g/xsAVACVAOIA+QD3ADEBNgEPAfsAuwBuAC8AAADU/7P/r/+3/7v/4/8rAFsAYgBOAH0AlwBbADQACADT/5P/c/+E/4L/bP93/7T/8P8MABMAFQAcAAkA9v/k/7z/if9q/33/kf+h/6z/wv/P/+P/FQAeACIAWACHAJMAiwCJAIIAbQBdAEAAKwAAALv/l/+P/3z/X/9K/1D/cf+f/7j/3/8rAGIAaQBRAFIAUAAjAOX/0f/R/8L/uv+4/+v/NQBgAG4AXQBiAHoAcwBRAD4AOQAFAOL/8f/t/+X/3f/t/zAAWwBUAFsAbQB1AHMAVgArAAkA4P+d/2z/Uf8//zL/L/8w/1P/o//O/9f/8v8nACoACQAEABQAHAD8/9b/zv/Z/9L/1//1//X//P8vAGEAZgB0AIUAfABhAFIAVwA/AP7/2P///xEAFAAUAA8AHgAgABsALAAqABEADwANAPf/2v+2/3T/Wf9c/0v/Vv9y/53/0P/n/+D/9v8xAE0AOwAzAFUAdgBxAGEAfgCbAKAAoACrAMEAwQCeAHQAUgBRAFUAMwAaAAUAFgAfANz/lP+F/33/Tv8Z/wP/IP8y/xX/GP89/0D/Rv9r/3z/kv+c/4b/jf+p/7b/0P8WADsAUgB8AIUAfACRAKYAswC3AJkApADIAKAAbwB4AIMAeABwAF8ANAADANz/0f/O/5j/bv92/2L/UP9m/3n/mP+2/73/x//I/8r/0//d/9L/2//5/+j/+f8tAF0AcABhAGkAhAB6AEQALQAhAA0AAADp//n/GgAeABcAMwBXAFMAVQBaAEIAEQDl/9n/0/+6/63/uv/R/+H/CQAkABsAGwAnADYAOgAxAAsA+v8GAAoA/P/+/wsAGQAvADAAJQAxAEAANQA7AEoATgBTAF0AVwBWAHIAeABmAGYAZgBTADAA///i/7//jP9z/3f/ev9y/3z/gf+C/4b/kP+d/5f/qP+z/77/1P/T/7z/vv/Y//H/EQAjADEAVQCEAIgAjgCcAIsAcABuAG0APwAaAO7/wf+l/6X/pf+U/4//ov/R/+T/3//Y/9z/3P/Y/93/3P/K/8T/vv+V/4b/kv+P/7P/7/8CABUAJAALAP//EAAiACQAMwBSAGYAdwCSALwAyAC3ALcAygC8AJUAZQAhAOn/5v/t/+z/6//r//X/8//i/7T/gf9U/zH/AP/x/gb/Cv8X/zH/Tf9t/4//qf/Y/xQAOwAzADoAQQAxADYAOQA5AC0ASwB/AJcAlgCaAKoAqgCpAKkArQCiAJwAjwB3AG8AUQA+AE4AgACiAHgAMwAQAOv/sf+E/2f/Wv9S/1n/Uf9C/yL/Hv9A/0n/X/9u/4b/kP+X/7z/0v/Z/+b/BAArAGUAhQCEAJkAowCkAJUAgQB+AG4AYABPAFUAPwAUAPX/9/8nAD4AUgA6ADEAFwABAAgA1v/k/9L/4f8cABcA9/+u/7H/u/+t/5r/eP+F/5z/3f8FAPH/5f/g//r/HQBFAFEANAAeAA4AGAAQAPb/AQAdAEsAbQBqAG0AYgBsAG4AiwB6AIoAUACc/+3/NwBfAAkA7/9CADEAWAAVAOv/uP+f/6D/WP9o/1v/Wf9s/4v/xP+r/6z/qf/L////GAAwAPj/4P/8/+j/3P/f/xoAOAA4AE8AUwBqAD8AOAAsADAAUwAjACMAHAAtAC4A9v/x/9//4/+q/6r/t/+v/7X/cP9m/zv/Uf9y/23/h/+i/7f/0v8RABoAAQAQAFIAsgC9AIwAgACoANkA5wAPAQkB9wDuAPAA2QCjAJAAZQApABEAKwD7/6f/o/+r/6z/m/+O/3n/WP9n/3z/h/95/13/JP8F/0L/Y/+D/3X/fP+a/6b/3//n/wQAHwBtAKEAgwBMABgAIgA1AG8AcwBHADIAYQCRAIgAZQAsAEIAhQCtAI0AOQAFAPT/DwAxADYAFADu/wkAQgBfAEoA9//S/9f/6P/l/7v/jf9W/zz/Jv87/0//Yv9z/3z/o//E/+T/7P///xAANAB+AJEAggBiAF8AdQB6AH4AQAA2AFwAbwBaAA4A2//D/+T/8v/Y/8T/q/+3/8//yP+2/63/uP/r/yYANgAmAAMA9/8PABgALQAzACkAHAD9/+H/3P/7//n//f8EAP7/4//Z/xMAIgAJAPb/FABVAGsAUQAaAPL/6P/9//7/0/+9/8H/7/8ZAAUA1P+0/9T/DQAzAEIAPAAtACQAEADn/9v/3P/o//n/6P/f/87/o/+U/7T/6f8BANv/nP+F/5//2/8EAOX/xP/L////SQBxAH0AbwBbAFAAaQB/AGkAUwAyAB8AFwAAAOv/3f/2/zcAdAB2AGcAPwArAEEAMQAjAPn/2v/b/+H/2f/D/6b/jf+P/5n/pv+k/6T/s//G/9n/7//Q/8b/8P88AJ0ArwB/ACMADABLAIwAjwBGAAAAAABDAEgAGADo/87/5f/4/wsAAgDm/9L/xf+9/8P/3f/c/+L/9P8AAO//wv+r/6b/uP/U//X////3//7/6P/Q/9b/+P8oAF8AiwCCAHoAcgCDAG8AMQAgACAAUwBgAEcAAQCz/5b/ov/L/9D/2f/W//7/KQAnAB0A+v8EACgAXgCLAGAAFQDc/8n/yv+x/3v/ZP92/47/oP+B/13/TP9r/7v/9f8WAAsADAA5AHUAwADNAKEAdwCQALcAkgA9AMb/lv+6////IgAPAAIA2//3/yEAEAD6/+D///9EAGoAQwD4/8X/wP/A/6X/lP+H/5P/sf/E/8r/of+O/7b/+P8bABgALQBNAH0AsQDGALMAnQCMAHYAZwBAABwACgDz/+3/8//1/+T/yv+8/6T/rf/F/8r/zf/X/+j/6P/y/+L/1//M/9z/BgAaACgADwD0/9n/5f/6/+j/uv+0//L/PwBwAF4AKQAHAC8AgQCoAJEAXgAvAB4ACgD2/9f/w/+6/67/qv+U/4D/f/+I/53/w//d//T/FwBBAHoAxADcAMcArwCPAIAAcwBCAA4ADwASABgA4/+I/1r/Tf9q/1P/Nf84/3L/2P82AFQAHwD3/wYASABsAGkATAA4AEIASABCABUA5v/h//X/CgANAA0AAwAPACwAKAADAL3/mf+h/8T/0f+2/5v/oP/X/wMAGgAUAA4AEAAeADwAVwBvAHAAbgBkAEEAFwAFABYAOABBAAcAnv9K/zr/a/+r/8n/tf+X/7X/DgBOAEIAIwAAAA4AWQCTAKMAfwBcAF0ATQAWAOX/wv+s/6P/pf+o/7H/xf/H/8//5//1//T/4f/V//7/RwCQAKQAfABZAEEAIQD7/8r/l/+P/6v/3v8MAAcA0v+l/7b/2P/5/xYAGQA/AH0AkABrADAAMQBfAIYAiABXABoA8P/6/ysASwA4AAQA6/8IAEgAYQAeAF//2f74/kn/Zv9P/3n/tf8MAEsAKgDr/8v/8v8gAGgAiAB7AHAAawCJAHwAVgAXAOH/uv+0/87/0//k//j/AADk/7X/mv9//27/bf+C/6n/8f82ADUAHgDm/6n/hf+N/7//4P8aAGAAkACgAKMAlwCSAIYAVgAxAB8AMQBLADwAEwDd/6H/b/9Q/0L/Rf9Y/6H/FQCSAN8A3wCqAGQAOgD1/8n/qP+R/5P/yv8eAPj/pP9m/2P/kP/W/wQA9f/3/zEAjwDGAK0AfQAnAN//6/8fAD0ALQAXACUAagB9AEAAuf9M/2H/xP8kAEYARQAwADkAXgBbACkA1P+S/4f/t//3//r/6f/s/+T/2v/9/yIATwBtAEYAHAARABwAEwDi/4L/K/9H/67/BwAtABcA+P/r/wwAKwAYAPz/EgBmALMA4wC5AEUA1P+T/33/gf+X/5z/wf8RAFEAaABDAPz/xv+q/8b/GgBfAGoAWwBKAEMAOAD2/5L/P/8p/0z/fv+y/9L/5f/Y/8v/tP+f/7T/xP/0/1AArgDcAO0AAwHhAIsATgASAOf/3//y/wwA7//n/+//AwAKAPr//P/w//X/BwACAND/zv/R/7v/u//n/97/mf++//P/HwD9/+L/7//k/8X/iP9F/xz/V/+D/6P/0f83AKQA1ADtAPAACgEnARoB8QCjADIAzv95/0n/Nv8w/yT/HP9M/4X/qP+m/5T/vf8GADsAYwBwAGUATABQAF8ATwBKAE0APgAQAPf/4P+4/4z/eP9y/3f/s//s/wQAKwCFANkA1gCzAK0AjwA4AM//l/94/1//fP+n/8f/5//y//7/TwBwAD0AGAADAAgAFgAGAP7/FgABAPH/+P8aAEoAYABQACgAGwDt/6D/b/9e/37/mv/G//X/DQA7AGoAiQB0AGAARgA7ABsA9v/i/+T/BQDe/7v/1/8CABkALwAmAA8AMAB7AHEAGgDd/9T/9//r/wUARACcANkA7gAAAc4AjAAJAJj/T/8D/6L+Z/5l/k7+Zf62/jf/hv+o/wAAmQDgAJgAbABrAFsAFADN/+D/BwA+AFoANAAdAEoAiwCCAFkAawB6AFgADwD5/ysAVABaAEIAYgCYANEA2wCoAGQALgD7/4n/Rv82/z7/Kv8O/2f/uP/J/9D///8VAM7/pP+z/8L/l/+L/5//uv/7/zAAYQCPALAAdQADANb/+f8JANr///8qABUA8f/W//3/DABIAIQAlgB6AEgALADN/5n/gf9p/zv/Lv+p//T/4P/I/1UA4ACbACkACAAUAMD/av9c/5D/1P8TAEUAQwBWAEkAEAD1/xAAOAD3/4j/Wv9d/3b/av9g/6z/HwBmAJgAygDYANoAqwBMAAMA//81AEcAKQA3AHcAcwBUAGwAiwB+ADIACAAHAMb/Rf8V/z//EP/C/gr/r//W/3z/of8gACEA5//j/wIACQDp/8j/zf8GAFoAZgA7AJcAMAEgAX0AWwC6AKUAAACh/xAASAAXABoAZQChAG4AMAAUAA8AAADK/3H/T/+q/7r/WP81/8D/IgCu/0z/df/m/4b/CP9c/8L/qP8G//D+Wf++/9f/+v9RALwA9wCVAFQAcQCgAGUA7P/9/y4AEQC+/8T/HwBIAEUASQCqALYAfgBUACIA+v/G/5z/jv/A/w8AMQAkAHgA1wDWAGQAHwAcAOv/k/+Q/+P/0f/B//r/ggC7AKEAeQBLABcA1f/J/3n/VP+O/4X/Pf8O/0z/b/9Q/1z/p//C/6T/zf/f//n/8//v//z//f8QAOv/0//m/y4ALQAYAFkAjABwAEkAewC6ALAAqwDOAM8AtgC4AKMAawCDALMAiAAjABUAVQBWAPb/z/8EANn/f/9P/17/Z/8t/0L/av9w/17/Rv9g/5P/l/+Q/+j/TQBfAEMAZgCTAHIADwDa/8b/1//z/8r/of/p/1sANwDX/9H/UwCAACoA9P8fAEcA5/+7/9n/4v/w/wQAAwANAE4AbABXAE0AQAAhAAsA8f+r/53/wv8CAEAAfwCRAF8AagBuAD4A3//R/97/xv+Q/2b/f/+J/4H/eP/I/+L/tv/G//7/EwAcAD0AOAAuABEACAAdAAQA4v/m/zEAaQA0AOv/5f8NADkAJwDv/87/+f8aAND/cf9i/4f/c/9j/0n/gP/e//D/AABLAI0ATwA8AC0ACADx/wgAOwAeADUAigDPAPQA7QCqAGwAiwCbAEIAAgA6AGYAMAAAANb/tP+x/43/Sf90//D/BADj/wQAaQBeABQA6P/c/9n/tP+o/77/0P/y/z8AXwBQAFcArQDJAIcAKAD5//n/pf86/9X+zf4W/2T/bf95/ygAcwD//5T/qP+w/wz/jv6M/qL+cf4f/h7+cf7l/sn+h/6p/ub+uP5M/n7+vv6K/iz+Rv5n/mL+Z/5e/oD+oP7G/uT+Mv9n/33/eP9b/4X/f/8V/6r+8f5j/03/OP91//n/MgArACEANwCCAKUAbQAXABMAIAD9//r/TQB7AI0AJgH+AT0CaALjAjIDQQM9AxoDugKbAroCnAJOAnoCTQO5A0MDDANcA38DBQNPAtQBqwGaATcB/wAfAXABNwGeAEEACQDi/4f/af9k/zb/yP6H/rj+jv4r/rn9Zf0b/cb8Vfwg/Hj8qfyw/L38Ov3K/Zn9R/3n/dH+9v7g/m//XgAOAUsBpAHDAgwEzQT0BAMFnwWLBuIGXwYhBsMGNAfeBmsGlwYzB94Hlge6Bl4GNQbVBRcFNwSQA34DMgOUAv0BagHoADoAMf9q/u79q/1U/az8Sfyj/Cf9kvyE+2b6+Pmn+Y34n/du98f3JviF+Pz46fkp++b7gvxu/Ff8B/1l/X/9gP3D/R/+AP+Y//z/bgDSALoBGAIbAscCwwORBCkFNgV8BVkGpwY+Bs8FRQWoBeEFAQWsBMsE8wTVBBMExgIUAogB2QAMAD3+uf0J/j/9QvzP+8P7kPv3+uD5vPlF+aT4/vjc+C75/Pkd+i76mPrB+gr7UvvG+uj6KvtW+8X8Xf2N/eT+dwATAS0BBwFsAWYCbAJ1Aq0ChgJoA14EUARfBKcEDQUrBfkEOwQ5BOQD2wPvA2oDjwPHA5ED\" type=\"audio/wav\" />\n",
       "                    Your browser does not support the audio element.\n",
       "                </audio>\n",
       "              "
      ],
      "text/plain": [
       "<IPython.lib.display.Audio object>"
      ]
     },
     "execution_count": 6,
     "metadata": {},
     "output_type": "execute_result"
    }
   ],
   "source": [
    "import numpy as np\n",
    "import os\n",
    "import IPython.display as ipd\n",
    "import random\n",
    "import librosa\n",
    "\n",
    "data_path = os.getenv(\"HOME\")+'/aiffel/speech_recognition/data/speech_wav_8000.npz'\n",
    "speech_data = np.load(data_path)\n",
    "rand = random.randint(0, len(speech_data[\"wav_vals\"]))\n",
    "\n",
    "def wav2spec(wav, fft_size=258): \n",
    "    D = np.abs(librosa.stft(wav, n_fft=fft_size))\n",
    "    return D\n",
    "\n",
    "sr = 8000 \n",
    "data = speech_data[\"wav_vals\"][rand]\n",
    "\n",
    "print(\"label : \", speech_data[\"label_vals\"][rand])\n",
    "ipd.Audio(data, rate=sr)"
   ]
  },
  {
   "cell_type": "markdown",
   "id": "optional-bahrain",
   "metadata": {},
   "source": [
    "들어보면 `Eight`이라고 발음하지만, 라벨은 `unknown`으로 되어 있음\n",
    "\n",
    "#### [E6. 데이터에 관한 정보](https://www.kaggle.com/paultimothymooney/poetry/data)\n",
    "\n",
    "![스크린샷, 2021-03-02 18-50-31](https://user-images.githubusercontent.com/70703320/109630688-8b6edf80-7b88-11eb-96ef-de7eb8adbaa5.png)\n",
    "\n",
    "`<start> i love` 다음에 나온 단어 중 Michael Jackson의 `liberian girl`이 있음  \n",
    "\n",
    "<br/>\n",
    "<br/>\n",
    "<br/>\n",
    "\n",
    "---\n",
    "\n",
    "<br/>\n",
    "<br/>\n",
    "<br/>\n",
    "\n",
    "## 2. 데이터 전처리 관련 시각화\n",
    "#### [E6](https://github.com/gotjd709/AIffel_Daejeon/blob/master/exploration/%5BE6%5D-project_Lyrics_Maker.ipynb)\n",
    "\n",
    "![스크린샷, 2021-03-02 18-57-11](https://user-images.githubusercontent.com/70703320/109631281-2667b980-7b89-11eb-9b26-e231f29bead8.png)\n",
    "\n",
    "토크나이저의 최대길이를 **왜 15이하로 설정해주었는지** 근거로 시각화할 수 있음\n",
    "\n",
    "<br/>\n",
    "<br/>\n",
    "<br/>\n",
    "\n",
    "---\n",
    "\n",
    "<br/>\n",
    "<br/>\n",
    "<br/>\n",
    "\n",
    "## 3. 모델 및 하이퍼파라미터의 Accuracy 비교\n",
    "#### [E5](https://github.com/gotjd709/AIffel_Daejeon/blob/master/exploration/%5BE5%5D-project_Spectrogram_Classification.ipynb) \n",
    "**모델별 Accuracy 비교**\n",
    "\n",
    "2차원 Spectrogram 데이터의 시간축 방향으로 Conv1D layer를 적용, 혹은 Conv2D layer를 적용 가능이라고 되어 있음 (맞는지는 혜림님의 첨언을 들어보겠습니다.)\n",
    "\n",
    "그래서 푸리에 변환한 `2차원 Spectrogram 데이터`를 `Conv1D layer`, `Conv1D layer + Skip-connection`, `Conv2D layer` **3가지**에 넣고 **정확도를 비교**해보았음\n",
    "\n",
    "\n",
    "\n",
    "**Conv1D, Skip-connection, Conv2D 모델의 accuracy 비교**\n",
    "\n",
    "![스크린샷, 2021-03-02 19-28-26](https://user-images.githubusercontent.com/70703320/109635449-b9a2ee00-7b8d-11eb-8ea4-dededfef1c0c.png)\n",
    "\n",
    "\n",
    "---\n",
    "\n",
    "\n",
    "#### [E6](https://github.com/gotjd709/AIffel_Daejeon/blob/master/exploration/%5BE6%5D-project_Lyrics_Maker.ipynb) \n",
    "**하이퍼파라미터(padding을 pre로 하느냐 post로 하느냐)별 Accuracy 비교**\n",
    "\n",
    "\n",
    "\n",
    "**pre 모델과 post 모델을 비교** (결과 및 Accuracy) \n",
    "\n",
    "**결과**\n",
    "- post 모델: i love you , `liberian girl` \n",
    "- pre 모델: i love you , `i love you , can t you see ?`\n",
    "\n",
    "\n",
    "**Accuracy**\n",
    "- post모델: validation loss가 최저일 때가 2.1382이었다.\n",
    "- pre모델: validation loss가 최저일 때가 2.3533이었다.\n",
    "\n",
    "\n",
    "\n",
    "#### E4에서는 pre 방식에서 정확도가 높다고 하는데 왜 E6에서는 post 방식의 정확도가 더 높을까? \n",
    "\n",
    "[이곳에서 확인 - 정리](https://biology-statistics-programming.tistory.com/42?category=955669)"
   ]
  },
  {
   "cell_type": "code",
   "execution_count": null,
   "id": "inside-relaxation",
   "metadata": {},
   "outputs": [],
   "source": [
    "\n"
   ]
  }
 ],
 "metadata": {
  "kernelspec": {
   "display_name": "aiffel",
   "language": "python",
   "name": "aiffel"
  },
  "language_info": {
   "codemirror_mode": {
    "name": "ipython",
    "version": 3
   },
   "file_extension": ".py",
   "mimetype": "text/x-python",
   "name": "python",
   "nbconvert_exporter": "python",
   "pygments_lexer": "ipython3",
   "version": "3.7.9"
  }
 },
 "nbformat": 4,
 "nbformat_minor": 5
}
