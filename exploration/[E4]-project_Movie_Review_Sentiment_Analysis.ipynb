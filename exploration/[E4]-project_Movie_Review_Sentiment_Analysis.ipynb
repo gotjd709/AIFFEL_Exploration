{
 "cells": [
  {
   "cell_type": "markdown",
   "metadata": {
    "id": "2GOdi6cP5qJy"
   },
   "source": [
    "E4. 네이버 영화리뷰 감성분석 도전하기\n",
    "===\n",
    "---\n",
    "네번째 프로젝트: 다양한 모델들을 통하여 한국어 텍스트의 감성분석을 진행해보자!\n",
    "\n",
    "![naver_movie](https://user-images.githubusercontent.com/70703320/104560678-911c6e80-5689-11eb-9e68-ddd3284e061b.png)\n",
    "\n",
    "데이터 : [네이버 영화리뷰](https://github.com/e9t/nsmc)\n",
    "\n",
    "---\n",
    "\n",
    "### 프로젝트 진행 순서\n",
    "* 1. 데이터 준비와 확인\n",
    "* 2. 데이터로더 구성\n",
    "* 3. 모델구성을 위한 데이터 분석 및 가공\n",
    "* 4. 모델구성 및 validation set 구성\n",
    "* 5. 모델 훈련 개시\n",
    "* 6. Loss, Accuracy 그래프 시각화\n",
    "* 7. 학습된 Embedding 레이어 분석\n",
    "* 8. 한국어 Word2Vec 임베딩 활용하여 성능개선\n",
    "\n",
    "---\n",
    "\n",
    "## 1. 데이터 준비와 확인\n",
    "\n",
    "### 1) 필요한 라이브러리 실행\n",
    "\n"
   ]
  },
  {
   "cell_type": "code",
   "execution_count": 1,
   "metadata": {
    "colab": {
     "base_uri": "https://localhost:8080/"
    },
    "id": "cXS2rVoQ4ASm",
    "outputId": "c87e59bf-83c6-45a2-8e9d-6d890ebbcd17"
   },
   "outputs": [],
   "source": [
    "import pandas as pd\n",
    "import urllib.request\n",
    "%matplotlib inline\n",
    "import matplotlib.pyplot as plt\n",
    "import re\n",
    "from konlpy.tag import Okt\n",
    "from tensorflow import keras\n",
    "from tensorflow.keras.preprocessing.text import Tokenizer\n",
    "import numpy as np\n",
    "from tensorflow.keras.preprocessing.sequence import pad_sequences\n",
    "from collections import Counter"
   ]
  },
  {
   "cell_type": "markdown",
   "metadata": {
    "id": "12FUSx6I49BK"
   },
   "source": [
    "### 2) 데이터 읽어들이고 확인"
   ]
  },
  {
   "cell_type": "code",
   "execution_count": 2,
   "metadata": {
    "colab": {
     "base_uri": "https://localhost:8080/",
     "height": 230
    },
    "id": "H2y0bKLA493f",
    "outputId": "ace24d5b-c318-4413-bced-4b6438637e79"
   },
   "outputs": [
    {
     "data": {
      "text/html": [
       "<div>\n",
       "<style scoped>\n",
       "    .dataframe tbody tr th:only-of-type {\n",
       "        vertical-align: middle;\n",
       "    }\n",
       "\n",
       "    .dataframe tbody tr th {\n",
       "        vertical-align: top;\n",
       "    }\n",
       "\n",
       "    .dataframe thead th {\n",
       "        text-align: right;\n",
       "    }\n",
       "</style>\n",
       "<table border=\"1\" class=\"dataframe\">\n",
       "  <thead>\n",
       "    <tr style=\"text-align: right;\">\n",
       "      <th></th>\n",
       "      <th>id</th>\n",
       "      <th>document</th>\n",
       "      <th>label</th>\n",
       "    </tr>\n",
       "  </thead>\n",
       "  <tbody>\n",
       "    <tr>\n",
       "      <th>0</th>\n",
       "      <td>9976970</td>\n",
       "      <td>아 더빙.. 진짜 짜증나네요 목소리</td>\n",
       "      <td>0</td>\n",
       "    </tr>\n",
       "    <tr>\n",
       "      <th>1</th>\n",
       "      <td>3819312</td>\n",
       "      <td>흠...포스터보고 초딩영화줄....오버연기조차 가볍지 않구나</td>\n",
       "      <td>1</td>\n",
       "    </tr>\n",
       "    <tr>\n",
       "      <th>2</th>\n",
       "      <td>10265843</td>\n",
       "      <td>너무재밓었다그래서보는것을추천한다</td>\n",
       "      <td>0</td>\n",
       "    </tr>\n",
       "    <tr>\n",
       "      <th>3</th>\n",
       "      <td>9045019</td>\n",
       "      <td>교도소 이야기구먼 ..솔직히 재미는 없다..평점 조정</td>\n",
       "      <td>0</td>\n",
       "    </tr>\n",
       "    <tr>\n",
       "      <th>4</th>\n",
       "      <td>6483659</td>\n",
       "      <td>사이몬페그의 익살스런 연기가 돋보였던 영화!스파이더맨에서 늙어보이기만 했던 커스틴 ...</td>\n",
       "      <td>1</td>\n",
       "    </tr>\n",
       "  </tbody>\n",
       "</table>\n",
       "</div>"
      ],
      "text/plain": [
       "         id                                           document  label\n",
       "0   9976970                                아 더빙.. 진짜 짜증나네요 목소리      0\n",
       "1   3819312                  흠...포스터보고 초딩영화줄....오버연기조차 가볍지 않구나      1\n",
       "2  10265843                                  너무재밓었다그래서보는것을추천한다      0\n",
       "3   9045019                      교도소 이야기구먼 ..솔직히 재미는 없다..평점 조정      0\n",
       "4   6483659  사이몬페그의 익살스런 연기가 돋보였던 영화!스파이더맨에서 늙어보이기만 했던 커스틴 ...      1"
      ]
     },
     "execution_count": 2,
     "metadata": {},
     "output_type": "execute_result"
    }
   ],
   "source": [
    "train_data = pd.read_table('~/aiffel/sentiment_classification/ratings_train.txt')\n",
    "test_data = pd.read_table('~/aiffel/sentiment_classification/ratings_test.txt')\n",
    "\n",
    "train_data.head()"
   ]
  },
  {
   "cell_type": "markdown",
   "metadata": {
    "id": "srHKjopp6glF"
   },
   "source": [
    "## 2. 데이터로더 구성\n",
    "\n",
    "- 데이터의 중복 제거\n",
    "- NaN 결측치 제거\n",
    "- 한국어 토크나이저로 토큰화\n",
    "- 불용어 (Stopwrods)제거\n",
    "- 사전 word_to_index 구성\n",
    "- 텍스트 스트링을 사전 인덱스 스트링으로 변환\n",
    "- X_train, y_train, X_test, y_test, word_to_index리턴"
   ]
  },
  {
   "cell_type": "markdown",
   "metadata": {
    "id": "P8frq5wCL8mn"
   },
   "source": [
    "### 1) Mecab 불러오기"
   ]
  },
  {
   "cell_type": "code",
   "execution_count": 3,
   "metadata": {
    "id": "okt8LJOIK1Hq"
   },
   "outputs": [],
   "source": [
    "from konlpy.tag import Mecab\n",
    "tokenizer = Mecab()"
   ]
  },
  {
   "cell_type": "markdown",
   "metadata": {
    "id": "68uwoji_Q9zM"
   },
   "source": [
    "### 2) 데이터 로더 구성함수 "
   ]
  },
  {
   "cell_type": "code",
   "execution_count": 4,
   "metadata": {
    "id": "PcVkf34mQbcq"
   },
   "outputs": [],
   "source": [
    "stopwords = ['의','가','이','은','들','는','좀','잘','걍','과','도','를','으로','자','에','와','한','하다']\n",
    "\n",
    "def load_data(train_data, test_data, num_words=10000):\n",
    "    train_data.drop_duplicates(subset=['document'], inplace=True)\n",
    "    train_data = train_data.dropna(how = 'any') \n",
    "    test_data.drop_duplicates(subset=['document'], inplace=True)\n",
    "    test_data = test_data.dropna(how = 'any') \n",
    "\n",
    "    X_train = []\n",
    "    for sentence in train_data['document']:\n",
    "        temp_X = tokenizer.morphs(sentence) \n",
    "        temp_X = [word for word in temp_X if not word in stopwords] \n",
    "        X_train.append(temp_X)\n",
    "\n",
    "    X_test = []\n",
    "    for sentence in test_data['document']:\n",
    "        temp_X = tokenizer.morphs(sentence) \n",
    "        temp_X = [word for word in temp_X if not word in stopwords] \n",
    "        X_test.append(temp_X)\n",
    "\n",
    "    words = np.concatenate(X_train).tolist()\n",
    "    counter = Counter(words)\n",
    "    counter = counter.most_common(10000-4)\n",
    "    vocab = ['<PAD>', '<BOS>', '<UNK>', '<UNUSED>'] + [key for key, _ in counter]\n",
    "    word_to_index = {word:index for index, word in enumerate(vocab)}\n",
    "\n",
    "    def wordlist_to_indexlist(wordlist):\n",
    "        return [word_to_index[word] if word in word_to_index else word_to_index['<UNK>'] for word in wordlist]\n",
    "\n",
    "    X_train = list(map(wordlist_to_indexlist, X_train))\n",
    "    X_test = list(map(wordlist_to_indexlist, X_test))\n",
    "\n",
    "    return X_train, np.array(list(train_data['label'])), X_test, np.array(list(test_data['label'])), word_to_index\n",
    "\n",
    "X_train, y_train, X_test, y_test, word_to_index = load_data(train_data, test_data) "
   ]
  },
  {
   "cell_type": "markdown",
   "metadata": {
    "id": "Tj9GcRuUGkBH"
   },
   "source": [
    "### 3) 단어 인덱싱"
   ]
  },
  {
   "cell_type": "code",
   "execution_count": 5,
   "metadata": {
    "id": "XZoStMnyQs6L"
   },
   "outputs": [],
   "source": [
    "index_to_word = {index:word for word, index in word_to_index.items()}"
   ]
  },
  {
   "cell_type": "markdown",
   "metadata": {
    "id": "OIV_hcNYRoMb"
   },
   "source": [
    "### 4) decode 함수"
   ]
  },
  {
   "cell_type": "code",
   "execution_count": 6,
   "metadata": {
    "id": "-jM0VJOBQwa1"
   },
   "outputs": [],
   "source": [
    "def get_encoded_sentence(sentence, word_to_index):\n",
    "    return [word_to_index['<BOS>']]+[word_to_index[word] if word in word_to_index else word_to_index['<UNK>'] for word in sentence.split()]\n",
    "\n",
    "def get_encoded_sentences(sentences, word_to_index):\n",
    "    return [get_encoded_sentence(sentence, word_to_index) for sentence in sentences]\n",
    "\n",
    "def get_decoded_sentence(encoded_sentence, index_to_word):\n",
    "    return ' '.join(index_to_word[index] if index in index_to_word else '<UNK>' for index in encoded_sentence[1:])  #[1:]를 통해 <BOS>를 제외\n",
    "\n",
    "def get_decoded_sentences(encoded_sentences, index_to_word):\n",
    "    return [get_decoded_sentence(encoded_sentence, index_to_word) for encoded_sentence in encoded_sentences]"
   ]
  },
  {
   "cell_type": "markdown",
   "metadata": {
    "id": "1h4d53mSRydp"
   },
   "source": [
    "## 3. 모델구성을 위한 데이터 분석 및 가공\n",
    "\n",
    "- 데이터셋 내 문장 길이 분포\n",
    "- 적절한 최대 문장 길이 지정\n",
    "- keras.preprocessing.sequence.pad_sequences 을 활용한 패딩 추가\n",
    "\n",
    "### 1) 데이터셋 내 문장 길이 분포"
   ]
  },
  {
   "cell_type": "code",
   "execution_count": 7,
   "metadata": {
    "colab": {
     "base_uri": "https://localhost:8080/"
    },
    "id": "BPi2_UN7Ryv0",
    "outputId": "6886b474-1efd-4bb9-9e74-70831db23ddd"
   },
   "outputs": [
    {
     "name": "stdout",
     "output_type": "stream",
     "text": [
      "문장길이 평균 :  15.96940191154864\n",
      "문장길이 최대 :  116\n",
      "문장길이 표준편차 :  12.843571191092\n"
     ]
    }
   ],
   "source": [
    "total_data_text = list(X_train) + list(X_test)\n",
    "\n",
    "num_tokens = [len(tokens) for tokens in total_data_text]\n",
    "num_tokens = np.array(num_tokens)\n",
    "\n",
    "print('문장길이 평균 : ', np.mean(num_tokens))\n",
    "print('문장길이 최대 : ', np.max(num_tokens))\n",
    "print('문장길이 표준편차 : ', np.std(num_tokens))\n"
   ]
  },
  {
   "cell_type": "markdown",
   "metadata": {
    "id": "JGQdnarMRzAM"
   },
   "source": [
    "### 2) 적절한 최대 문장 길이 지정"
   ]
  },
  {
   "cell_type": "code",
   "execution_count": 8,
   "metadata": {
    "colab": {
     "base_uri": "https://localhost:8080/"
    },
    "id": "gBHLkuf3RzPk",
    "outputId": "384e395f-bbcc-4664-9255-bd347c079abb"
   },
   "outputs": [
    {
     "name": "stdout",
     "output_type": "stream",
     "text": [
      "pad_sequences maxlen :  41\n",
      "전체 문장의 0.9342988343341575%가 maxlen 설정값 이내에 포함됩니다. \n"
     ]
    }
   ],
   "source": [
    "max_tokens = np.mean(num_tokens) + 2 * np.std(num_tokens)\n",
    "maxlen = int(max_tokens)\n",
    "print('pad_sequences maxlen : ', maxlen)\n",
    "print('전체 문장의 {}%가 maxlen 설정값 이내에 포함됩니다. '.format(np.sum(num_tokens < max_tokens) / len(num_tokens)))"
   ]
  },
  {
   "cell_type": "markdown",
   "metadata": {
    "id": "zPpJIPgFRzdg"
   },
   "source": [
    "### 3) keras.preprocessing.sequence.pad_sequences 을 활용한 패딩 추가"
   ]
  },
  {
   "cell_type": "code",
   "execution_count": 9,
   "metadata": {
    "colab": {
     "base_uri": "https://localhost:8080/"
    },
    "id": "ZAPBpI3IRzsP",
    "outputId": "5ed33fd3-67d7-43f3-e92e-b2fe42ae7b88"
   },
   "outputs": [
    {
     "name": "stdout",
     "output_type": "stream",
     "text": [
      "(146182, 41)\n"
     ]
    }
   ],
   "source": [
    "X_train = keras.preprocessing.sequence.pad_sequences(X_train,\n",
    "                                                        value=word_to_index[\"<PAD>\"],\n",
    "                                                        padding='pre', \n",
    "                                                        maxlen=maxlen)\n",
    "\n",
    "X_test = keras.preprocessing.sequence.pad_sequences(X_test,\n",
    "                                                       value=word_to_index[\"<PAD>\"],\n",
    "                                                       padding='pre', \n",
    "                                                       maxlen=maxlen)\n",
    "\n",
    "print(X_train.shape)"
   ]
  },
  {
   "cell_type": "markdown",
   "metadata": {
    "id": "efXmsxQkRz8o"
   },
   "source": [
    "## 4. 모델구성 및 validation set 구성"
   ]
  },
  {
   "cell_type": "code",
   "execution_count": 10,
   "metadata": {
    "id": "osIGKaK5R0Jy"
   },
   "outputs": [],
   "source": [
    "vocab_size = 10000    \n",
    "word_vector_dim = 16  "
   ]
  },
  {
   "cell_type": "markdown",
   "metadata": {
    "id": "aYkBZWJmR0XO"
   },
   "source": [
    "#### 1) 모델 0"
   ]
  },
  {
   "cell_type": "code",
   "execution_count": 11,
   "metadata": {
    "colab": {
     "base_uri": "https://localhost:8080/"
    },
    "id": "mtgtJ5GCR0kV",
    "outputId": "411d7dad-012a-4459-c75a-c3860e59a8d1"
   },
   "outputs": [
    {
     "name": "stdout",
     "output_type": "stream",
     "text": [
      "Model: \"sequential\"\n",
      "_________________________________________________________________\n",
      "Layer (type)                 Output Shape              Param #   \n",
      "=================================================================\n",
      "embedding (Embedding)        (None, None, 16)          160000    \n",
      "_________________________________________________________________\n",
      "lstm (LSTM)                  (None, 8)                 800       \n",
      "_________________________________________________________________\n",
      "dense (Dense)                (None, 8)                 72        \n",
      "_________________________________________________________________\n",
      "dense_1 (Dense)              (None, 1)                 9         \n",
      "=================================================================\n",
      "Total params: 160,881\n",
      "Trainable params: 160,881\n",
      "Non-trainable params: 0\n",
      "_________________________________________________________________\n"
     ]
    }
   ],
   "source": [
    "model = keras.Sequential()\n",
    "model.add(keras.layers.Embedding(vocab_size, word_vector_dim, input_shape=(None,)))\n",
    "model.add(keras.layers.LSTM(8))   \n",
    "model.add(keras.layers.Dense(8, activation='relu'))\n",
    "model.add(keras.layers.Dense(1, activation='sigmoid'))  \n",
    "\n",
    "model.summary()"
   ]
  },
  {
   "cell_type": "markdown",
   "metadata": {
    "id": "l33mmdq4R0x_"
   },
   "source": [
    "#### 2) 모델 1"
   ]
  },
  {
   "cell_type": "code",
   "execution_count": 12,
   "metadata": {
    "id": "Sl9TnYROR0-_"
   },
   "outputs": [
    {
     "name": "stdout",
     "output_type": "stream",
     "text": [
      "Model: \"sequential_1\"\n",
      "_________________________________________________________________\n",
      "Layer (type)                 Output Shape              Param #   \n",
      "=================================================================\n",
      "embedding_1 (Embedding)      (None, None, 16)          160000    \n",
      "_________________________________________________________________\n",
      "conv1d (Conv1D)              (None, None, 1024)        115712    \n",
      "_________________________________________________________________\n",
      "max_pooling1d (MaxPooling1D) (None, None, 1024)        0         \n",
      "_________________________________________________________________\n",
      "conv1d_1 (Conv1D)            (None, None, 512)         3670528   \n",
      "_________________________________________________________________\n",
      "global_max_pooling1d (Global (None, 512)               0         \n",
      "_________________________________________________________________\n",
      "dense_2 (Dense)              (None, 128)               65664     \n",
      "_________________________________________________________________\n",
      "dense_3 (Dense)              (None, 1)                 129       \n",
      "=================================================================\n",
      "Total params: 4,012,033\n",
      "Trainable params: 4,012,033\n",
      "Non-trainable params: 0\n",
      "_________________________________________________________________\n"
     ]
    }
   ],
   "source": [
    "model1 = keras.Sequential()\n",
    "model1.add(keras.layers.Embedding(vocab_size, word_vector_dim, input_shape=(None,)))\n",
    "model1.add(keras.layers.Conv1D(1024, 7, activation='relu'))\n",
    "model1.add(keras.layers.MaxPooling1D(5))\n",
    "model1.add(keras.layers.Conv1D(512, 7, activation='relu'))\n",
    "model1.add(keras.layers.GlobalMaxPooling1D())\n",
    "model1.add(keras.layers.Dense(128, activation='relu'))\n",
    "model1.add(keras.layers.Dense(1, activation='sigmoid')) \n",
    "\n",
    "model1.summary()"
   ]
  },
  {
   "cell_type": "markdown",
   "metadata": {
    "id": "CkqWyiTeR1Oc"
   },
   "source": [
    "#### 3) 모델 2"
   ]
  },
  {
   "cell_type": "code",
   "execution_count": 13,
   "metadata": {
    "id": "3X0yNpd_R1en"
   },
   "outputs": [
    {
     "name": "stdout",
     "output_type": "stream",
     "text": [
      "Model: \"sequential_2\"\n",
      "_________________________________________________________________\n",
      "Layer (type)                 Output Shape              Param #   \n",
      "=================================================================\n",
      "embedding_2 (Embedding)      (None, None, 16)          160000    \n",
      "_________________________________________________________________\n",
      "global_max_pooling1d_1 (Glob (None, 16)                0         \n",
      "_________________________________________________________________\n",
      "dense_4 (Dense)              (None, 8)                 136       \n",
      "_________________________________________________________________\n",
      "dense_5 (Dense)              (None, 1)                 9         \n",
      "=================================================================\n",
      "Total params: 160,145\n",
      "Trainable params: 160,145\n",
      "Non-trainable params: 0\n",
      "_________________________________________________________________\n"
     ]
    }
   ],
   "source": [
    "model2 = keras.Sequential()\n",
    "model2.add(keras.layers.Embedding(vocab_size, word_vector_dim, input_shape=(None,)))\n",
    "model2.add(keras.layers.GlobalMaxPooling1D())\n",
    "model2.add(keras.layers.Dense(8, activation='relu'))\n",
    "model2.add(keras.layers.Dense(1, activation='sigmoid'))  \n",
    "\n",
    "model2.summary()"
   ]
  },
  {
   "cell_type": "markdown",
   "metadata": {
    "id": "mlRX2cSRR1pu"
   },
   "source": [
    "## 5. 모델 훈련 개시"
   ]
  },
  {
   "cell_type": "code",
   "execution_count": 14,
   "metadata": {
    "colab": {
     "base_uri": "https://localhost:8080/"
    },
    "id": "SX0U1NFDXRAT",
    "outputId": "62952058-2eaa-496a-bc48-784ab4bd47b8"
   },
   "outputs": [
    {
     "name": "stdout",
     "output_type": "stream",
     "text": [
      "(136182, 41)\n",
      "(136182,)\n"
     ]
    }
   ],
   "source": [
    "X_val = X_train[:10000]   \n",
    "y_val = y_train[:10000]\n",
    "\n",
    "partial_X_train = X_train[10000:]  \n",
    "partial_y_train = y_train[10000:]\n",
    "\n",
    "print(partial_X_train.shape)\n",
    "print(partial_y_train.shape)"
   ]
  },
  {
   "cell_type": "markdown",
   "metadata": {
    "id": "rvZW505NXQmD"
   },
   "source": [
    "#### 1) 모델 0"
   ]
  },
  {
   "cell_type": "code",
   "execution_count": 15,
   "metadata": {
    "colab": {
     "base_uri": "https://localhost:8080/"
    },
    "id": "H9WYCtsFR12d",
    "outputId": "e971610b-46f7-472a-fcde-aa058d52d3f9",
    "scrolled": true
   },
   "outputs": [
    {
     "name": "stdout",
     "output_type": "stream",
     "text": [
      "Epoch 1/8\n",
      "266/266 [==============================] - 2s 7ms/step - loss: 0.5361 - accuracy: 0.7590 - val_loss: 0.4250 - val_accuracy: 0.8396\n",
      "Epoch 2/8\n",
      "266/266 [==============================] - 2s 6ms/step - loss: 0.3614 - accuracy: 0.8523 - val_loss: 0.3456 - val_accuracy: 0.8508\n",
      "Epoch 3/8\n",
      "266/266 [==============================] - 1s 5ms/step - loss: 0.3222 - accuracy: 0.8659 - val_loss: 0.3368 - val_accuracy: 0.8527\n",
      "Epoch 4/8\n",
      "266/266 [==============================] - 1s 5ms/step - loss: 0.3064 - accuracy: 0.8733 - val_loss: 0.3375 - val_accuracy: 0.8548\n",
      "Epoch 5/8\n",
      "266/266 [==============================] - 1s 5ms/step - loss: 0.2957 - accuracy: 0.8779 - val_loss: 0.3375 - val_accuracy: 0.8568\n",
      "Epoch 6/8\n",
      "266/266 [==============================] - 2s 6ms/step - loss: 0.2848 - accuracy: 0.8832 - val_loss: 0.3435 - val_accuracy: 0.8560\n",
      "Epoch 7/8\n",
      "266/266 [==============================] - 1s 6ms/step - loss: 0.2729 - accuracy: 0.8890 - val_loss: 0.3436 - val_accuracy: 0.8538\n",
      "Epoch 8/8\n",
      "266/266 [==============================] - 2s 6ms/step - loss: 0.2614 - accuracy: 0.8950 - val_loss: 0.3448 - val_accuracy: 0.8585\n"
     ]
    }
   ],
   "source": [
    "model.compile(optimizer='adam',\n",
    "              loss='binary_crossentropy',\n",
    "              metrics=['accuracy'])\n",
    "              \n",
    "epochs=8 \n",
    "\n",
    "history = model.fit(partial_X_train,\n",
    "                    partial_y_train,\n",
    "                    epochs=epochs,\n",
    "                    batch_size=512,\n",
    "                    validation_data=(X_val, y_val),\n",
    "                    verbose=1)"
   ]
  },
  {
   "cell_type": "markdown",
   "metadata": {
    "id": "hBKTiwEPYjUM"
   },
   "source": [
    "##### epoch에 따른 그래프를 그려볼 수 있는 항목들"
   ]
  },
  {
   "cell_type": "code",
   "execution_count": 16,
   "metadata": {},
   "outputs": [
    {
     "name": "stdout",
     "output_type": "stream",
     "text": [
      "dict_keys(['loss', 'accuracy', 'val_loss', 'val_accuracy'])\n"
     ]
    }
   ],
   "source": [
    "history_dict = history.history\n",
    "print(history_dict.keys()) "
   ]
  },
  {
   "cell_type": "markdown",
   "metadata": {
    "id": "aMUzJwTcSrAo"
   },
   "source": [
    "#### 2) 모델 1"
   ]
  },
  {
   "cell_type": "code",
   "execution_count": 17,
   "metadata": {
    "id": "mrSvzO_qSrTQ"
   },
   "outputs": [
    {
     "name": "stdout",
     "output_type": "stream",
     "text": [
      "Epoch 1/8\n",
      "266/266 [==============================] - 16s 62ms/step - loss: 0.4019 - accuracy: 0.8084 - val_loss: 0.3300 - val_accuracy: 0.8552\n",
      "Epoch 2/8\n",
      "266/266 [==============================] - 7s 27ms/step - loss: 0.2960 - accuracy: 0.8765 - val_loss: 0.3208 - val_accuracy: 0.8603\n",
      "Epoch 3/8\n",
      "266/266 [==============================] - 7s 27ms/step - loss: 0.2504 - accuracy: 0.8988 - val_loss: 0.3325 - val_accuracy: 0.8623\n",
      "Epoch 4/8\n",
      "266/266 [==============================] - 7s 28ms/step - loss: 0.2033 - accuracy: 0.9216 - val_loss: 0.3560 - val_accuracy: 0.8577\n",
      "Epoch 5/8\n",
      "266/266 [==============================] - 7s 27ms/step - loss: 0.1582 - accuracy: 0.9415 - val_loss: 0.4278 - val_accuracy: 0.8523\n",
      "Epoch 6/8\n",
      "266/266 [==============================] - 7s 27ms/step - loss: 0.1207 - accuracy: 0.9567 - val_loss: 0.4848 - val_accuracy: 0.8469\n",
      "Epoch 7/8\n",
      "266/266 [==============================] - 7s 27ms/step - loss: 0.0986 - accuracy: 0.9654 - val_loss: 0.5066 - val_accuracy: 0.8495\n",
      "Epoch 8/8\n",
      "266/266 [==============================] - 7s 28ms/step - loss: 0.0777 - accuracy: 0.9728 - val_loss: 0.5911 - val_accuracy: 0.8508\n"
     ]
    }
   ],
   "source": [
    "model1.compile(optimizer='adam',\n",
    "              loss='binary_crossentropy',\n",
    "              metrics=['accuracy'])\n",
    "              \n",
    "epochs=8  \n",
    "\n",
    "history1 = model1.fit(partial_X_train,\n",
    "                     partial_y_train,\n",
    "                     epochs=epochs,\n",
    "                     batch_size=512,\n",
    "                     validation_data=(X_val, y_val),\n",
    "                     verbose=1)"
   ]
  },
  {
   "cell_type": "markdown",
   "metadata": {},
   "source": [
    "##### epoch에 따른 그래프를 그려볼 수 있는 항목들"
   ]
  },
  {
   "cell_type": "code",
   "execution_count": 18,
   "metadata": {},
   "outputs": [
    {
     "name": "stdout",
     "output_type": "stream",
     "text": [
      "dict_keys(['loss', 'accuracy', 'val_loss', 'val_accuracy'])\n"
     ]
    }
   ],
   "source": [
    "history1_dict = history1.history\n",
    "print(history1_dict.keys()) "
   ]
  },
  {
   "cell_type": "markdown",
   "metadata": {},
   "source": []
  },
  {
   "cell_type": "markdown",
   "metadata": {
    "id": "ABv48t1dSrsH"
   },
   "source": [
    "#### 3) 모델 2"
   ]
  },
  {
   "cell_type": "code",
   "execution_count": 19,
   "metadata": {
    "id": "rCQdhSuSSsAy"
   },
   "outputs": [
    {
     "name": "stdout",
     "output_type": "stream",
     "text": [
      "Epoch 1/8\n",
      "266/266 [==============================] - 1s 4ms/step - loss: 0.5952 - accuracy: 0.7584 - val_loss: 0.4458 - val_accuracy: 0.8171\n",
      "Epoch 2/8\n",
      "266/266 [==============================] - 1s 3ms/step - loss: 0.3881 - accuracy: 0.8346 - val_loss: 0.3633 - val_accuracy: 0.8406\n",
      "Epoch 3/8\n",
      "266/266 [==============================] - 1s 3ms/step - loss: 0.3353 - accuracy: 0.8568 - val_loss: 0.3500 - val_accuracy: 0.8459\n",
      "Epoch 4/8\n",
      "266/266 [==============================] - 1s 3ms/step - loss: 0.3089 - accuracy: 0.8705 - val_loss: 0.3466 - val_accuracy: 0.8483\n",
      "Epoch 5/8\n",
      "266/266 [==============================] - 1s 3ms/step - loss: 0.2898 - accuracy: 0.8799 - val_loss: 0.3487 - val_accuracy: 0.8479\n",
      "Epoch 6/8\n",
      "266/266 [==============================] - 1s 4ms/step - loss: 0.2748 - accuracy: 0.8867 - val_loss: 0.3533 - val_accuracy: 0.8478\n",
      "Epoch 7/8\n",
      "266/266 [==============================] - 1s 4ms/step - loss: 0.2622 - accuracy: 0.8927 - val_loss: 0.3582 - val_accuracy: 0.8474\n",
      "Epoch 8/8\n",
      "266/266 [==============================] - 1s 3ms/step - loss: 0.2511 - accuracy: 0.8984 - val_loss: 0.3647 - val_accuracy: 0.8487\n"
     ]
    }
   ],
   "source": [
    "model2.compile(optimizer='adam',\n",
    "              loss='binary_crossentropy',\n",
    "               metrics=['accuracy'])\n",
    "              \n",
    "epochs=8 \n",
    "\n",
    "history2 = model2.fit(partial_X_train,\n",
    "                     partial_y_train,\n",
    "                     epochs=epochs,\n",
    "                     batch_size=512,\n",
    "                     validation_data=(X_val, y_val),\n",
    "                     verbose=1)"
   ]
  },
  {
   "cell_type": "markdown",
   "metadata": {},
   "source": [
    "##### epoch에 따른 그래프를 그려볼 수 있는 항목들"
   ]
  },
  {
   "cell_type": "code",
   "execution_count": 20,
   "metadata": {},
   "outputs": [
    {
     "name": "stdout",
     "output_type": "stream",
     "text": [
      "dict_keys(['loss', 'accuracy', 'val_loss', 'val_accuracy'])\n"
     ]
    }
   ],
   "source": [
    "history2_dict = history2.history\n",
    "print(history2_dict.keys()) "
   ]
  },
  {
   "cell_type": "markdown",
   "metadata": {},
   "source": []
  },
  {
   "cell_type": "markdown",
   "metadata": {
    "id": "JyPlmOvTSsS9"
   },
   "source": [
    "## 6. Loss, Accuracy 그래프 시각화\n",
    "\n",
    "#### 1) 모델 0"
   ]
  },
  {
   "cell_type": "code",
   "execution_count": 21,
   "metadata": {
    "colab": {
     "base_uri": "https://localhost:8080/",
     "height": 573
    },
    "id": "-0fMwOKVSsoE",
    "outputId": "5fdc9bcb-8a2c-429d-c9ae-8940afbcab2e"
   },
   "outputs": [
    {
     "data": {
      "image/png": "[encoded data removed]",
      "text/plain": [
       "<Figure size 432x288 with 1 Axes>"
      ]
     },
     "metadata": {
      "needs_background": "light"
     },
     "output_type": "display_data"
    },
    {
     "data": {
      "image/png": "[encoded data removed]",
      "text/plain": [
       "<Figure size 432x288 with 1 Axes>"
      ]
     },
     "metadata": {
      "needs_background": "light"
     },
     "output_type": "display_data"
    }
   ],
   "source": [
    "import matplotlib.pyplot as plt\n",
    "plt.clf()\n",
    "\n",
    "\n",
    "# loss\n",
    "\n",
    "acc = history_dict['accuracy']\n",
    "val_acc = history_dict['val_accuracy']\n",
    "loss = history_dict['loss']\n",
    "val_loss = history_dict['val_loss']\n",
    "\n",
    "epochs = range(1, len(acc) + 1)\n",
    "\n",
    "plt.plot(epochs, loss, 'bo', label='Training loss')\n",
    "plt.plot(epochs, val_loss, 'b', label='Validation loss')\n",
    "plt.title('Training and validation loss')\n",
    "plt.xlabel('Epochs')\n",
    "plt.ylabel('Loss')\n",
    "plt.legend()\n",
    "\n",
    "plt.show()\n",
    "\n",
    "# accuracy\n",
    "\n",
    "plt.plot(epochs, acc, 'bo', label='Training acc')\n",
    "plt.plot(epochs, val_acc, 'b', label='Validation acc')\n",
    "plt.title('Training and validation accuracy')\n",
    "plt.xlabel('Epochs')\n",
    "plt.ylabel('Accuracy')\n",
    "plt.legend()\n",
    "\n",
    "plt.show()\n"
   ]
  },
  {
   "cell_type": "markdown",
   "metadata": {
    "id": "cqveXD1ISs-I"
   },
   "source": [
    "Epoch = 4일때 Training Loss와 Validation Loss가 둘 다 감소함을 확인  => 7에서 정확도 다시 확인\n",
    "\n",
    "#### 2) 모델 1"
   ]
  },
  {
   "cell_type": "code",
   "execution_count": 22,
   "metadata": {
    "id": "3KuU2_dgStQx"
   },
   "outputs": [
    {
     "data": {
      "image/png": "[encoded data removed]",
      "text/plain": [
       "<Figure size 432x288 with 1 Axes>"
      ]
     },
     "metadata": {
      "needs_background": "light"
     },
     "output_type": "display_data"
    },
    {
     "data": {
      "image/png": "[encoded data removed]",
      "text/plain": [
       "<Figure size 432x288 with 1 Axes>"
      ]
     },
     "metadata": {
      "needs_background": "light"
     },
     "output_type": "display_data"
    }
   ],
   "source": [
    "import matplotlib.pyplot as plt\n",
    "plt.clf()\n",
    "\n",
    "\n",
    "# loss\n",
    "\n",
    "acc1 = history1_dict['accuracy']\n",
    "val_acc1 = history1_dict['val_accuracy']\n",
    "loss1 = history1_dict['loss']\n",
    "val_loss1 = history1_dict['val_loss']\n",
    "\n",
    "epochs1 = range(1, len(acc1) + 1)\n",
    "\n",
    "plt.plot(epochs1, loss1, 'bo', label='Training loss')\n",
    "plt.plot(epochs1, val_loss1, 'b', label='Validation loss')\n",
    "plt.title('Training and validation loss')\n",
    "plt.xlabel('Epochs')\n",
    "plt.ylabel('Loss')\n",
    "plt.legend()\n",
    "\n",
    "plt.show()\n",
    "\n",
    "# accuracy\n",
    "\n",
    "plt.plot(epochs1, acc1, 'bo', label='Training acc')\n",
    "plt.plot(epochs1, val_acc1, 'b', label='Validation acc')\n",
    "plt.title('Training and validation accuracy')\n",
    "plt.xlabel('Epochs')\n",
    "plt.ylabel('Accuracy')\n",
    "plt.legend()\n",
    "\n",
    "plt.show()\n"
   ]
  },
  {
   "cell_type": "markdown",
   "metadata": {
    "id": "nzNkA42KStjV"
   },
   "source": [
    "Epoch = 2일때 Training Loss와 Validation Loss가 둘 다 감소함을 확인  => 7에서 정확도 다시 확인\n",
    "\n",
    "#### 3) 모델 2"
   ]
  },
  {
   "cell_type": "code",
   "execution_count": 23,
   "metadata": {
    "id": "hxh-w-yjSt2P"
   },
   "outputs": [
    {
     "data": {
      "image/png": "[encoded data removed]",
      "text/plain": [
       "<Figure size 432x288 with 1 Axes>"
      ]
     },
     "metadata": {
      "needs_background": "light"
     },
     "output_type": "display_data"
    },
    {
     "data": {
      "image/png": "[encoded data removed]",
      "text/plain": [
       "<Figure size 432x288 with 1 Axes>"
      ]
     },
     "metadata": {
      "needs_background": "light"
     },
     "output_type": "display_data"
    }
   ],
   "source": [
    "import matplotlib.pyplot as plt\n",
    "plt.clf()\n",
    "\n",
    "# loss\n",
    "\n",
    "acc2 = history2_dict['accuracy']\n",
    "val_acc2 = history2_dict['val_accuracy']\n",
    "loss2 = history2_dict['loss']\n",
    "val_loss2 = history2_dict['val_loss']\n",
    "\n",
    "epochs2 = range(1, len(acc2) + 1)\n",
    "\n",
    "plt.plot(epochs2, loss2, 'bo', label='Training loss')\n",
    "plt.plot(epochs2, val_loss2, 'b', label='Validation loss')\n",
    "plt.title('Training and validation loss')\n",
    "plt.xlabel('Epochs')\n",
    "plt.ylabel('Loss')\n",
    "plt.legend()\n",
    "\n",
    "plt.show()\n",
    "\n",
    "# accuracy\n",
    "\n",
    "plt.plot(epochs2, acc2, 'bo', label='Training acc')\n",
    "plt.plot(epochs2, val_acc2, 'b', label='Validation acc')\n",
    "plt.title('Training and validation accuracy')\n",
    "plt.xlabel('Epochs')\n",
    "plt.ylabel('Accuracy')\n",
    "plt.legend()\n",
    "\n",
    "plt.show()\n"
   ]
  },
  {
   "cell_type": "markdown",
   "metadata": {
    "id": "E1jkGocFSuEJ"
   },
   "source": [
    "Epoch = 3일때 Training Loss와 Validation Loss가 둘 다 감소함을 확인  => 7에서 정확도 다시 확인\n",
    "\n",
    "## 7. 학습된 Embedding 레이어 분석\n",
    "\n",
    "#### 1) 모델 0"
   ]
  },
  {
   "cell_type": "code",
   "execution_count": 24,
   "metadata": {
    "id": "WsJEbY8pSuYT"
   },
   "outputs": [
    {
     "name": "stdout",
     "output_type": "stream",
     "text": [
      "(10000, 16)\n"
     ]
    }
   ],
   "source": [
    "embedding_layer = model.layers[0]\n",
    "weights = embedding_layer.get_weights()[0]\n",
    "print(weights.shape)   "
   ]
  },
  {
   "cell_type": "markdown",
   "metadata": {},
   "source": [
    "##### 모델 다시 쌓기"
   ]
  },
  {
   "cell_type": "code",
   "execution_count": 25,
   "metadata": {},
   "outputs": [
    {
     "name": "stdout",
     "output_type": "stream",
     "text": [
      "Model: \"sequential_3\"\n",
      "_________________________________________________________________\n",
      "Layer (type)                 Output Shape              Param #   \n",
      "=================================================================\n",
      "embedding_3 (Embedding)      (None, None, 16)          160000    \n",
      "_________________________________________________________________\n",
      "lstm_1 (LSTM)                (None, 8)                 800       \n",
      "_________________________________________________________________\n",
      "dense_6 (Dense)              (None, 8)                 72        \n",
      "_________________________________________________________________\n",
      "dense_7 (Dense)              (None, 1)                 9         \n",
      "=================================================================\n",
      "Total params: 160,881\n",
      "Trainable params: 160,881\n",
      "Non-trainable params: 0\n",
      "_________________________________________________________________\n"
     ]
    }
   ],
   "source": [
    "model = keras.Sequential()\n",
    "model.add(keras.layers.Embedding(vocab_size, word_vector_dim, input_shape=(None,)))\n",
    "model.add(keras.layers.LSTM(8))   \n",
    "model.add(keras.layers.Dense(8, activation='relu'))\n",
    "model.add(keras.layers.Dense(1, activation='sigmoid'))  \n",
    "\n",
    "model.summary()"
   ]
  },
  {
   "cell_type": "markdown",
   "metadata": {},
   "source": [
    "##### epoch = 4 일때"
   ]
  },
  {
   "cell_type": "code",
   "execution_count": 26,
   "metadata": {},
   "outputs": [
    {
     "name": "stdout",
     "output_type": "stream",
     "text": [
      "Epoch 1/4\n",
      "266/266 [==============================] - 2s 6ms/step - loss: 0.4807 - accuracy: 0.7864 - val_loss: 0.3532 - val_accuracy: 0.8495\n",
      "Epoch 2/4\n",
      "266/266 [==============================] - 1s 5ms/step - loss: 0.3385 - accuracy: 0.8571 - val_loss: 0.3422 - val_accuracy: 0.8509\n",
      "Epoch 3/4\n",
      "266/266 [==============================] - 1s 5ms/step - loss: 0.3183 - accuracy: 0.8664 - val_loss: 0.3381 - val_accuracy: 0.8536\n",
      "Epoch 4/4\n",
      "266/266 [==============================] - 1s 5ms/step - loss: 0.3078 - accuracy: 0.8714 - val_loss: 0.3384 - val_accuracy: 0.8533\n"
     ]
    }
   ],
   "source": [
    "model.compile(optimizer='adam',\n",
    "              loss='binary_crossentropy',\n",
    "              metrics=['accuracy'])\n",
    "              \n",
    "epochs=4 \n",
    "\n",
    "history = model.fit(partial_X_train,\n",
    "                    partial_y_train,\n",
    "                    epochs=epochs,\n",
    "                    batch_size=512,\n",
    "                    validation_data=(X_val, y_val),\n",
    "                    verbose=1)"
   ]
  },
  {
   "cell_type": "markdown",
   "metadata": {},
   "source": [
    "# 모델 0 최종결과"
   ]
  },
  {
   "cell_type": "code",
   "execution_count": 27,
   "metadata": {},
   "outputs": [
    {
     "name": "stdout",
     "output_type": "stream",
     "text": [
      "1537/1537 - 2s - loss: 0.3536 - accuracy: 0.8467\n",
      "[0.35356831550598145, 0.8466545939445496]\n"
     ]
    }
   ],
   "source": [
    "results = model.evaluate(X_test,  y_test, verbose=2)\n",
    "\n",
    "print(results)"
   ]
  },
  {
   "cell_type": "markdown",
   "metadata": {
    "id": "39wzZ96wSumk"
   },
   "source": [
    "#### 2) 모델 1"
   ]
  },
  {
   "cell_type": "code",
   "execution_count": 28,
   "metadata": {
    "id": "NbwsN90DSu3b"
   },
   "outputs": [
    {
     "name": "stdout",
     "output_type": "stream",
     "text": [
      "(10000, 16)\n"
     ]
    }
   ],
   "source": [
    "embedding_layer1 = model1.layers[0]\n",
    "weights1 = embedding_layer1.get_weights()[0]\n",
    "print(weights1.shape)    "
   ]
  },
  {
   "cell_type": "markdown",
   "metadata": {},
   "source": [
    "##### 모델 다시 쌓기"
   ]
  },
  {
   "cell_type": "code",
   "execution_count": 29,
   "metadata": {},
   "outputs": [
    {
     "name": "stdout",
     "output_type": "stream",
     "text": [
      "Model: \"sequential_4\"\n",
      "_________________________________________________________________\n",
      "Layer (type)                 Output Shape              Param #   \n",
      "=================================================================\n",
      "embedding_4 (Embedding)      (None, None, 16)          160000    \n",
      "_________________________________________________________________\n",
      "conv1d_2 (Conv1D)            (None, None, 1024)        115712    \n",
      "_________________________________________________________________\n",
      "max_pooling1d_1 (MaxPooling1 (None, None, 1024)        0         \n",
      "_________________________________________________________________\n",
      "conv1d_3 (Conv1D)            (None, None, 512)         3670528   \n",
      "_________________________________________________________________\n",
      "global_max_pooling1d_2 (Glob (None, 512)               0         \n",
      "_________________________________________________________________\n",
      "dense_8 (Dense)              (None, 128)               65664     \n",
      "_________________________________________________________________\n",
      "dense_9 (Dense)              (None, 1)                 129       \n",
      "=================================================================\n",
      "Total params: 4,012,033\n",
      "Trainable params: 4,012,033\n",
      "Non-trainable params: 0\n",
      "_________________________________________________________________\n"
     ]
    }
   ],
   "source": [
    "model1 = keras.Sequential()\n",
    "model1.add(keras.layers.Embedding(vocab_size, word_vector_dim, input_shape=(None,)))\n",
    "model1.add(keras.layers.Conv1D(1024, 7, activation='relu'))\n",
    "model1.add(keras.layers.MaxPooling1D(5))\n",
    "model1.add(keras.layers.Conv1D(512, 7, activation='relu'))\n",
    "model1.add(keras.layers.GlobalMaxPooling1D())\n",
    "model1.add(keras.layers.Dense(128, activation='relu'))\n",
    "model1.add(keras.layers.Dense(1, activation='sigmoid')) \n",
    "\n",
    "model1.summary()"
   ]
  },
  {
   "cell_type": "markdown",
   "metadata": {},
   "source": [
    "##### epoch = 2 일때"
   ]
  },
  {
   "cell_type": "code",
   "execution_count": 30,
   "metadata": {},
   "outputs": [
    {
     "name": "stdout",
     "output_type": "stream",
     "text": [
      "Epoch 1/2\n",
      "266/266 [==============================] - 8s 29ms/step - loss: 0.4042 - accuracy: 0.8074 - val_loss: 0.3293 - val_accuracy: 0.8590\n",
      "Epoch 2/2\n",
      "266/266 [==============================] - 7s 28ms/step - loss: 0.3041 - accuracy: 0.8710 - val_loss: 0.3156 - val_accuracy: 0.8630\n"
     ]
    }
   ],
   "source": [
    "model1.compile(optimizer='adam',\n",
    "              loss='binary_crossentropy',\n",
    "              metrics=['accuracy'])\n",
    "              \n",
    "epochs=2  \n",
    "\n",
    "history1 = model1.fit(partial_X_train,\n",
    "                     partial_y_train,\n",
    "                     epochs=epochs,\n",
    "                     batch_size=512,\n",
    "                     validation_data=(X_val, y_val),\n",
    "                     verbose=1)"
   ]
  },
  {
   "cell_type": "markdown",
   "metadata": {},
   "source": [
    "# 모델 1 최종결과"
   ]
  },
  {
   "cell_type": "code",
   "execution_count": 31,
   "metadata": {},
   "outputs": [
    {
     "name": "stdout",
     "output_type": "stream",
     "text": [
      "1537/1537 - 6s - loss: 0.3282 - accuracy: 0.8569\n",
      "[0.3282223641872406, 0.8568667769432068]\n"
     ]
    }
   ],
   "source": [
    "results1 = model1.evaluate(X_test,  y_test, verbose=2)\n",
    "\n",
    "print(results1)"
   ]
  },
  {
   "cell_type": "markdown",
   "metadata": {
    "id": "mz4I38w7TzVA"
   },
   "source": [
    "#### 3) 모델 2"
   ]
  },
  {
   "cell_type": "code",
   "execution_count": 32,
   "metadata": {
    "id": "i1opiwqJTzs4"
   },
   "outputs": [
    {
     "name": "stdout",
     "output_type": "stream",
     "text": [
      "(10000, 16)\n"
     ]
    }
   ],
   "source": [
    "embedding_layer2 = model2.layers[0]\n",
    "weights2 = embedding_layer2.get_weights()[0]\n",
    "print(weights2.shape)    "
   ]
  },
  {
   "cell_type": "markdown",
   "metadata": {},
   "source": [
    "##### 모델다시쌓기"
   ]
  },
  {
   "cell_type": "code",
   "execution_count": 33,
   "metadata": {},
   "outputs": [
    {
     "name": "stdout",
     "output_type": "stream",
     "text": [
      "Model: \"sequential_5\"\n",
      "_________________________________________________________________\n",
      "Layer (type)                 Output Shape              Param #   \n",
      "=================================================================\n",
      "embedding_5 (Embedding)      (None, None, 16)          160000    \n",
      "_________________________________________________________________\n",
      "global_max_pooling1d_3 (Glob (None, 16)                0         \n",
      "_________________________________________________________________\n",
      "dense_10 (Dense)             (None, 8)                 136       \n",
      "_________________________________________________________________\n",
      "dense_11 (Dense)             (None, 1)                 9         \n",
      "=================================================================\n",
      "Total params: 160,145\n",
      "Trainable params: 160,145\n",
      "Non-trainable params: 0\n",
      "_________________________________________________________________\n"
     ]
    }
   ],
   "source": [
    "model2 = keras.Sequential()\n",
    "model2.add(keras.layers.Embedding(vocab_size, word_vector_dim, input_shape=(None,)))\n",
    "model2.add(keras.layers.GlobalMaxPooling1D())\n",
    "model2.add(keras.layers.Dense(8, activation='relu'))\n",
    "model2.add(keras.layers.Dense(1, activation='sigmoid'))  \n",
    "\n",
    "model2.summary()"
   ]
  },
  {
   "cell_type": "markdown",
   "metadata": {},
   "source": [
    "##### epoch = 3 일때"
   ]
  },
  {
   "cell_type": "code",
   "execution_count": 34,
   "metadata": {},
   "outputs": [
    {
     "name": "stdout",
     "output_type": "stream",
     "text": [
      "Epoch 1/3\n",
      "266/266 [==============================] - 1s 4ms/step - loss: 0.5769 - accuracy: 0.7356 - val_loss: 0.4237 - val_accuracy: 0.8286\n",
      "Epoch 2/3\n",
      "266/266 [==============================] - 1s 4ms/step - loss: 0.3738 - accuracy: 0.8427 - val_loss: 0.3542 - val_accuracy: 0.8437\n",
      "Epoch 3/3\n",
      "266/266 [==============================] - 1s 4ms/step - loss: 0.3231 - accuracy: 0.8638 - val_loss: 0.3451 - val_accuracy: 0.8496\n"
     ]
    }
   ],
   "source": [
    "model2.compile(optimizer='adam',\n",
    "              loss='binary_crossentropy',\n",
    "               metrics=['accuracy'])\n",
    "              \n",
    "epochs=3 \n",
    "\n",
    "history2 = model2.fit(partial_X_train,\n",
    "                     partial_y_train,\n",
    "                     epochs=epochs,\n",
    "                     batch_size=512,\n",
    "                     validation_data=(X_val, y_val),\n",
    "                     verbose=1)"
   ]
  },
  {
   "cell_type": "markdown",
   "metadata": {},
   "source": [
    "# 모델 2 최종결과"
   ]
  },
  {
   "cell_type": "code",
   "execution_count": 35,
   "metadata": {},
   "outputs": [
    {
     "name": "stdout",
     "output_type": "stream",
     "text": [
      "1537/1537 - 2s - loss: 0.3591 - accuracy: 0.8423\n",
      "[0.3590756058692932, 0.8423418998718262]\n"
     ]
    }
   ],
   "source": [
    "results2 = model2.evaluate(X_test,  y_test, verbose=2)\n",
    "\n",
    "print(results2)"
   ]
  },
  {
   "cell_type": "markdown",
   "metadata": {},
   "source": [
    "## 8. gensim의 유사단어 찾기를 활용하여 자체학습한 임베딩과 사전학습 임베딩 비교하기\n",
    "\n",
    "### 1-1) 자체학습 word_vector를 파일에 기록하기"
   ]
  },
  {
   "cell_type": "code",
   "execution_count": 36,
   "metadata": {},
   "outputs": [],
   "source": [
    "import os\n",
    " \n",
    "word2vec_file_path = os.getenv('HOME')+'/aiffel/sentiment_classification/word2vec.txt'\n",
    "f = open(word2vec_file_path, 'w')\n",
    "f.write('{} {}\\n'.format(vocab_size-4, word_vector_dim)) \n",
    "\n",
    "vectors = model.get_weights()[0]\n",
    "for i in range(4,vocab_size):\n",
    "    f.write('{} {}\\n'.format(index_to_word[i], ' '.join(map(str, list(vectors[i, :])))))\n",
    "f.close()"
   ]
  },
  {
   "cell_type": "markdown",
   "metadata": {},
   "source": [
    "### 1-2) 자체학습 '사랑'이란 단어 word_vector 확인"
   ]
  },
  {
   "cell_type": "code",
   "execution_count": 37,
   "metadata": {},
   "outputs": [
    {
     "data": {
      "text/plain": [
       "array([ 0.05193673,  0.03213548, -0.13550033, -0.10654616,  0.12061486,\n",
       "       -0.12672207, -0.1552918 ,  0.08532712, -0.05959034,  0.06892931,\n",
       "        0.11422092, -0.11012135, -0.07107305,  0.08158287, -0.07295217,\n",
       "        0.12409806], dtype=float32)"
      ]
     },
     "execution_count": 37,
     "metadata": {},
     "output_type": "execute_result"
    }
   ],
   "source": [
    "from gensim.models.keyedvectors import Word2VecKeyedVectors\n",
    "\n",
    "word_vectors = Word2VecKeyedVectors.load_word2vec_format(word2vec_file_path, binary=False)\n",
    "vector = word_vectors['사랑']\n",
    "vector"
   ]
  },
  {
   "cell_type": "markdown",
   "metadata": {},
   "source": [
    "### 1-3) 자체학습 '재미'라는 단어 유사도 찾기"
   ]
  },
  {
   "cell_type": "code",
   "execution_count": 38,
   "metadata": {},
   "outputs": [
    {
     "data": {
      "text/plain": [
       "[('이것', 0.7326077818870544),\n",
       " ('생활', 0.7290607690811157),\n",
       " ('창고', 0.706815242767334),\n",
       " ('조', 0.7066009640693665),\n",
       " ('\"\"', 0.6798052191734314),\n",
       " ('살해', 0.675998866558075),\n",
       " ('옆', 0.668594241142273),\n",
       " ('복습', 0.668001651763916),\n",
       " ('가방', 0.6677492260932922),\n",
       " ('아닌가', 0.6579674482345581)]"
      ]
     },
     "execution_count": 38,
     "metadata": {},
     "output_type": "execute_result"
    }
   ],
   "source": [
    "word_vectors.similar_by_word(\"재미\")"
   ]
  },
  {
   "cell_type": "markdown",
   "metadata": {},
   "source": [
    "### 2-1) 사전학습 '사랑'라는  word_vector 확인"
   ]
  },
  {
   "cell_type": "code",
   "execution_count": 39,
   "metadata": {},
   "outputs": [
    {
     "data": {
      "text/plain": [
       "array([ 7.2242e-02, -6.9223e-02,  2.6350e-01,  2.6930e-02,  2.7465e-01,\n",
       "       -5.7484e-02,  1.1657e-01, -1.0736e-01,  2.6542e-01, -1.5600e-01,\n",
       "        4.8601e-01,  6.3728e-01,  5.7949e-01,  2.1420e-01, -3.2206e-02,\n",
       "       -9.1503e-03,  2.0928e-01, -8.1857e-02, -2.6783e-01, -2.5602e-01,\n",
       "        1.4733e-01,  4.5259e-01,  3.6965e-01,  2.4644e-01, -4.4918e-02,\n",
       "       -6.7232e-02,  3.1724e-02,  3.3469e-01,  2.6623e-01, -1.1605e-01,\n",
       "       -1.5161e-02,  1.0318e-01,  1.4193e-01, -7.9796e-02,  1.5111e-02,\n",
       "        1.0474e-01, -2.3739e-01, -1.1473e-01, -5.4767e-02,  8.9843e-02,\n",
       "        3.1133e-01,  3.2850e-01,  9.2288e-02, -1.3007e-01, -4.7345e-01,\n",
       "       -4.1861e-01, -2.1817e-01, -1.6687e-02,  3.4634e-01,  1.1898e-01,\n",
       "        2.5232e-01,  5.3454e-03,  9.8491e-02,  1.4123e-01,  2.8660e-02,\n",
       "       -1.1567e-01,  5.5575e-01, -1.4759e-01,  2.7344e-01, -2.9719e-01,\n",
       "        7.8230e-02, -2.1698e-01, -1.9905e-01,  3.0314e-01, -4.5031e-02,\n",
       "        1.6996e-01, -3.5892e-01, -2.6847e-01,  1.4510e-01, -2.0968e-01,\n",
       "       -1.1155e-01, -2.4789e-01,  7.3840e-02, -1.5958e-01, -5.4518e-01,\n",
       "       -2.1918e-01,  4.6502e-01, -4.5190e-01, -3.0823e-02, -5.2310e-02,\n",
       "       -3.0539e-01, -3.2815e-01,  4.9398e-01, -6.1352e-02,  3.5518e-01,\n",
       "       -3.2516e-02, -2.5340e-01,  9.9453e-02, -3.8745e-01,  2.8348e-01,\n",
       "        2.0849e-01,  3.5381e-01,  4.9125e-01,  2.0817e-01, -1.6912e-01,\n",
       "       -1.7050e-01, -3.3246e-01, -2.8901e-02, -3.5438e-02, -6.2448e-01,\n",
       "        2.0265e-01, -3.1291e-01,  2.6814e-01, -1.7607e-02, -7.5575e-02,\n",
       "       -3.5508e-01,  2.6724e-02, -2.9611e-01, -2.8780e-01, -1.5216e-01,\n",
       "       -1.6836e-02,  1.6816e-02,  4.3019e-01, -3.3865e-02, -3.1984e-01,\n",
       "        2.1714e-01,  5.7882e-02, -5.3531e-02,  2.3571e-01,  1.6869e-01,\n",
       "        5.7575e-02, -1.8389e-01,  1.4210e-01, -4.0831e-02, -2.1561e-01,\n",
       "       -7.0739e-02, -9.4748e-02,  6.9231e-02, -1.1031e-01,  6.3621e-02,\n",
       "        4.0665e-01, -1.0841e-01,  1.3543e-01,  3.1294e-01, -6.0529e-03,\n",
       "       -1.6539e-01, -3.2659e-01,  4.8248e-03,  1.1890e-01, -1.0454e-01,\n",
       "       -2.0947e-01, -1.3760e-01, -1.9147e-01, -1.0139e-01,  2.7186e-01,\n",
       "       -7.4093e-02,  4.4072e-01,  3.1493e-01,  8.2520e-02,  1.4896e-01,\n",
       "       -1.9173e-01,  3.0816e-01, -3.1060e-01, -1.9823e-01, -4.9816e-02,\n",
       "       -2.6061e-01, -5.0265e-02, -7.9298e-02, -1.5639e-01, -5.8595e-02,\n",
       "       -9.3044e-02,  1.3687e-01, -1.3375e-01,  5.3847e-02,  2.5587e-01,\n",
       "        9.5366e-03,  1.9998e-01, -1.1988e-01,  1.4942e-01, -2.1318e-01,\n",
       "        1.3337e-04, -1.8778e-01, -1.7056e-01, -1.8550e-01,  2.6642e-01,\n",
       "        2.6330e-01,  1.9200e-01,  4.5847e-01,  2.3541e-01, -2.1610e-01,\n",
       "        7.4057e-02, -2.8515e-01, -1.7574e-01,  9.6531e-02,  1.9998e-01,\n",
       "        1.0503e-01,  6.4972e-02, -4.4216e-02,  2.6575e-01, -7.3315e-02,\n",
       "       -1.9885e-01, -1.3322e-01,  2.9249e-01,  3.5137e-01,  9.2284e-02,\n",
       "        1.4890e-01,  6.4545e-02,  8.2889e-02, -3.0227e-02,  5.7437e-02],\n",
       "      dtype=float32)"
      ]
     },
     "execution_count": 39,
     "metadata": {},
     "output_type": "execute_result"
    }
   ],
   "source": [
    "from gensim.models import KeyedVectors\n",
    "word2vec_path = os.getenv('HOME')+'/aiffel/sentiment_classification/ko.vec'\n",
    "word2vec = KeyedVectors.load_word2vec_format(word2vec_path, binary=False, limit=1000000)\n",
    "vector = word2vec['사랑']\n",
    "vector     "
   ]
  },
  {
   "cell_type": "markdown",
   "metadata": {},
   "source": [
    "### 2-2) 사전학습 '재미'라는 단어 유사도 찾기"
   ]
  },
  {
   "cell_type": "code",
   "execution_count": 40,
   "metadata": {},
   "outputs": [
    {
     "data": {
      "text/plain": [
       "[('재미있', 0.54170823097229),\n",
       " ('흥미', 0.5022858381271362),\n",
       " ('한국인', 0.5001272559165955),\n",
       " ('교포', 0.48998966813087463),\n",
       " ('재밌', 0.45642775297164917),\n",
       " ('팬클럽', 0.44300568103790283),\n",
       " ('동포', 0.4352205991744995),\n",
       " ('공감', 0.43383824825286865),\n",
       " ('인기도', 0.43197959661483765),\n",
       " ('유머', 0.43098777532577515)]"
      ]
     },
     "execution_count": 40,
     "metadata": {},
     "output_type": "execute_result"
    }
   ],
   "source": [
    "word2vec.similar_by_word(\"재미\")"
   ]
  },
  {
   "cell_type": "markdown",
   "metadata": {
    "id": "epbThMluT0GG"
   },
   "source": [
    "## 9. 한국어 Word2Vec 임베딩 활용하여 성능개선\n",
    "\n",
    "### 1) 어휘사전 구축"
   ]
  },
  {
   "cell_type": "code",
   "execution_count": 41,
   "metadata": {
    "id": "EXRy5bJfT0kl"
   },
   "outputs": [],
   "source": [
    "vocab_size = 10000    \n",
    "word_vector_dim = 200  \n",
    "\n",
    "embedding_matrix = np.random.rand(vocab_size, word_vector_dim)\n",
    "\n",
    "for i in range(4,vocab_size):\n",
    "    if index_to_word[i] in word2vec:\n",
    "        embedding_matrix[i] = word2vec[index_to_word[i]]"
   ]
  },
  {
   "cell_type": "markdown",
   "metadata": {
    "id": "al2REm0QT1BZ"
   },
   "source": [
    "### 2) 모델 구성 후 카피한 임베딩 활용!"
   ]
  },
  {
   "cell_type": "code",
   "execution_count": 42,
   "metadata": {
    "id": "hLy55D4xT1YG"
   },
   "outputs": [
    {
     "name": "stdout",
     "output_type": "stream",
     "text": [
      "Model: \"sequential_6\"\n",
      "_________________________________________________________________\n",
      "Layer (type)                 Output Shape              Param #   \n",
      "=================================================================\n",
      "embedding_6 (Embedding)      (None, 41, 200)           2000000   \n",
      "_________________________________________________________________\n",
      "conv1d_4 (Conv1D)            (None, 35, 1024)          1434624   \n",
      "_________________________________________________________________\n",
      "max_pooling1d_2 (MaxPooling1 (None, 7, 1024)           0         \n",
      "_________________________________________________________________\n",
      "conv1d_5 (Conv1D)            (None, 1, 512)            3670528   \n",
      "_________________________________________________________________\n",
      "global_max_pooling1d_4 (Glob (None, 512)               0         \n",
      "_________________________________________________________________\n",
      "dense_12 (Dense)             (None, 128)               65664     \n",
      "_________________________________________________________________\n",
      "dense_13 (Dense)             (None, 1)                 129       \n",
      "=================================================================\n",
      "Total params: 7,170,945\n",
      "Trainable params: 7,170,945\n",
      "Non-trainable params: 0\n",
      "_________________________________________________________________\n"
     ]
    }
   ],
   "source": [
    "from tensorflow.keras.initializers import Constant\n",
    "\n",
    "vocab_size = 10000    \n",
    "word_vector_dim = 200  \n",
    "\n",
    "\n",
    "model = keras.Sequential()\n",
    "model.add(keras.layers.Embedding(vocab_size, \n",
    "                                 word_vector_dim, \n",
    "                                 embeddings_initializer=Constant(embedding_matrix),  \n",
    "                                 input_length=maxlen, \n",
    "                                 trainable=True))  \n",
    "model.add(keras.layers.Conv1D(1024, 7, activation='relu'))\n",
    "model.add(keras.layers.MaxPooling1D(5))\n",
    "model.add(keras.layers.Conv1D(512, 7, activation='relu'))\n",
    "model.add(keras.layers.GlobalMaxPooling1D())\n",
    "model.add(keras.layers.Dense(128, activation='relu'))\n",
    "model.add(keras.layers.Dense(1, activation='sigmoid')) \n",
    "\n",
    "model.summary()"
   ]
  },
  {
   "cell_type": "markdown",
   "metadata": {
    "id": "ALyZzCx7T1pf"
   },
   "source": [
    "### 3) 학습의 진행"
   ]
  },
  {
   "cell_type": "code",
   "execution_count": 43,
   "metadata": {
    "id": "axzw9Un6T16R",
    "scrolled": true
   },
   "outputs": [
    {
     "name": "stdout",
     "output_type": "stream",
     "text": [
      "Epoch 1/8\n",
      "266/266 [==============================] - 21s 80ms/step - loss: 0.4810 - accuracy: 0.7567 - val_loss: 0.3626 - val_accuracy: 0.8432\n",
      "Epoch 2/8\n",
      "266/266 [==============================] - 17s 63ms/step - loss: 0.3299 - accuracy: 0.8580 - val_loss: 0.3337 - val_accuracy: 0.8576\n",
      "Epoch 3/8\n",
      "266/266 [==============================] - 16s 61ms/step - loss: 0.2865 - accuracy: 0.8797 - val_loss: 0.3257 - val_accuracy: 0.8601\n",
      "Epoch 4/8\n",
      "266/266 [==============================] - 17s 62ms/step - loss: 0.2364 - accuracy: 0.9051 - val_loss: 0.3442 - val_accuracy: 0.8512\n",
      "Epoch 5/8\n",
      "266/266 [==============================] - 16s 62ms/step - loss: 0.1867 - accuracy: 0.9274 - val_loss: 0.3890 - val_accuracy: 0.8540\n",
      "Epoch 6/8\n",
      "266/266 [==============================] - 17s 65ms/step - loss: 0.1425 - accuracy: 0.9461 - val_loss: 0.4574 - val_accuracy: 0.8497\n",
      "Epoch 7/8\n",
      "266/266 [==============================] - 17s 62ms/step - loss: 0.1091 - accuracy: 0.9600 - val_loss: 0.5238 - val_accuracy: 0.8455\n",
      "Epoch 8/8\n",
      "266/266 [==============================] - 16s 61ms/step - loss: 0.0916 - accuracy: 0.9668 - val_loss: 0.5603 - val_accuracy: 0.8400\n"
     ]
    }
   ],
   "source": [
    "model.compile(optimizer='adam',\n",
    "              loss='binary_crossentropy',\n",
    "             metrics=['accuracy'])\n",
    "              \n",
    "epochs=8  \n",
    "\n",
    "history = model.fit(partial_X_train,\n",
    "                    partial_y_train,\n",
    "                    epochs=epochs,\n",
    "                    batch_size=512,\n",
    "                    validation_data=(X_val, y_val),\n",
    "                    verbose=1)"
   ]
  },
  {
   "cell_type": "markdown",
   "metadata": {},
   "source": [
    "### 4) epoch에 따른 그래프를 그려볼 수 있는 항목들"
   ]
  },
  {
   "cell_type": "code",
   "execution_count": 44,
   "metadata": {},
   "outputs": [
    {
     "name": "stdout",
     "output_type": "stream",
     "text": [
      "dict_keys(['loss', 'accuracy', 'val_loss', 'val_accuracy'])\n"
     ]
    }
   ],
   "source": [
    "history_dict = history.history\n",
    "print(history_dict.keys()) "
   ]
  },
  {
   "cell_type": "markdown",
   "metadata": {},
   "source": [
    "### 5) loss와 accuracy 그래프화"
   ]
  },
  {
   "cell_type": "code",
   "execution_count": 45,
   "metadata": {},
   "outputs": [
    {
     "data": {
      "image/png": "[encoded data removed]",
      "text/plain": [
       "<Figure size 432x288 with 1 Axes>"
      ]
     },
     "metadata": {
      "needs_background": "light"
     },
     "output_type": "display_data"
    },
    {
     "data": {
      "image/png": "[encoded data removed]",
      "text/plain": [
       "<Figure size 432x288 with 1 Axes>"
      ]
     },
     "metadata": {
      "needs_background": "light"
     },
     "output_type": "display_data"
    }
   ],
   "source": [
    "import matplotlib.pyplot as plt\n",
    "plt.clf()\n",
    "\n",
    "\n",
    "# loss\n",
    "\n",
    "acc = history_dict['accuracy']\n",
    "val_acc = history_dict['val_accuracy']\n",
    "loss = history_dict['loss']\n",
    "val_loss = history_dict['val_loss']\n",
    "\n",
    "epochs = range(1, len(acc) + 1)\n",
    "\n",
    "plt.plot(epochs, loss, 'bo', label='Training loss')\n",
    "plt.plot(epochs, val_loss, 'b', label='Validation loss')\n",
    "plt.title('Training and validation loss')\n",
    "plt.xlabel('Epochs')\n",
    "plt.ylabel('Loss')\n",
    "plt.legend()\n",
    "\n",
    "plt.show()\n",
    "\n",
    "# accuracy\n",
    "\n",
    "plt.plot(epochs, acc, 'bo', label='Training acc')\n",
    "plt.plot(epochs, val_acc, 'b', label='Validation acc')\n",
    "plt.title('Training and validation accuracy')\n",
    "plt.xlabel('Epochs')\n",
    "plt.ylabel('Accuracy')\n",
    "plt.legend()\n",
    "\n",
    "plt.show()\n"
   ]
  },
  {
   "cell_type": "markdown",
   "metadata": {},
   "source": [
    "Epoch = 4일때 Training Loss와 Validation Loss가 둘 다 감소함을 확인  => 7에서 정확도 다시 확인\n",
    "\n",
    "### 6) 학습된 Embedding 레이어 분석"
   ]
  },
  {
   "cell_type": "code",
   "execution_count": 46,
   "metadata": {},
   "outputs": [
    {
     "name": "stdout",
     "output_type": "stream",
     "text": [
      "(10000, 200)\n"
     ]
    }
   ],
   "source": [
    "embedding_layer = model.layers[0]\n",
    "weights = embedding_layer.get_weights()[0]\n",
    "print(weights.shape)   "
   ]
  },
  {
   "cell_type": "markdown",
   "metadata": {},
   "source": [
    "##### 모델다시쌓기"
   ]
  },
  {
   "cell_type": "code",
   "execution_count": 47,
   "metadata": {},
   "outputs": [
    {
     "name": "stdout",
     "output_type": "stream",
     "text": [
      "Model: \"sequential_7\"\n",
      "_________________________________________________________________\n",
      "Layer (type)                 Output Shape              Param #   \n",
      "=================================================================\n",
      "embedding_7 (Embedding)      (None, 41, 200)           2000000   \n",
      "_________________________________________________________________\n",
      "conv1d_6 (Conv1D)            (None, 35, 1024)          1434624   \n",
      "_________________________________________________________________\n",
      "max_pooling1d_3 (MaxPooling1 (None, 7, 1024)           0         \n",
      "_________________________________________________________________\n",
      "conv1d_7 (Conv1D)            (None, 1, 512)            3670528   \n",
      "_________________________________________________________________\n",
      "global_max_pooling1d_5 (Glob (None, 512)               0         \n",
      "_________________________________________________________________\n",
      "dense_14 (Dense)             (None, 128)               65664     \n",
      "_________________________________________________________________\n",
      "dense_15 (Dense)             (None, 1)                 129       \n",
      "=================================================================\n",
      "Total params: 7,170,945\n",
      "Trainable params: 7,170,945\n",
      "Non-trainable params: 0\n",
      "_________________________________________________________________\n"
     ]
    }
   ],
   "source": [
    "from tensorflow.keras.initializers import Constant\n",
    "\n",
    "vocab_size = 10000    \n",
    "word_vector_dim = 200  \n",
    "\n",
    "\n",
    "model = keras.Sequential()\n",
    "model.add(keras.layers.Embedding(vocab_size, \n",
    "                                 word_vector_dim, \n",
    "                                 embeddings_initializer=Constant(embedding_matrix),  \n",
    "                                 input_length=maxlen, \n",
    "                                 trainable=True))  \n",
    "model.add(keras.layers.Conv1D(1024, 7, activation='relu'))\n",
    "model.add(keras.layers.MaxPooling1D(5))\n",
    "model.add(keras.layers.Conv1D(512, 7, activation='relu'))\n",
    "model.add(keras.layers.GlobalMaxPooling1D())\n",
    "model.add(keras.layers.Dense(128, activation='relu'))\n",
    "model.add(keras.layers.Dense(1, activation='sigmoid')) \n",
    "\n",
    "model.summary()"
   ]
  },
  {
   "cell_type": "markdown",
   "metadata": {},
   "source": [
    "###### epoch = 3일때"
   ]
  },
  {
   "cell_type": "code",
   "execution_count": 48,
   "metadata": {},
   "outputs": [
    {
     "name": "stdout",
     "output_type": "stream",
     "text": [
      "Epoch 1/3\n",
      "266/266 [==============================] - 17s 63ms/step - loss: 0.4957 - accuracy: 0.7519 - val_loss: 0.3513 - val_accuracy: 0.8419\n",
      "Epoch 2/3\n",
      "266/266 [==============================] - 17s 63ms/step - loss: 0.3321 - accuracy: 0.8567 - val_loss: 0.3267 - val_accuracy: 0.8559\n",
      "Epoch 3/3\n",
      "266/266 [==============================] - 17s 63ms/step - loss: 0.2890 - accuracy: 0.8785 - val_loss: 0.3256 - val_accuracy: 0.8587\n"
     ]
    }
   ],
   "source": [
    "model.compile(optimizer='adam',\n",
    "              loss='binary_crossentropy',\n",
    "             metrics=['accuracy'])\n",
    "              \n",
    "epochs=3  \n",
    "\n",
    "history = model.fit(partial_X_train,\n",
    "                    partial_y_train,\n",
    "                    epochs=epochs,\n",
    "                    batch_size=512,\n",
    "                    validation_data=(X_val, y_val),\n",
    "                    verbose=1)"
   ]
  },
  {
   "cell_type": "markdown",
   "metadata": {},
   "source": [
    "# 한국어 word2vec 모델 최종결과"
   ]
  },
  {
   "cell_type": "code",
   "execution_count": 49,
   "metadata": {},
   "outputs": [
    {
     "name": "stdout",
     "output_type": "stream",
     "text": [
      "1537/1537 - 5s - loss: 0.3414 - accuracy: 0.8518\n",
      "[0.3413662910461426, 0.8518217206001282]\n"
     ]
    }
   ],
   "source": [
    "results = model.evaluate(X_test,  y_test, verbose=2)\n",
    "\n",
    "print(results)"
   ]
  },
  {
   "cell_type": "markdown",
   "metadata": {},
   "source": [
    "### 1) 회고\n",
    "- 느낀점\n",
    "처음에 데이터 로더를 구성하는데 있어서 예시답안이 있는줄 모르고 매우 헤매었다.\n",
    "며칠을 고생하다가 팀방에서 얘기를 나눠보니 데이터 로더 예시답안이 있다는 것을 알게 되었다.\n",
    "이미 흥미가 떨어진 상태에서 해야한다는 압박만 남은채 진행하여 개인적으로 매우 힘든 노드였다.\n",
    "\n",
    "<br/>\n",
    "\n",
    "- Load_data부분의 어려움\n",
    "아직까지 이 부분을 혼자서 코딩으로 설계하기에는 어려운 것 같다. 함수 안에 들어가 있는 개별적인 부분들을 나눠서 진행하는 것은 어느정도 성공 하였으나 (결측값제거 및 중복제거 등등) 하나로 합쳐서 함수로 하는 과정이 어려웠다. 또한, 이 과정을 제대로 이해하지 못한 부분이 있었던 것 같다.\n",
    "\n",
    "<br/>\n",
    "\n",
    "- 한국어 word2vec 파일 다운받고 불러오기의 어려움\n",
    "직접 만드신 분의 github에서 다운 받으려고 하니 어떤 파일을 다운을 받아야 하는지 어려웠다. 하지만, 여러 나라의 단어들로 구성된 것 중 한국어로 된 것들만 전부 다운 받아서 분석하여 알 수 있었다. 어렵다고 생각해서 멈추는 것이 아니라 직접 행동으로 옮겨야 할 때가 있음을 알 수 있었다.\n",
    "\n",
    "### 2) 분석\n",
    "- 앞선 3개의 모델 분석\n",
    "    - 모델 0은 RNN에서 가장 흔히 LSTM을 활용하여 분석하였다. epoch가 4일 때 training loss와 validation loss가 최소였다. 이때의 Accuray를 구하기 위해 모델을 다시 적합하고 실행하였다. 그 결과 Accuracy 값이 최종적으로 0.8467가 나왔다.\n",
    "    - 모델 1은 CNN을 활용하여 분석하였다. epoch가 2일 때 training loss와 validation loss가 최소였다. 이때의 Accuray를 구하기 위해 모델을 다시 적합하고 실행하였다. 그 결과 Accuracy 값이 최종적으로 0.8569가 나왔다.\n",
    "    - 모델 2는 CNN에서 GlobalMaxPooling1D()인 방법을 활용하여 분석하였다. epoch가 3일 때 training loss와 validation loss가 최소였다. 이때의 Accuray를 구하기 위해 모델을 다시 적합하고 실행하였다. 그 결과 Accuracy 값이 최종적으로 0.8423가 나왔다.\n",
    "    \n",
    "- 임베딩 레이어를 한국어 word2vec의 것으로 교체한 모델 분석\n",
    "    - 모델 1(동일한 조건이나 에서 확인한 것)을 활용하여 분석하였다. epoch가 4일 때 training loss와 validation loss가 최소였다. 이때의 Accuray를 구하기 위해 모델을 다시 적합하고 실행하였다. 그 결과 Accuracy 값이 최종적으로 0.8518가 나왔다.\n",
    "    \n",
    "- 최종 분석\n",
    "    - 모델 1과 임베딩 레이어를 한국어 word2vec의 것으로 교체한 모델이나 같은 모델의 조건을 활용하였으나 예상과 달리 모델 1의 accuracy가 더 높았다. 이는 영화리뷰라는 특수한 상황에서는 word2vec을 활용하기보다 영화리뷰 자체로 만든 것을 활용하는 것이 좀 더 좋을 것 같다는 생각을 하였다.\n",
    "\n",
    "    \n",
    "    \n",
    "### 3) 루브릭\n",
    "- 다양한 방법으로 Text Classification 태스크를 성공적으로 구현하였다.\n",
    "    - 3가지 이상의 모델이 성공적으로 시도됨 (4번 ~ 7번 확인)\n",
    "- gensim을 활용하여 자체학습된 혹은 사전학습된 임베딩 레이어를 분석하였다.\n",
    "    - gensim의 유사단어 찾기를 활용하여 자체학습한 임베딩과 사전학습 임베딩을 적절히 분석함 (8번 확인)\n",
    "- 한국어 Word2Vec을 활용하여 가시적인 성능향상을 달성했다.\n",
    "    - 네이버 영화리뷰 데이터 감성분석 정확도를 85% 이상 달성함 (9번 확인)\n",
    "\n",
    "\n",
    "\n",
    "\n",
    "\n"
   ]
  },
  {
   "cell_type": "code",
   "execution_count": null,
   "metadata": {},
   "outputs": [],
   "source": []
  }
 ],
 "metadata": {
  "accelerator": "GPU",
  "colab": {
   "collapsed_sections": [],
   "name": "[E4]project-movie_review_sentiment_Analysis.ipynb",
   "provenance": []
  },
  "kernelspec": {
   "display_name": "Python 3",
   "language": "python",
   "name": "python3"
  },
  "language_info": {
   "codemirror_mode": {
    "name": "ipython",
    "version": 3
   },
   "file_extension": ".py",
   "mimetype": "text/x-python",
   "name": "python",
   "nbconvert_exporter": "python",
   "pygments_lexer": "ipython3",
   "version": "3.7.9"
  }
 },
 "nbformat": 4,
 "nbformat_minor": 1
}
